{
 "nbformat": 4,
 "nbformat_minor": 0,
 "metadata": {
  "colab": {
   "name": "main.ipynb",
   "provenance": [],
   "collapsed_sections": [],
   "toc_visible": true
  },
  "kernelspec": {
   "display_name": "Python 3",
   "language": "python",
   "name": "python3"
  },
  "language_info": {
   "codemirror_mode": {
    "name": "ipython",
    "version": 2
   },
   "file_extension": ".py",
   "mimetype": "text/x-python",
   "name": "python",
   "nbconvert_exporter": "python",
   "pygments_lexer": "ipython2",
   "version": "2.7.6"
  }
 },
 "cells": [
  {
   "cell_type": "markdown",
   "metadata": {
    "collapsed": false,
    "id": "_RTasmaUQsnX"
   },
   "source": [
    "# Milestone 3\n",
    "\n",
    "Stephanie Eordanidis.\n",
    "Ravjot Sachdev,\n",
    "Jackson Taber\n",
    "\n",
    "Syracuse University : College of Engineering & Computer Science\n",
    "\n",
    "223 Link Hall, Syracuse, NY 13244\n",
    "\n",
    "sleordan@syr.edu, rssachde@syr.edu, jrtaber@syr.edu\n",
    "\n",
    "CIS 700 Machine Learning and Security\n",
    "\n",
    "06/16/2021\n"
   ]
  },
  {
   "cell_type": "markdown",
   "metadata": {
    "collapsed": false,
    "id": "2saP1Da3Qsnf"
   },
   "source": [
    "## Theme:\n",
    " “Adversarial Text Generation: Adversarial Machine Learning Applications in Text Analysis”"
   ]
  },
  {
   "cell_type": "markdown",
   "metadata": {
    "collapsed": false,
    "id": "M443L_l7Qsng"
   },
   "source": [
    "## Purpose:\n",
    "The purpose of this lab is to add three new GAN metrics to the project space and successfully run them on the GAN used in previous milestones."
   ]
  },
  {
   "cell_type": "markdown",
   "metadata": {
    "collapsed": false,
    "id": "Bsrl-QKhQsnh"
   },
   "source": [
    "## Project:\n",
    "Texygen is the name of the project selected. This project is a benchmarking tool that aids in text generation model research and testing. This tool allows for ease of various model testing to compare accuracy and synthetic data generation of models using same training baseline."
   ]
  },
  {
   "cell_type": "markdown",
   "metadata": {
    "collapsed": false,
    "id": "YmXaOJ8AQsni"
   },
   "source": [
    "## (Hard/Soft)ware:\n",
    "**Google Colaboratory**\t\thttps://colab.research.google.com/\n",
    "\n",
    "**GPU**                     Python 3 Google Compute Engine backend\n",
    "\n",
    "**Github**                  https://github.com/eordanis/CIS-700/"
   ]
  },
  {
   "cell_type": "markdown",
   "metadata": {
    "collapsed": false,
    "id": "QGtxblBCQsni"
   },
   "source": [
    "## Resources:\n",
    "**Original Source:** \t\thttps://github.com/geek-ai/Texygen\n",
    "\n",
    "**Modified Sources Acquired:** \t2SU Course Files Section -> Texygenmaster_Python_3.6.zip"
   ]
  },
  {
   "cell_type": "markdown",
   "metadata": {
    "collapsed": false,
    "id": "kolVF4c9Qsnj"
   },
   "source": [
    "## Data:\n",
    "The data for the selected project is setup as follows:\n",
    "\n",
    "•\tGenerated data training: 5000 word and 20 sentence count\n",
    "\n",
    "•\tOracle data generation: 10,000 sentence generation\n",
    "\n",
    "•\tReal data training:\n",
    "\n",
    "\n",
    "*   image_coco : 20,000 sentences chosen from the image\n",
    " *   COCO captions data. 10,000 of which are used as training set while other 10,000 used as test set\n",
    "\n",
    "*   eapoe : 266 sentences\n",
    " *  eapoe : 266 sentences Compiled from various Edgar Allan Po Poems found on referenced poem sight  [4]."
   ]
  },
  {
   "cell_type": "markdown",
   "metadata": {
    "collapsed": false,
    "id": "tnT5EoDoQsnk"
   },
   "source": [
    "## Modifications:\n",
    " To begin, the modified source code acquired from the 2SU application was further modified to combine the original intention of the origin source authors as well as professor modification. If no arguments are passed, all models/data are run.\n",
    " > **Note**: The order or model generation is done by first iterating over the GAN model type, then data type. If arguments are passed, those arguments will be validated and run accordingly to run a more targeted model test.\n",
    "\n",
    " Modifications were applied to eliminate much library warnings and informational messages as to keep output as clean as possible. File path naming was updated to be compliant with Google Colaboratory environment. All epoch time elapse console printing has been commented out for cleaner output reading.\n",
    "\n",
    " Additional modifications applied to this milestone were as follows:\n",
    " * Restructure of project for ease of use, updating of paths as needed\n",
    " * Redirect model output to the /save directory of the main project level instead of model level. Naming of output was also ensure to be unique\n",
    " * Three new GAN models were added to this project space\n",
    "\n"
   ]
  },
  {
   "cell_type": "markdown",
   "metadata": {
    "collapsed": false,
    "id": "BlSdA9AHQsnk"
   },
   "source": [
    "## Setup:\n",
    "Due to the heft of processor/gpu usage, it was deemed necessary to run the project in the Google Colaboratory. Original attempt to run was done via Pycharm IDE Professional Edition with Anaconda derived environments, however this proved too great of a strain on the accessible workstation."
   ]
  },
  {
   "cell_type": "markdown",
   "metadata": {
    "collapsed": false,
    "id": "s8H8-PlvQsnk"
   },
   "source": [
    "### Step 1\n",
    "A new Google Colaboratory workspace was setup, titled “Milestone2”. This workspace was run using the hosted runtime environment. This document is the current document being read.\n",
    "\n",
    "In order to run against provided code base, it was necessary to sync the colab workspace the github repository files as follows\n",
    "\n",
    "```\n",
    "!git clone https://$GITHUB_AUTH@github.com/eordanis/CIS-700/\n",
    "```\n",
    "\n",
    "Running this command from the first cell in the workbook syncs the drive to the github repo location of project location, as well as change to the necessary directory"
   ]
  },
  {
   "cell_type": "code",
   "metadata": {
    "id": "7jPNtvoeQsnl"
   },
   "source": [
    "!git clone https://$GITHUB_AUTH@github.com/eordanis/CIS-700_clone/\n",
    "%cd CIS-700_clone"
   ],
   "execution_count": null,
   "outputs": []
  },
  {
   "cell_type": "markdown",
   "metadata": {
    "collapsed": false,
    "id": "aJ-ge5jqQsno"
   },
   "source": [
    "### Step 2\n",
    "Now it was necessary to import and download any missing libraries the hosted colaborartoy runtime did not have readily available via the following commands:\n",
    "```\n",
    "            !pip install -r \"requirements.txt\"\n",
    "            import nltk\n",
    "            nltk.download('punkt')\n",
    "```\n",
    "Running this command from the next cell in the workbook installed the necessary libraries and at specified versions for the project.\n"
   ]
  },
  {
   "cell_type": "code",
   "metadata": {
    "id": "MO2DlrxDQsno"
   },
   "source": [
    "!pip install -r \"requirements.txt\"\n",
    "import nltk\n",
    "nltk.download('punkt')"
   ],
   "execution_count": null,
   "outputs": []
  },
  {
   "cell_type": "markdown",
   "metadata": {
    "collapsed": false,
    "id": "-Rp_zaP5Qsnp"
   },
   "source": [
    "### Step 3\n",
    "Now it is time to run the application. Below are two examples of commands to run the application.\n",
    "```\n",
    "!python3 \"main.py\"\n",
    "```\n",
    "This first command was run without parameters. In the case of this command, all trainings (SeqGAN, Gsgan, TextganMmd, Leakgan, Rankgan, Maligan, Mle) were run on all available defaulted training data (oracle LSTM, real data, CFG). Running this command can take around 2+ hours to complete.\n",
    "\n",
    "```\n",
    "!python3 \"main.py\" -g seqgan -t real\n",
    "```\n",
    "\n",
    "This second command was run with parameters. In the case of this command, main was run with SeqGAN training on image_coco. Running targeted trainings take less time to run, on average completing in 5-15 minutes depending on selected parameters. With the above selection, runtime was run above 10 minutes.\n",
    "\n",
    "```\n",
    "!python3 \"main.py\" -g seqgan -t real  -d data/eapoe.txt\n",
    "```\n",
    "\n",
    "This third command was run with parameters. In the case of this command, main was run with SeqGAN training on eapoe. Running targeted trainings take less time to run, on average completing in 5-15 minutes depending on selected parameters. With the above selection, runtime was run above 10 minutes.\n",
    "\n",
    "> **NOTE:** For above estimates, based around 5 epochs. Additionally, CFG training appears to have stopped working suddenly, unsure why broken. Therefore running without that option for the time being. Additionally, the LeakGan model failed entirely to run now due to flag errors, so this model was discarded from testing.\n"
   ]
  },
  {
   "cell_type": "markdown",
   "metadata": {
    "collapsed": false,
    "id": "f9iJu3UIQsnp"
   },
   "source": [
    "## Process\n",
    "\n",
    "When running the various models, there are similar steps for each.\n",
    "1.\tBeginning Training – begin model training(s)\n",
    "2.\tSet training - sets the desired model training method\n",
    "3.\tStart model pre-train generator – uses the training data to pre-train the generator model\n",
    "4.\tStart model pre-train discriminator - – uses the training data to pre-train the discriminator model\n",
    "5.\tModel adversarial training – runs the model to generate results based on the test data and metrics applied\n",
    "6.\tFinish Training – end of model training(s)\n",
    "\n",
    "During training, each model training runs through several passes or epochs. For simplicity, base epoch is set to 5, with model training running thrice for 15 total epochs there abouts for each model trained on a particular data set.\n"
   ]
  },
  {
   "cell_type": "markdown",
   "metadata": {
    "collapsed": false,
    "id": "Olz1GYmaQsnp"
   },
   "source": [
    "## Metrics\n",
    "\n",
    "**Abbreviations:**\n",
    "*   BLEU \t- BiLingual Evaluation Understudy\n",
    "*   GAN \t- Generative Adversarial Network\n",
    "*   NLL \t- Negative Log-Likelihood\n",
    "*   RL\t- Reinforcement Learning\n",
    "\n",
    "**Definitions**\n",
    "*   EmbSim – influenced by BLEU, used instead to compare the word embeddings vs BLEU’s comparison of word similarity between two sentences or documents.\n",
    "*   NLL-oracle : applied to synthetic data to determine fitting via oracle language model standards.\n",
    "*   NLL-test : dual to NLL-Oracle, used to determine a model’s capability to fit to real test data\n",
    "\n",
    "These measurement standards and more are discussed in the project directory’s “/docs/evaluation.md” location.\n"
   ]
  },
  {
   "cell_type": "markdown",
   "metadata": {
    "collapsed": false,
    "id": "wbTurK39Qsnq"
   },
   "source": [
    "## Baseline Models\n",
    "\n",
    " For this report, the TextGAN and SeqGAN models were run on oracle and real training types in the previous project milestone and will be used as the baseline for new model comparisons. The real training types essentially runs the data against the image_coco.txt caption data. The TextGAN and SeqGAN was developed by the source project team to improve on existing GAN networks.\n",
    "\n",
    " With regards to TextGan, the goal of this model is to generate high quality realistic synthetic data while overcoming the convergence dilemma by using a generator that runs as a long short-term memory network and its discriminator a convolutional network. By matching high-dimension laten feature distributions of the testing and training data, this model over longer epochs has shown demonstrate a higher performance in quantitative evaluation, showing the TextGAN model can produce sentences that appear to have been written by a human, and not AI generated.\n",
    "\n",
    " For the SeqGAN model, this also proved successful in generating realistic looking sentences via this generator process. A second model was selected for comparison purposes. SeqGAN’s generator is based off the reinforcement learning stochastic policy, allowing SeqGAN to performing gradient policy update in order to circumvent differentiation issues in the generation. Its discriminator is run on complete sentences, and its results used as the reinforcement learning reward signal. According to source authors, this model boasted higher performance over others run."
   ]
  },
  {
   "cell_type": "markdown",
   "metadata": {
    "collapsed": false,
    "id": "a5Us2aDIIlQC"
   },
   "source": [
    "## New Models\n",
    "\n",
    "### **CGAN** - Conditional Generative Adversarial Network\n",
    "\n",
    "Conditional adversarial network, or CGAN for short, is a basic modification of GAN that simply adds an additional layer that conditions both the descriminator and generator model layers. For this labs purposes, an existing GAN model was used as the base, and in both the Generator and Discriminator an embedded layer was incorporated as the first layer, used as the conditioning layer. For the sake of specificity, this GAN could actually be considered an CGSGAN, however for simplicity we will refer to is as simply CGAN.\n",
    "\n",
    "### **INFOGAN**\n",
    "\n",
    "InfoGan is an adjusted simple version of GAN that seeks to maximize the mutual information of a fixed subset of GAN noise varaibles. It is able to achieve this by having numerous convolution layers added to a regular implemtation of a GAN that are connected at the end, this makes the additional cost of computation low. For the use of this lab an existing GAN was used as the base and the convolution layers were added and connected at the end. \n",
    "\n",
    "### **DCGAN**\n",
    "\n",
    "Deep convolutional generative adversarial networks (DCGANs) are a class of convolutional networks (CNNs) \n",
    "aimed to incorporate unsupervised learning. Some key components of the DCGAN architecture are the use of the Tanh activation function for the generator's output layer, LeakyReLU activation in the discriminator, and the removal of any fully connected hidden layers. With these features, the original study conducted was able to create a robust DCGAN, achieving an 82.8% accuracy on the on the CIFAR-10 image dataset."
   ]
  },
  {
   "cell_type": "markdown",
   "metadata": {
    "collapsed": false,
    "id": "KkTxDWRTQsnq"
   },
   "source": [
    "## Testing\n",
    "\n",
    " Epochs were increased left to run at 5 for the sake of time. However, it is noted that as according to original project sourcing, >= 45 epochs for the models display the best NLL loss results on epochs > 40, prior to that point results would be poorer. NLL loss values are indicated to be better the lower they are, so if these values trend downward, the models are improving. For EmbeddedSimilarity, higher values are desired for better results."
   ]
  },
  {
   "cell_type": "markdown",
   "metadata": {
    "collapsed": false,
    "id": "IQQn8V-8Qsnq"
   },
   "source": [
    "### CGAN\n",
    "The following commands are to run CGAN model on both oracle and real trainings.\n",
    "\n",
    "**NOTE:** The real data essentially trained the model on the eapoe.txt data.\n",
    "```\n",
    "!python3 \"main.py\" -g cgan -t oracle\n",
    "!python3 \"main.py\" -g cgan -t real\n",
    "```"
   ]
  },
  {
   "cell_type": "code",
   "metadata": {
    "colab": {
     "base_uri": "https://localhost:8080/"
    },
    "id": "p0dEpH0EQsnr",
    "outputId": "c7ce72bb-cf69-4213-8ff0-58d8742ed501"
   },
   "source": [
    "!python3 \"main.py\" -g cgan -t oracle -d data/eapoe.txt"
   ],
   "execution_count": null,
   "outputs": [
    {
     "output_type": "stream",
     "text": [
      "******** Beginning Training ********\n",
      "set training\n",
      "oracle\n",
      "start pre-train generator:\n",
      "nll-oracle\n",
      "nll-test\n",
      "EmbeddingSimilarity\n",
      "nll-oracle\n",
      "nll-test\n",
      "EmbeddingSimilarity\n",
      "epoch:1\tnll-oracle:10.365934\tnll-test:7.9890027\tEmbeddingSimilarity:-0.13264132064913894\t\n",
      "start pre-train discriminator:\n",
      "adversarial training:\n",
      "nll-oracle\n",
      "nll-test\n",
      "EmbeddingSimilarity\n",
      "epoch:6\tnll-oracle:14.836451\tnll-test:7.8124366\tEmbeddingSimilarity:-0.12899664793612048\t\n",
      "nll-oracle\n",
      "nll-test\n",
      "EmbeddingSimilarity\n",
      "epoch:10\tnll-oracle:9.709798\tnll-test:8.105871\tEmbeddingSimilarity:-0.13109438098499476\t\n",
      "******** Completed Training ********\n",
      "\n"
     ],
     "name": "stdout"
    }
   ]
  },
  {
   "cell_type": "markdown",
   "metadata": {
    "collapsed": false,
    "id": "cvjMNcBLQsnr"
   },
   "source": [
    "####Oracle Output\n",
    "As we can see from the output above, over several loopthroughs, or epochs, the accuracy of the nll oracle and test values varied but appeared to having an upward trend in accuracy over epoch runs when running CGAN with oracle training. However, it is noted the embedded fell over time during the runs.\n",
    "For training, it would yield better results to run higher epochs, such as 40, however for testing sake only 5 were run.\n",
    "\n",
    "**Best Values**\n",
    "\n",
    "*   NLL-oracle:             9.709798               @epoch 10\n",
    "*   NLL-test:               7.8124366              @epoch 6\n",
    "*   EmbeddingSimilarity:    -0.12899664793612       @epoch 6"
   ]
  },
  {
   "cell_type": "code",
   "metadata": {
    "colab": {
     "base_uri": "https://localhost:8080/"
    },
    "id": "7Hn4zHOuQsnr",
    "outputId": "f22e2ef4-5c3c-4eb0-93b3-e3e53c98f240"
   },
   "source": [
    "!python3 \"main.py\" -g cgan -t real -d data/eapoe.txt"
   ],
   "execution_count": null,
   "outputs": [
    {
     "output_type": "stream",
     "text": [
      "******** Beginning Training ********\n",
      "set training\n",
      "real\n",
      "start pre-train generator:\n",
      "EmbeddingSimilarity\n",
      "nll-test\n",
      "EmbeddingSimilarity\n",
      "nll-test\n",
      "epoch:1\tEmbeddingSimilarity:-0.3257110872329447\tnll-test:6.7118287\t\n",
      "start pre-train discriminator:\n",
      "adversarial training:\n",
      "EmbeddingSimilarity\n",
      "nll-test\n",
      "epoch:6\tEmbeddingSimilarity:-0.31586988051879566\tnll-test:6.359037\t\n",
      "EmbeddingSimilarity\n",
      "nll-test\n",
      "epoch:10\tEmbeddingSimilarity:-0.08581189503085304\tnll-test:7.1510878\t\n",
      "******** Completed Training ********\n",
      "\n"
     ],
     "name": "stdout"
    }
   ]
  },
  {
   "cell_type": "markdown",
   "metadata": {
    "collapsed": false,
    "id": "ecR1k-ptQsns"
   },
   "source": [
    "####Real Output\n",
    "As we can see from the output above, over several loopthroughs, or epochs, the accuracy of the nll values are also increase when running CGAN with real training. However, it is noted the embedded similarity fell over the course of the run. This indicates to us that the test_text.txt data generated should have closer similarity to the original eapoe.txt data file used to train the models.\n",
    "\n",
    "For training, it would yield better results to run higher epochs, such as 40, however for testing sake only 5 were run.\n",
    "\n",
    "**Best Values**\n",
    "\n",
    "*   NLL-test:                6.359037              @epoch 6\n",
    "*   EmbeddingSimilarity:    -0.085812              @epoch 10"
   ]
  },
  {
   "cell_type": "markdown",
   "metadata": {
    "collapsed": false,
    "id": "jYknSMAkQsns"
   },
   "source": [
    "### INFOGAN\n",
    "The following commands are to run INFOGAN model on both oracle and real trainings.\n",
    "\n",
    "> **NOTE:** The real data essentially trained the model on the eapoe.txt data.\n",
    "```\n",
    "!python3 \"main.py\" -g infogan -t oracle\n",
    "!python3 \"main.py\" -g infogan -t real\n",
    "```"
   ]
  },
  {
   "cell_type": "code",
   "metadata": {
    "colab": {
     "base_uri": "https://localhost:8080/"
    },
    "id": "8XK9faFoQsnt",
    "outputId": "e1db37b6-e971-4816-a6ce-152e8c7bd5b7"
   },
   "source": [
    "!python3 \"main.py\" -g infogan -t oracle -d data/eapoe.txt"
   ],
   "execution_count": null,
   "outputs": [
    {
     "output_type": "stream",
     "text": [
      "******** Beginning Training ********\n",
      "set training\n",
      "oracle\n",
      "start pre-train generator:\n",
      "nll-oracle\n",
      "nll-test\n",
      "EmbeddingSimilarity\n",
      "epoch:1\tnll-oracle:10.742874\tnll-test:7.5933557\tEmbeddingSimilarity:-0.20757322466063718\t\n",
      "start pre-train discriminator:\n",
      "adversarial training:\n",
      "nll-oracle\n",
      "nll-test\n",
      "EmbeddingSimilarity\n",
      "epoch:6\tnll-oracle:10.20413\tnll-test:7.031268\tEmbeddingSimilarity:-0.20769521678846775\t\n",
      "nll-oracle\n",
      "nll-test\n",
      "EmbeddingSimilarity\n",
      "epoch:10\tnll-oracle:10.124441\tnll-test:7.0572867\tEmbeddingSimilarity:-0.20052312845326598\t\n",
      "******** Completed Training ********\n",
      "\n"
     ],
     "name": "stdout"
    }
   ]
  },
  {
   "cell_type": "markdown",
   "metadata": {
    "collapsed": false,
    "id": "dZQXB5V2Qsnt"
   },
   "source": [
    "#### Oracle Output\n",
    "As we can see from the output above, over several loopthroughs, or epochs, the accuracy of the nll oracle and test values varied but leaned toward improvment when running INFOGAN with oracle training. Additionally, it is noted the embedded similarity is improving as well.\n",
    "\n",
    "For training, it would yield better results to run higher epochs, such as 40, however for testing sake only 5 were run.\n",
    "\n",
    "**Best Values**\n",
    "\n",
    "*   NLL-oracle:             10.124441             @epoch 10\n",
    "*   NLL-test:               7.031268              @epoch 6\n",
    "*   EmbeddingSimilarity:    -0.20052312845326598  @epoch 10"
   ]
  },
  {
   "cell_type": "code",
   "metadata": {
    "colab": {
     "base_uri": "https://localhost:8080/"
    },
    "id": "AvEehdQSQsnt",
    "outputId": "b6c8d8f0-c94a-476c-fe13-1eb9c1563759"
   },
   "source": [
    "!python3 \"main.py\" -g infogan -t real -d data/eapoe.txt"
   ],
   "execution_count": null,
   "outputs": [
    {
     "output_type": "stream",
     "text": [
      "******** Beginning Training ********\n",
      "set training\n",
      "real\n",
      "start pre-train generator:\n",
      "EmbeddingSimilarity\n",
      "nll-test\n",
      "epoch:1\tEmbeddingSimilarity:-1.1401053379158488\tnll-test:6.035058\t\n",
      "start pre-train discriminator:\n",
      "adversarial training:\n",
      "112.52452\n",
      "EmbeddingSimilarity\n",
      "nll-test\n",
      "epoch:6\tEmbeddingSimilarity:-0.7430809801654519\tnll-test:3.865037\t\n",
      "33.357517\n",
      "68.59142\n",
      "68.35573\n",
      "97.11515\n",
      "EmbeddingSimilarity\n",
      "nll-test\n",
      "epoch:10\tEmbeddingSimilarity:-0.7305529035011096\tnll-test:4.139575\t\n",
      "******** Completed Training ********\n",
      "\n"
     ],
     "name": "stdout"
    }
   ]
  },
  {
   "cell_type": "markdown",
   "metadata": {
    "collapsed": false,
    "id": "HTEmkScQQsnt"
   },
   "source": [
    "#### Real Output\n",
    "As we can see from the output above, over several loopthroughs, or epochs, the accuracy of the nll values are also increase when running INFOGAN with real training. Additionally, it is noted the embedded similarity is improving as well. This indicates to us that the test_text.txt data generated should have closer similarity to the original eapoe.txt data file used to train the models.\n",
    "\n",
    "For training, it would yield better results to run higher epochs, such as 40, however for testing sake only 5 were run.\n",
    "\n",
    "\n",
    "**Best Values**\n",
    "\n",
    "*   NLL-test:               3.865037\t           @epoch 6\n",
    "*   EmbeddingSimilarity:    -0.7305529035011096  @epoch 10"
   ]
  },
  {
   "cell_type": "markdown",
   "metadata": {
    "collapsed": false,
    "id": "l8dzmnc8IlQG"
   },
   "source": [
    "### DCGAN\n",
    "The following commands are to run DCGAN model on both oracle and real trainings.\n",
    "\n",
    "> **NOTE:** The real data essentially trained the model on the eapoe.txt data.\n",
    "```\n",
    "!python3 \"main.py\" -g dcgan -t oracle\n",
    "!python3 \"main.py\" -g dcgan -t real\n",
    "```"
   ]
  },
  {
   "cell_type": "code",
   "metadata": {
    "colab": {
     "base_uri": "https://localhost:8080/"
    },
    "id": "8QFnuHB7IlQG",
    "outputId": "96e627cc-c43b-4c30-a85d-855ff697dfe1"
   },
   "source": [
    "!python3 \"main.py\" -g dcgan -t oracle"
   ],
   "execution_count": 4,
   "outputs": [
    {
     "output_type": "stream",
     "text": [
      "******** Beginning Training ********\n",
      "Results output directory location set: results/\n",
      "Epochs Set: 5\n",
      "set training\n",
      "oracle\n",
      "start pre-train generator:\n",
      "nll-oracle\n",
      "nll-test\n",
      "EmbeddingSimilarity\n",
      "epoch:1\tnll-oracle:10.742414\tnll-test:7.593365\tEmbeddingSimilarity:-0.20974108289176666\t\n",
      "start pre-train discriminator:\n",
      "adversarial training:\n",
      "nll-oracle\n",
      "nll-test\n",
      "EmbeddingSimilarity\n",
      "epoch:6\tnll-oracle:10.2014675\tnll-test:7.0312963\tEmbeddingSimilarity:-0.21080628049965836\t\n",
      "nll-oracle\n",
      "nll-test\n",
      "EmbeddingSimilarity\n",
      "epoch:10\tnll-oracle:10.112749\tnll-test:7.0586023\tEmbeddingSimilarity:-0.20422852256494423\t\n",
      "******** Completed Training ********\n",
      "\n"
     ],
     "name": "stdout"
    }
   ]
  },
  {
   "cell_type": "markdown",
   "metadata": {
    "collapsed": false,
    "id": "hsF9XI26IlQG"
   },
   "source": [
    "#### Oracle Output\n",
    "As we can see from the output above, over several loopthroughs, or epochs, the accuracy of the nll oracle and test values varied but leaned toward improvment when running DCGAN with oracle training. Additionally, it is noted the embedded similarity is improving as well.\n",
    "\n",
    "For training, it would yield better results to run higher epochs, such as 40, however for testing sake only 5 were run.\n",
    "\n",
    "**Best Values**\n",
    "\n",
    "*   NLL-oracle:             10.112749             @epoch 10\n",
    "*   NLL-test:               7.0312963              @epoch 6\n",
    "*   EmbeddingSimilarity:    -0.20422852256494423    @epoch 6"
   ]
  },
  {
   "cell_type": "code",
   "metadata": {
    "colab": {
     "base_uri": "https://localhost:8080/"
    },
    "id": "pL13US0yIlQG",
    "outputId": "342b3ec5-2d8e-48d2-8c79-42d039223fb0"
   },
   "source": [
    "!python3 \"main.py\" -g dcgan -t real -d data/eapoe.txt"
   ],
   "execution_count": 5,
   "outputs": [
    {
     "output_type": "stream",
     "text": [
      "******** Beginning Training ********\n",
      "Results output directory location set: results/\n",
      "Epochs Set: 5\n",
      "set training\n",
      "real\n",
      "start pre-train generator:\n",
      "EmbeddingSimilarity\n",
      "nll-test\n",
      "epoch:1\tEmbeddingSimilarity:-1.1492291574337352\tnll-test:6.0749707\t\n",
      "start pre-train discriminator:\n",
      "adversarial training:\n",
      "EmbeddingSimilarity\n",
      "nll-test\n",
      "epoch:6\tEmbeddingSimilarity:-0.8131079287120885\tnll-test:4.1213984\t\n",
      "EmbeddingSimilarity\n",
      "nll-test\n",
      "epoch:10\tEmbeddingSimilarity:-0.7482284949507192\tnll-test:4.258227\t\n",
      "******** Completed Training ********\n",
      "\n"
     ],
     "name": "stdout"
    }
   ]
  },
  {
   "cell_type": "markdown",
   "metadata": {
    "collapsed": false,
    "id": "Me3Ufhn9IlQH"
   },
   "source": [
    "#### Real Output\n",
    "As we can see from the output above, over several loopthroughs, or epochs, the accuracy of the nll values are also increase when running DCGAN with real training. Additionally, it is noted the embedded similarity is improving as well. This indicates to us that the test_text.txt data generated should have closer similarity to the original eapoe.txt data file used to train the models.\n",
    "\n",
    "For training, it would yield better results to run higher epochs, such as 40, however for testing sake only 5 were run.\n",
    "\n",
    "\n",
    "**Best Values**\n",
    "\n",
    "*   NLL-test:               4.1213984\t           @epoch 6\n",
    "*   EmbeddingSimilarity:    -0.7482284949507192  @epoch 10"
   ]
  },
  {
   "cell_type": "markdown",
   "metadata": {
    "id": "2d1A0bIHf-Uc"
   },
   "source": [
    "## Results Comparision\n",
    "\n",
    "Below sections are broken down into Data and Visual Representations of the results testing of models."
   ]
  },
  {
   "cell_type": "markdown",
   "metadata": {
    "collapsed": false,
    "id": "2szMid1RQsnu"
   },
   "source": [
    "### Data Representation\n",
    "\n",
    "#### Oracle Data\n",
    " When comparing oracle data metrics between the two models baseline modes and three newly implemented models, the results are as follows:\n",
    "\n",
    "**TextGAN Best Values**\n",
    "\n",
    "*   NLL-oracle:             11.898141             @epoch 10\n",
    "*   NLL-test:               36.785576             @epoch 6\n",
    "*   EmbeddingSimilarity:    -0.198190311710986    @epoch 1\n",
    "\n",
    "**SeqGAN Best Values**\n",
    "\n",
    "*   NLL-oracle:             10.114458             @epoch 10\n",
    "*   NLL-test:               7.031317              @epoch 6\n",
    "*   EmbeddingSimilarity:    -0.207636699321102    @epoch 10\n",
    "\n",
    "**CGAN Best Values**\n",
    "\n",
    "*   NLL-oracle:             9.709798             @epoch 10\n",
    "*   NLL-test:               7.8124366              @epoch 6\n",
    "*   EmbeddingSimilarity:    -0.12899664793612       @epoch 6\n",
    "\n",
    "**INFOGAN Best Values**\n",
    "\n",
    "*   NLL-oracle:             10.124441             @epoch 10\n",
    "*   NLL-test:               7.031268              @epoch 6\n",
    "*   EmbeddingSimilarity:    -0.20052312845326598  @epoch 10\n",
    "\n",
    "**DCGAN Best Values**\n",
    "\n",
    "*   NLL-oracle:             10.112749             @epoch 10\n",
    "*   NLL-test:               7.0312963              @epoch 6\n",
    "*   EmbeddingSimilarity:    -0.20422852256494423    @epoch 6\n",
    "\n",
    "#### Real Data\n",
    "When comparing real data metrics between the two models baseline modes and three newly implemented models, the results are as follows:\n",
    "\n",
    "**TextGAN Best Values**\n",
    "\n",
    "*   NLL-test:               37.6404             @epoch 10\n",
    "*   EmbeddingSimilarity:    -0.369170747866734  @epoch 1\n",
    "\n",
    "**SeqGAN Best Values**\n",
    "\n",
    "*   NLL-test:               3.4653516\t           @epoch 10\n",
    "*   EmbeddingSimilarity:    0.510576256396731  @epoch 10\n",
    "\n",
    "**CGAN Best Values**\n",
    "\n",
    "*   NLL-test:                6.359037              @epoch 6\n",
    "*   EmbeddingSimilarity:    -0.085812              @epoch 10\n",
    "\n",
    "**INFOGAN Best Values**\n",
    "\n",
    "*   NLL-test:               3.865037\t           @epoch 6\n",
    "*   EmbeddingSimilarity:    -0.7305529035011096  @epoch 10\n",
    "\n",
    "**DCGAN Best Values**\n",
    "\n",
    "*   NLL-test:               4.1213984\t           @epoch 6\n",
    "*   EmbeddingSimilarity:    -0.7482284949507192  @epoch 10\n",
    "\n",
    "Here we will take a look at the first 15 lines of the real data files, both training/test [eapoe.txt / test_eapoe.txt] and synthetic data generation from the model labeled test_file.txt"
   ]
  },
  {
   "cell_type": "markdown",
   "metadata": {
    "collapsed": false,
    "id": "redoZwxfIlQH"
   },
   "source": [
    "### Visual Representation\n",
    "This sections provides a more visual representation of results and comparative data"
   ]
  },
  {
   "cell_type": "code",
   "metadata": {
    "colab": {
     "base_uri": "https://localhost:8080/",
     "height": 721
    },
    "id": "WesgrwLAJSOJ",
    "outputId": "1b46ba31-cffb-4d81-9e17-56aeac2dc987"
   },
   "source": [
    "import utils.visual as vis\n",
    "\n",
    "vis.display_synth_data()\n"
   ],
   "execution_count": 4,
   "outputs": [
    {
     "output_type": "display_data",
     "data": {
      "text/html": [
       "<style  type=\"text/css\" >\n",
       "</style><table id=\"T_ffe08a0c_b356_11eb_adb8_0242ac1c0002\" style='display:inline'><thead>    <tr>        <th class=\"blank level0\" ></th>        <th class=\"col_heading level0 col0\" >textgan real Synth Data</th>    </tr></thead><tbody>\n",
       "                <tr>\n",
       "                        <th id=\"T_ffe08a0c_b356_11eb_adb8_0242ac1c0002level0_row0\" class=\"row_heading level0 row0\" >0</th>\n",
       "                        <td id=\"T_ffe08a0c_b356_11eb_adb8_0242ac1c0002row0_col0\" class=\"data row0 col0\" >depth dirges dirges haunted- footfalls bust footfalls thee- followed stately footfalls footfalls yore- mortal louder footfalls footfalls cushion gently dirges gently dirges </td>\n",
       "            </tr>\n",
       "            <tr>\n",
       "                        <th id=\"T_ffe08a0c_b356_11eb_adb8_0242ac1c0002level0_row1\" class=\"row_heading level0 row1\" >1</th>\n",
       "                        <td id=\"T_ffe08a0c_b356_11eb_adb8_0242ac1c0002row1_col0\" class=\"data row1 col0\" >for lies curious denser curious cushion curious ember curious further denser ember grim ! ember burning sorrow- laden ! grave laden stately </td>\n",
       "            </tr>\n",
       "            <tr>\n",
       "                        <th id=\"T_ffe08a0c_b356_11eb_adb8_0242ac1c0002level0_row2\" class=\"row_heading level0 row2\" >2</th>\n",
       "                        <td id=\"T_ffe08a0c_b356_11eb_adb8_0242ac1c0002row2_col0\" class=\"data row2 col0\" >yore- whether footfalls yore- lies lies our sent echo sorrow- 't visitor ebony sorrow- plutonian plainly sorrow- bust 'never- sorrow- meaning- surcease </td>\n",
       "            </tr>\n",
       "            <tr>\n",
       "                        <th id=\"T_ffe08a0c_b356_11eb_adb8_0242ac1c0002level0_row3\" class=\"row_heading level0 row3\" >3</th>\n",
       "                        <td id=\"T_ffe08a0c_b356_11eb_adb8_0242ac1c0002row3_col0\" class=\"data row3 col0\" >silken shore- parting sent footfalls yore- curtain yore- gently yore- louder haunted- gently answer answer answer than utters lady for for for </td>\n",
       "            </tr>\n",
       "            <tr>\n",
       "                        <th id=\"T_ffe08a0c_b356_11eb_adb8_0242ac1c0002level0_row4\" class=\"row_heading level0 row4\" >4</th>\n",
       "                        <td id=\"T_ffe08a0c_b356_11eb_adb8_0242ac1c0002row4_col0\" class=\"data row4 col0\" >yore- him footfalls ebony above sorrow- been gently hesitating ember 'never- 'never- to hesitating lady autumn sorrow- ebony echo help grim ashore </td>\n",
       "            </tr>\n",
       "    </tbody></table><hr style=\"width: 900px; margin-left:0;\"><style  type=\"text/css\" >\n",
       "</style><table id=\"T_ffe38838_b356_11eb_adb8_0242ac1c0002\" style='display:inline'><thead>    <tr>        <th class=\"blank level0\" ></th>        <th class=\"col_heading level0 col0\" >seqgan real Synth Data</th>    </tr></thead><tbody>\n",
       "                <tr>\n",
       "                        <th id=\"T_ffe38838_b356_11eb_adb8_0242ac1c0002level0_row0\" class=\"row_heading level0 row0\" >0</th>\n",
       "                        <td id=\"T_ffe38838_b356_11eb_adb8_0242ac1c0002row0_col0\" class=\"data row0 col0\" >nameless which sky stormy bore- explore heaven gently press louder lov his flirt , </td>\n",
       "            </tr>\n",
       "            <tr>\n",
       "                        <th id=\"T_ffe38838_b356_11eb_adb8_0242ac1c0002level0_row1\" class=\"row_heading level0 row1\" >1</th>\n",
       "                        <td id=\"T_ffe38838_b356_11eb_adb8_0242ac1c0002row1_col0\" class=\"data row1 col0\" >before- silence now press doubtless is quit made distant of chamber -- did and </td>\n",
       "            </tr>\n",
       "            <tr>\n",
       "                        <th id=\"T_ffe38838_b356_11eb_adb8_0242ac1c0002level0_row2\" class=\"row_heading level0 row2\" >2</th>\n",
       "                        <td id=\"T_ffe38838_b356_11eb_adb8_0242ac1c0002row2_col0\" class=\"data row2 col0\" >stock countenance black burning rustling throws explore lent he word of above sought by </td>\n",
       "            </tr>\n",
       "            <tr>\n",
       "                        <th id=\"T_ffe38838_b356_11eb_adb8_0242ac1c0002level0_row3\" class=\"row_heading level0 row3\" >3</th>\n",
       "                        <td id=\"T_ffe38838_b356_11eb_adb8_0242ac1c0002row3_col0\" class=\"data row3 col0\" >divining scarcely by him explore implore- countenance reclining is : dreary answer `` not </td>\n",
       "            </tr>\n",
       "            <tr>\n",
       "                        <th id=\"T_ffe38838_b356_11eb_adb8_0242ac1c0002level0_row4\" class=\"row_heading level0 row4\" >4</th>\n",
       "                        <td id=\"T_ffe38838_b356_11eb_adb8_0242ac1c0002row4_col0\" class=\"data row4 col0\" >off sinking but plume burned bust same thy fearing perfumed now countenance i `` me </td>\n",
       "            </tr>\n",
       "    </tbody></table><hr style=\"width: 900px; margin-left:0;\"><style  type=\"text/css\" >\n",
       "</style><table id=\"T_ffe6cd2c_b356_11eb_adb8_0242ac1c0002\" style='display:inline'><thead>    <tr>        <th class=\"blank level0\" ></th>        <th class=\"col_heading level0 col0\" >dcgan real Synth Data</th>    </tr></thead><tbody>\n",
       "                <tr>\n",
       "                        <th id=\"T_ffe6cd2c_b356_11eb_adb8_0242ac1c0002level0_row0\" class=\"row_heading level0 row0\" >0</th>\n",
       "                        <td id=\"T_ffe6cd2c_b356_11eb_adb8_0242ac1c0002row0_col0\" class=\"data row0 col0\" >dreams discourse and , binds my straight stock : i and leave raven this i placid . above evermore </td>\n",
       "            </tr>\n",
       "            <tr>\n",
       "                        <th id=\"T_ffe6cd2c_b356_11eb_adb8_0242ac1c0002level0_row1\" class=\"row_heading level0 row1\" >1</th>\n",
       "                        <td id=\"T_ffe6cd2c_b356_11eb_adb8_0242ac1c0002row1_col0\" class=\"data row1 col0\" >hope doubting 'never- lamp-light was scarcely nevermore depth i thing drawn more on by gently friends bird flying decorum stormy </td>\n",
       "            </tr>\n",
       "            <tr>\n",
       "                        <th id=\"T_ffe6cd2c_b356_11eb_adb8_0242ac1c0002level0_row2\" class=\"row_heading level0 row2\" >2</th>\n",
       "                        <td id=\"T_ffe6cd2c_b356_11eb_adb8_0242ac1c0002row2_col0\" class=\"data row2 col0\" >shorn ? lies lamp-light volume sitting ; evermore a blessed syllable my , sky dying by : laden : childhood </td>\n",
       "            </tr>\n",
       "            <tr>\n",
       "                        <th id=\"T_ffe6cd2c_b356_11eb_adb8_0242ac1c0002level0_row3\" class=\"row_heading level0 row3\" >3</th>\n",
       "                        <td id=\"T_ffe6cd2c_b356_11eb_adb8_0242ac1c0002row3_col0\" class=\"data row3 col0\" >many chamber that shorn unhappy ; sent still ; a . '' respite ; alone ! my </td>\n",
       "            </tr>\n",
       "            <tr>\n",
       "                        <th id=\"T_ffe6cd2c_b356_11eb_adb8_0242ac1c0002level0_row4\" class=\"row_heading level0 row4\" >4</th>\n",
       "                        <td id=\"T_ffe6cd2c_b356_11eb_adb8_0242ac1c0002row4_col0\" class=\"data row4 col0\" >out relevancy a for nightly dreary that is this my syllable -- me- my till thinking implore the </td>\n",
       "            </tr>\n",
       "    </tbody></table><hr style=\"width: 900px; margin-left:0;\"><style  type=\"text/css\" >\n",
       "</style><table id=\"T_ffe9e6ce_b356_11eb_adb8_0242ac1c0002\" style='display:inline'><thead>    <tr>        <th class=\"blank level0\" ></th>        <th class=\"col_heading level0 col0\" >infogan real Synth Data</th>    </tr></thead><tbody>\n",
       "                <tr>\n",
       "                        <th id=\"T_ffe9e6ce_b356_11eb_adb8_0242ac1c0002level0_row0\" class=\"row_heading level0 row0\" >0</th>\n",
       "                        <td id=\"T_ffe9e6ce_b356_11eb_adb8_0242ac1c0002row0_col0\" class=\"data row0 col0\" >terrors censer streaming that spring a nodded suddenly never door- further . my , -- dream chamber </td>\n",
       "            </tr>\n",
       "            <tr>\n",
       "                        <th id=\"T_ffe9e6ce_b356_11eb_adb8_0242ac1c0002level0_row1\" class=\"row_heading level0 row1\" >1</th>\n",
       "                        <td id=\"T_ffe9e6ce_b356_11eb_adb8_0242ac1c0002row1_col0\" class=\"data row1 col0\" >plume head reply shall human echo lightning only vainly taken what curtain broken nearly whether out evil . get lenore- </td>\n",
       "            </tr>\n",
       "            <tr>\n",
       "                        <th id=\"T_ffe9e6ce_b356_11eb_adb8_0242ac1c0002level0_row2\" class=\"row_heading level0 row2\" >2</th>\n",
       "                        <td id=\"T_ffe9e6ce_b356_11eb_adb8_0242ac1c0002row2_col0\" class=\"data row2 col0\" >could being shadow these of him bird the ; velvet that implore fancy a distant evil there you expressing lov drawn </td>\n",
       "            </tr>\n",
       "            <tr>\n",
       "                        <th id=\"T_ffe9e6ce_b356_11eb_adb8_0242ac1c0002level0_row3\" class=\"row_heading level0 row3\" >3</th>\n",
       "                        <td id=\"T_ffe9e6ce_b356_11eb_adb8_0242ac1c0002row3_col0\" class=\"data row3 col0\" >taken unbroken dying once . see oh much `` a see , your censer of '' at disaster lordly </td>\n",
       "            </tr>\n",
       "            <tr>\n",
       "                        <th id=\"T_ffe9e6ce_b356_11eb_adb8_0242ac1c0002level0_row4\" class=\"row_heading level0 row4\" >4</th>\n",
       "                        <td id=\"T_ffe9e6ce_b356_11eb_adb8_0242ac1c0002row4_col0\" class=\"data row4 col0\" >with uncertain plume in this this '' on fiend dawn obeisance `` made stately cushion nevermore desolate shall which is `` guessing </td>\n",
       "            </tr>\n",
       "    </tbody></table><hr style=\"width: 900px; margin-left:0;\"><style  type=\"text/css\" >\n",
       "</style><table id=\"T_ffedb7ae_b356_11eb_adb8_0242ac1c0002\" style='display:inline'><thead>    <tr>        <th class=\"blank level0\" ></th>        <th class=\"col_heading level0 col0\" >cgan real Synth Data</th>    </tr></thead><tbody>\n",
       "                <tr>\n",
       "                        <th id=\"T_ffedb7ae_b356_11eb_adb8_0242ac1c0002level0_row0\" class=\"row_heading level0 row0\" >0</th>\n",
       "                        <td id=\"T_ffedb7ae_b356_11eb_adb8_0242ac1c0002row0_col0\" class=\"data row0 col0\" >shorn ; once shorn ; beguiling others each beguiling meant meant beguiling beguiling lady bust lies once uncertain forgotten 't shorn lady </td>\n",
       "            </tr>\n",
       "            <tr>\n",
       "                        <th id=\"T_ffedb7ae_b356_11eb_adb8_0242ac1c0002level0_row1\" class=\"row_heading level0 row1\" >1</th>\n",
       "                        <td id=\"T_ffedb7ae_b356_11eb_adb8_0242ac1c0002row1_col0\" class=\"data row1 col0\" >dying ; radiant radiant beguiling undaunted pondered wandering lady shorn bust reclining uncertain plainly lord lady 't bust shorn undaunted beguiling shorn </td>\n",
       "            </tr>\n",
       "            <tr>\n",
       "                        <th id=\"T_ffedb7ae_b356_11eb_adb8_0242ac1c0002level0_row2\" class=\"row_heading level0 row2\" >2</th>\n",
       "                        <td id=\"T_ffedb7ae_b356_11eb_adb8_0242ac1c0002row2_col0\" class=\"data row2 col0\" >lord 't shorn night radiant shorn nodded pallid shorn each lady shorn shorn at not not 't not radiant such uncertain beguiling </td>\n",
       "            </tr>\n",
       "            <tr>\n",
       "                        <th id=\"T_ffedb7ae_b356_11eb_adb8_0242ac1c0002level0_row3\" class=\"row_heading level0 row3\" >3</th>\n",
       "                        <td id=\"T_ffedb7ae_b356_11eb_adb8_0242ac1c0002row3_col0\" class=\"data row3 col0\" >uncertain shorn shorn beguiling beguiling shorn beguiling thing shorn doubtless lady shorn 't at shorn shorn undaunted shorn each over lord shorn </td>\n",
       "            </tr>\n",
       "            <tr>\n",
       "                        <th id=\"T_ffedb7ae_b356_11eb_adb8_0242ac1c0002level0_row4\" class=\"row_heading level0 row4\" >4</th>\n",
       "                        <td id=\"T_ffedb7ae_b356_11eb_adb8_0242ac1c0002row4_col0\" class=\"data row4 col0\" >depth undaunted radiant each shorn night lady such radiant wandering shorn shorn tell shorn lady others shorn one ; shorn shorn shorn </td>\n",
       "            </tr>\n",
       "    </tbody></table>"
      ]
     },
     "metadata": {
      "tags": []
     }
    }
   ]
  },
  {
   "cell_type": "code",
   "metadata": {
    "colab": {
     "base_uri": "https://localhost:8080/",
     "height": 621
    },
    "id": "DB0rVh94Skix",
    "outputId": "30f6a42c-b91a-41b9-f082-6ed70d46cc59"
   },
   "source": [
    "# Plot the metric charts \n",
    "vis.display_metrics()"
   ],
   "execution_count": 7,
   "outputs": [
    {
     "output_type": "display_data",
     "data": {
      "image/png": "[encoded data removed]",
      "text/plain": [
       "<Figure size 1440x720 with 6 Axes>"
      ]
     },
     "metadata": {
      "tags": [],
      "needs_background": "light"
     }
    }
   ]
  },
  {
   "cell_type": "markdown",
   "metadata": {
    "id": "iLNMnekIRMnb"
   },
   "source": [
    "## Observations\n",
    "The graphs above help visualize the performances of the various GAN models with both oracle and real training. Each of our 3 models seemed to perform much better than TextGan in the NLL-Test with both Oracle and real training, as well as under the Embedding Similarity metric with Oracle training. Another interesting note is that CGan's performance seems to improve quite a bit under adversarial training under the Embedding Similarity Metric with real training, while InfoGan and TextGan seems to perform worse in the same measure. Similarly, as the number of epochs increases, CGan's performances eclipses those of the other 4 models under the NLL measure with Oracle training. Of course, these metrics are only measured across 5 epochs, so it'd be helpful to see how the models perform given more time. But we can still use this information to get a better understanding of each model's performance."
   ]
  },
  {
   "cell_type": "markdown",
   "metadata": {
    "collapsed": false,
    "id": "FZoFeysDQsnw"
   },
   "source": [
    "## Notes\n",
    " This project was a collaborative effort by all team members listed in top of document. Project was developed/run/tested while on video call as a team effort. All parties put forth equal effort in testing, data selection and stripping, as well as understanding content.\n",
    "\n",
    " >**Note:** please refer to Team Project Documentation\\MileStone2\\Stephanie_Jackson_Ravjot_CIS700_M2_Contribution.txt for more contribution details\n",
    "\n",
    "Given the short duration of setup, running, etc there was not sufficient time to truly understand each of the models under the project. Two models from the previous milestone were used as the benchmark for comparison with the three newly incorporated models added with this milestone. However more time would be require for all encompassing tasking to really dive in and understand these models, and to run over longer epochs to see more concrete data results and comparisons. Additionally it should be noted the amount of time it takes to run these models with higher epoch values. Running the full models over and over can help training, however can take hours to complete. Furthermore, the .csv files were not populating. Given more time dedicate to this project, issues may have been able to be resolved"
   ]
  },
  {
   "cell_type": "markdown",
   "metadata": {
    "collapsed": false,
    "id": "zGfiU7ujQsnw"
   },
   "source": [
    "##Reference\n",
    "[1] Geek-Ai. “Texygen by Geek.AI.” GitHub, 2017, github.com/geek-ai/Texygen.\n",
    "\n",
    "[2] Yu, Lantao, et al. “SeqGAN: Sequence Generative Adversarial Nets with Policy Gradient.” ArXiv.org, 25 Aug. 2017, arxiv.org/abs/1609.05473.\n",
    "\n",
    "[3] Zhang, Yizhe, et al. “Adversarial Feature Matching for Text Generation.” ArXiv.org, 18 Nov. 2017, arxiv.org/abs/1706.03850.\n",
    "\n",
    "[4] Chen, Xi, Duan, Yan, Houthooft, Rein, Schulman, John,\n",
    "Sutskever, Ilya, and Abbeel, Pieter. Infogan: Interpretable representation learning by information maximizing generative adversarial nets. arXiv preprint\n",
    "arXiv:1606.03657, 2016a.\n",
    "\n",
    "[5] EA Poem Source.  https://poestories.com/read/valentine\n",
    "\n",
    "[6] Unsupervised Representation Learning with Deep Convolutional Generative Adversarial Networks\n",
    "https://arxiv.org/abs/1511.06434"
   ]
  },
  {
   "cell_type": "code",
   "metadata": {
    "colab": {
     "base_uri": "https://localhost:8080/"
    },
    "id": "9irmoejZQsnw",
    "outputId": "9e732acc-ce1d-4108-cdcd-d1042e48d482"
   },
   "source": [
    "#PDF/HTML conversion of notebook\n",
    "!apt-get install texlive texlive-xetex texlive-latex-extra pandoc\n",
    "!pip install pypandoc\n",
    "!jupyter nbconvert --output-dir='results/' --to PDF \"main.ipynb\"\n",
    "!jupyter nbconvert --output-dir='results/' --to HTML \"main.ipynb\""
   ],
   "execution_count": 10,
   "outputs": [
    {
     "output_type": "stream",
     "text": [
      "Reading package lists... Done\n",
      "Building dependency tree       \n",
      "Reading state information... Done\n",
      "pandoc is already the newest version (1.19.2.4~dfsg-1build4).\n",
      "texlive is already the newest version (2017.20180305-1).\n",
      "texlive-latex-extra is already the newest version (2017.20180305-2).\n",
      "texlive-xetex is already the newest version (2017.20180305-1).\n",
      "The following package was automatically installed and is no longer required:\n",
      "  libnvidia-common-460\n",
      "Use 'apt autoremove' to remove it.\n",
      "0 upgraded, 0 newly installed, 0 to remove and 34 not upgraded.\n",
      "Requirement already satisfied: pypandoc in /usr/local/lib/python3.7/dist-packages (1.5)\n",
      "Requirement already satisfied: wheel>=0.25.0 in /usr/local/lib/python3.7/dist-packages (from pypandoc) (0.36.2)\n",
      "Requirement already satisfied: pip>=8.1.0 in /usr/local/lib/python3.7/dist-packages (from pypandoc) (19.3.1)\n",
      "Requirement already satisfied: setuptools in /usr/local/lib/python3.7/dist-packages (from pypandoc) (56.1.0)\n",
      "This application is used to convert notebook files (*.ipynb) to various other\n",
      "formats.\n",
      "\n",
      "WARNING: THE COMMANDLINE INTERFACE MAY CHANGE IN FUTURE RELEASES.\n",
      "\n",
      "Options\n",
      "-------\n",
      "\n",
      "Arguments that take values are actually convenience aliases to full\n",
      "Configurables, whose aliases are listed on the help line. For more information\n",
      "on full configurables, see '--help-all'.\n",
      "\n",
      "--execute\n",
      "    Execute the notebook prior to export.\n",
      "--allow-errors\n",
      "    Continue notebook execution even if one of the cells throws an error and include the error message in the cell output (the default behaviour is to abort conversion). This flag is only relevant if '--execute' was specified, too.\n",
      "--no-input\n",
      "    Exclude input cells and output prompts from converted document. \n",
      "    This mode is ideal for generating code-free reports.\n",
      "--stdout\n",
      "    Write notebook output to stdout instead of files.\n",
      "--stdin\n",
      "    read a single notebook file from stdin. Write the resulting notebook with default basename 'notebook.*'\n",
      "--inplace\n",
      "    Run nbconvert in place, overwriting the existing notebook (only \n",
      "    relevant when converting to notebook format)\n",
      "-y\n",
      "    Answer yes to any questions instead of prompting.\n",
      "--clear-output\n",
      "    Clear output of current file and save in place, \n",
      "    overwriting the existing notebook.\n",
      "--debug\n",
      "    set log level to logging.DEBUG (maximize logging output)\n",
      "--no-prompt\n",
      "    Exclude input and output prompts from converted document.\n",
      "--generate-config\n",
      "    generate default config file\n",
      "--nbformat=<Enum> (NotebookExporter.nbformat_version)\n",
      "    Default: 4\n",
      "    Choices: [1, 2, 3, 4]\n",
      "    The nbformat version to write. Use this to downgrade notebooks.\n",
      "--output-dir=<Unicode> (FilesWriter.build_directory)\n",
      "    Default: ''\n",
      "    Directory to write output(s) to. Defaults to output to the directory of each\n",
      "    notebook. To recover previous default behaviour (outputting to the current\n",
      "    working directory) use . as the flag value.\n",
      "--writer=<DottedObjectName> (NbConvertApp.writer_class)\n",
      "    Default: 'FilesWriter'\n",
      "    Writer class used to write the  results of the conversion\n",
      "--log-level=<Enum> (Application.log_level)\n",
      "    Default: 30\n",
      "    Choices: (0, 10, 20, 30, 40, 50, 'DEBUG', 'INFO', 'WARN', 'ERROR', 'CRITICAL')\n",
      "    Set the log level by value or name.\n",
      "--reveal-prefix=<Unicode> (SlidesExporter.reveal_url_prefix)\n",
      "    Default: u''\n",
      "    The URL prefix for reveal.js (version 3.x). This defaults to the reveal CDN,\n",
      "    but can be any url pointing to a copy  of reveal.js.\n",
      "    For speaker notes to work, this must be a relative path to a local  copy of\n",
      "    reveal.js: e.g., \"reveal.js\".\n",
      "    If a relative path is given, it must be a subdirectory of the current\n",
      "    directory (from which the server is run).\n",
      "    See the usage documentation\n",
      "    (https://nbconvert.readthedocs.io/en/latest/usage.html#reveal-js-html-\n",
      "    slideshow) for more details.\n",
      "--to=<Unicode> (NbConvertApp.export_format)\n",
      "    Default: 'html'\n",
      "    The export format to be used, either one of the built-in formats\n",
      "    ['asciidoc', 'custom', 'html', 'latex', 'markdown', 'notebook', 'pdf',\n",
      "    'python', 'rst', 'script', 'slides'] or a dotted object name that represents\n",
      "    the import path for an `Exporter` class\n",
      "--template=<Unicode> (TemplateExporter.template_file)\n",
      "    Default: u''\n",
      "    Name of the template file to use\n",
      "--output=<Unicode> (NbConvertApp.output_base)\n",
      "    Default: ''\n",
      "    overwrite base name use for output files. can only be used when converting\n",
      "    one notebook at a time.\n",
      "--post=<DottedOrNone> (NbConvertApp.postprocessor_class)\n",
      "    Default: u''\n",
      "    PostProcessor class used to write the results of the conversion\n",
      "--config=<Unicode> (JupyterApp.config_file)\n",
      "    Default: u''\n",
      "    Full path of a config file.\n",
      "\n",
      "To see all available configurables, use `--help-all`\n",
      "\n",
      "Examples\n",
      "--------\n",
      "\n",
      "    The simplest way to use nbconvert is\n",
      "    \n",
      "    > jupyter nbconvert mynotebook.ipynb\n",
      "    \n",
      "    which will convert mynotebook.ipynb to the default format (probably HTML).\n",
      "    \n",
      "    You can specify the export format with `--to`.\n",
      "    Options include ['asciidoc', 'custom', 'html', 'latex', 'markdown', 'notebook', 'pdf', 'python', 'rst', 'script', 'slides'].\n",
      "    \n",
      "    > jupyter nbconvert --to latex mynotebook.ipynb\n",
      "    \n",
      "    Both HTML and LaTeX support multiple output templates. LaTeX includes\n",
      "    'base', 'article' and 'report'.  HTML includes 'basic' and 'full'. You\n",
      "    can specify the flavor of the format used.\n",
      "    \n",
      "    > jupyter nbconvert --to html --template basic mynotebook.ipynb\n",
      "    \n",
      "    You can also pipe the output to stdout, rather than a file\n",
      "    \n",
      "    > jupyter nbconvert mynotebook.ipynb --stdout\n",
      "    \n",
      "    PDF is generated via latex\n",
      "    \n",
      "    > jupyter nbconvert mynotebook.ipynb --to pdf\n",
      "    \n",
      "    You can get (and serve) a Reveal.js-powered slideshow\n",
      "    \n",
      "    > jupyter nbconvert myslides.ipynb --to slides --post serve\n",
      "    \n",
      "    Multiple notebooks can be given at the command line in a couple of \n",
      "    different ways:\n",
      "    \n",
      "    > jupyter nbconvert notebook*.ipynb\n",
      "    > jupyter nbconvert notebook1.ipynb notebook2.ipynb\n",
      "    \n",
      "    or you can specify the notebooks list in a config file, containing::\n",
      "    \n",
      "        c.NbConvertApp.notebooks = [\"my_notebook.ipynb\"]\n",
      "    \n",
      "    > jupyter nbconvert --config mycfg.py\n",
      "\n",
      "[NbConvertApp] CRITICAL | Bad config encountered during initialization:\n",
      "[NbConvertApp] CRITICAL | Invalid argument: '-output-dir=results/', did you mean '--output-dir=results/'?\n",
      "This application is used to convert notebook files (*.ipynb) to various other\n",
      "formats.\n",
      "\n",
      "WARNING: THE COMMANDLINE INTERFACE MAY CHANGE IN FUTURE RELEASES.\n",
      "\n",
      "Options\n",
      "-------\n",
      "\n",
      "Arguments that take values are actually convenience aliases to full\n",
      "Configurables, whose aliases are listed on the help line. For more information\n",
      "on full configurables, see '--help-all'.\n",
      "\n",
      "--execute\n",
      "    Execute the notebook prior to export.\n",
      "--allow-errors\n",
      "    Continue notebook execution even if one of the cells throws an error and include the error message in the cell output (the default behaviour is to abort conversion). This flag is only relevant if '--execute' was specified, too.\n",
      "--no-input\n",
      "    Exclude input cells and output prompts from converted document. \n",
      "    This mode is ideal for generating code-free reports.\n",
      "--stdout\n",
      "    Write notebook output to stdout instead of files.\n",
      "--stdin\n",
      "    read a single notebook file from stdin. Write the resulting notebook with default basename 'notebook.*'\n",
      "--inplace\n",
      "    Run nbconvert in place, overwriting the existing notebook (only \n",
      "    relevant when converting to notebook format)\n",
      "-y\n",
      "    Answer yes to any questions instead of prompting.\n",
      "--clear-output\n",
      "    Clear output of current file and save in place, \n",
      "    overwriting the existing notebook.\n",
      "--debug\n",
      "    set log level to logging.DEBUG (maximize logging output)\n",
      "--no-prompt\n",
      "    Exclude input and output prompts from converted document.\n",
      "--generate-config\n",
      "    generate default config file\n",
      "--nbformat=<Enum> (NotebookExporter.nbformat_version)\n",
      "    Default: 4\n",
      "    Choices: [1, 2, 3, 4]\n",
      "    The nbformat version to write. Use this to downgrade notebooks.\n",
      "--output-dir=<Unicode> (FilesWriter.build_directory)\n",
      "    Default: ''\n",
      "    Directory to write output(s) to. Defaults to output to the directory of each\n",
      "    notebook. To recover previous default behaviour (outputting to the current\n",
      "    working directory) use . as the flag value.\n",
      "--writer=<DottedObjectName> (NbConvertApp.writer_class)\n",
      "    Default: 'FilesWriter'\n",
      "    Writer class used to write the  results of the conversion\n",
      "--log-level=<Enum> (Application.log_level)\n",
      "    Default: 30\n",
      "    Choices: (0, 10, 20, 30, 40, 50, 'DEBUG', 'INFO', 'WARN', 'ERROR', 'CRITICAL')\n",
      "    Set the log level by value or name.\n",
      "--reveal-prefix=<Unicode> (SlidesExporter.reveal_url_prefix)\n",
      "    Default: u''\n",
      "    The URL prefix for reveal.js (version 3.x). This defaults to the reveal CDN,\n",
      "    but can be any url pointing to a copy  of reveal.js.\n",
      "    For speaker notes to work, this must be a relative path to a local  copy of\n",
      "    reveal.js: e.g., \"reveal.js\".\n",
      "    If a relative path is given, it must be a subdirectory of the current\n",
      "    directory (from which the server is run).\n",
      "    See the usage documentation\n",
      "    (https://nbconvert.readthedocs.io/en/latest/usage.html#reveal-js-html-\n",
      "    slideshow) for more details.\n",
      "--to=<Unicode> (NbConvertApp.export_format)\n",
      "    Default: 'html'\n",
      "    The export format to be used, either one of the built-in formats\n",
      "    ['asciidoc', 'custom', 'html', 'latex', 'markdown', 'notebook', 'pdf',\n",
      "    'python', 'rst', 'script', 'slides'] or a dotted object name that represents\n",
      "    the import path for an `Exporter` class\n",
      "--template=<Unicode> (TemplateExporter.template_file)\n",
      "    Default: u''\n",
      "    Name of the template file to use\n",
      "--output=<Unicode> (NbConvertApp.output_base)\n",
      "    Default: ''\n",
      "    overwrite base name use for output files. can only be used when converting\n",
      "    one notebook at a time.\n",
      "--post=<DottedOrNone> (NbConvertApp.postprocessor_class)\n",
      "    Default: u''\n",
      "    PostProcessor class used to write the results of the conversion\n",
      "--config=<Unicode> (JupyterApp.config_file)\n",
      "    Default: u''\n",
      "    Full path of a config file.\n",
      "\n",
      "To see all available configurables, use `--help-all`\n",
      "\n",
      "Examples\n",
      "--------\n",
      "\n",
      "    The simplest way to use nbconvert is\n",
      "    \n",
      "    > jupyter nbconvert mynotebook.ipynb\n",
      "    \n",
      "    which will convert mynotebook.ipynb to the default format (probably HTML).\n",
      "    \n",
      "    You can specify the export format with `--to`.\n",
      "    Options include ['asciidoc', 'custom', 'html', 'latex', 'markdown', 'notebook', 'pdf', 'python', 'rst', 'script', 'slides'].\n",
      "    \n",
      "    > jupyter nbconvert --to latex mynotebook.ipynb\n",
      "    \n",
      "    Both HTML and LaTeX support multiple output templates. LaTeX includes\n",
      "    'base', 'article' and 'report'.  HTML includes 'basic' and 'full'. You\n",
      "    can specify the flavor of the format used.\n",
      "    \n",
      "    > jupyter nbconvert --to html --template basic mynotebook.ipynb\n",
      "    \n",
      "    You can also pipe the output to stdout, rather than a file\n",
      "    \n",
      "    > jupyter nbconvert mynotebook.ipynb --stdout\n",
      "    \n",
      "    PDF is generated via latex\n",
      "    \n",
      "    > jupyter nbconvert mynotebook.ipynb --to pdf\n",
      "    \n",
      "    You can get (and serve) a Reveal.js-powered slideshow\n",
      "    \n",
      "    > jupyter nbconvert myslides.ipynb --to slides --post serve\n",
      "    \n",
      "    Multiple notebooks can be given at the command line in a couple of \n",
      "    different ways:\n",
      "    \n",
      "    > jupyter nbconvert notebook*.ipynb\n",
      "    > jupyter nbconvert notebook1.ipynb notebook2.ipynb\n",
      "    \n",
      "    or you can specify the notebooks list in a config file, containing::\n",
      "    \n",
      "        c.NbConvertApp.notebooks = [\"my_notebook.ipynb\"]\n",
      "    \n",
      "    > jupyter nbconvert --config mycfg.py\n",
      "\n",
      "[NbConvertApp] CRITICAL | Bad config encountered during initialization:\n",
      "[NbConvertApp] CRITICAL | Invalid argument: '-output-dir=results/', did you mean '--output-dir=results/'?\n"
     ],
     "name": "stdout"
    }
   ]
  }
 ]
}