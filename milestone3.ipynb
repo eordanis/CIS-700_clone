{
  "nbformat": 4,
  "nbformat_minor": 0,
  "metadata": {
    "colab": {
      "name": "milestone3.ipynb",
      "provenance": [],
      "collapsed_sections": [
        "l8dzmnc8IlQG",
        "jYknSMAkQsns",
        "IQQn8V-8Qsnq",
        "Ms3S31EcOCTO"
      ],
      "toc_visible": true
    },
    "kernelspec": {
      "display_name": "Python 3",
      "language": "python",
      "name": "python3"
    },
    "language_info": {
      "codemirror_mode": {
        "name": "ipython",
        "version": 2
      },
      "file_extension": ".py",
      "mimetype": "text/x-python",
      "name": "python",
      "nbconvert_exporter": "python",
      "pygments_lexer": "ipython2",
      "version": "2.7.6"
    }
  },
  "cells": [
    {
      "cell_type": "markdown",
      "metadata": {
        "collapsed": false,
        "id": "_RTasmaUQsnX"
      },
      "source": [
        "# Milestone 3\n",
        "\n",
        "Stephanie Eordanidis.\n",
        "Ravjot Sachdev,\n",
        "Jackson Taber\n",
        "\n",
        "Syracuse University : College of Engineering & Computer Science\n",
        "\n",
        "223 Link Hall, Syracuse, NY 13244\n",
        "\n",
        "sleordan@syr.edu, rssachde@syr.edu, jrtaber@syr.edu\n",
        "\n",
        "CIS 700 Machine Learning and Security\n",
        "\n",
        "06/16/2021\n"
      ]
    },
    {
      "cell_type": "markdown",
      "metadata": {
        "collapsed": false,
        "id": "2saP1Da3Qsnf"
      },
      "source": [
        "## Theme:\n",
        " “Adversarial Text Generation: Adversarial Machine Learning Applications in Text Analysis”"
      ]
    },
    {
      "cell_type": "markdown",
      "metadata": {
        "collapsed": false,
        "id": "M443L_l7Qsng"
      },
      "source": [
        "## Purpose:\n",
        "The purpose of this lab is to add three new GAN metrics to the project space and successfully run them on the chosen GAN models from previous milestones."
      ]
    },
    {
      "cell_type": "markdown",
      "metadata": {
        "collapsed": false,
        "id": "Bsrl-QKhQsnh"
      },
      "source": [
        "## Project:\n",
        "Texygen is the name of the project selected. This project is a benchmarking tool that aids in text generation model research and testing. This tool allows for ease of various model testing to compare accuracy and synthetic data generation of models using same training baseline."
      ]
    },
    {
      "cell_type": "markdown",
      "metadata": {
        "collapsed": false,
        "id": "YmXaOJ8AQsni"
      },
      "source": [
        "## (Hard/Soft)ware:\n",
        "**Google Colaboratory**\t\thttps://colab.research.google.com/\n",
        "\n",
        "**GPU**                     Python 3 Google Compute Engine backend\n",
        "\n",
        "**Github**                  https://github.com/eordanis/CIS-700/"
      ]
    },
    {
      "cell_type": "markdown",
      "metadata": {
        "collapsed": false,
        "id": "QGtxblBCQsni"
      },
      "source": [
        "## Resources:\n",
        "**Original Source:** \t\thttps://github.com/geek-ai/Texygen\n",
        "\n",
        "**Modified Sources Acquired:** \t2SU Course Files Section -> Texygenmaster_Python_3.6.zip"
      ]
    },
    {
      "cell_type": "markdown",
      "metadata": {
        "collapsed": false,
        "id": "kolVF4c9Qsnj"
      },
      "source": [
        "## Data:\n",
        "The data for the selected project is setup as follows:\n",
        "\n",
        "•\tGenerated data training: 5000 word and 20 sentence count\n",
        "\n",
        "•\tOracle data generation: 10,000 sentence generation\n",
        "\n",
        "•\tReal data training:\n",
        "\n",
        "\n",
        "*   image_coco : 20,000 sentences chosen from the image\n",
        " *   COCO captions data. 10,000 of which are used as training set while other 10,000 used as test set\n",
        "*   emlp_news_min : 20,000 sentences\n",
        " *  A minified version of emlp_news : reduced from 278,586 lines of text in training data to 10,000 and also 10,000 for test. Trying to run real training on 1/4 of a million lines proved too taxing even on colab pro. minified version should yeild decent results comparable to image_coco, the project default.\n",
        "*   eapoe : 266 sentences\n",
        " *  eapoe : 266 sentences Compiled from various Edgar Allan Po Poems found on referenced poem sight  [4]."
      ]
    },
    {
      "cell_type": "markdown",
      "metadata": {
        "collapsed": false,
        "id": "tnT5EoDoQsnk"
      },
      "source": [
        "## Modifications:\n",
        " To begin, the modified source code acquired from the 2SU application was further modified to combine the original intention of the origin source authors as well as professor modification. If no arguments are passed, all models/data are run.\n",
        " > **Note**: The order or model generation is done by first iterating over the GAN model type, then data type. If arguments are passed, those arguments will be validated and run accordingly to run a more targeted model test.\n",
        "\n",
        " Modifications were applied to eliminate much library warnings and informational messages as to keep output as clean as possible. File path naming was updated to be compliant with Google Colaboratory environment. All epoch time elapse console printing has been commented out for cleaner output reading.\n",
        "\n",
        " **Modifications under previous course works:**\n",
        "* Addition of three new GAN models\n",
        "    * CGAN\n",
        "    * InfoGAN\n",
        "    * DCGAN\n",
        "\n",
        "* Fixed LeakGAN project to work and run properly by setting standardized default flag attributes in main.py\n",
        "* Update models to save off test files for each training type run (ie oracle, cfg, real)\n",
        "* Updated models to use unified naming schema for test files, with model as the model the file was generated for and training as the training the data was generated from\n",
        "\n",
        "    **Example:** \n",
        "    * experiment-log-model-training.csv\n",
        "    * oracle-model-training.txt\n",
        "    * generator-model-training.txt\n",
        "    * test_file-model-training.txt\n",
        "\n",
        "* Updated models to set file name in main.py on the GAN model directly instead of in each model file themselves\n",
        "* Added additional field called 'log_file' to be the name for the experiment-log file data\n",
        "* Update to add new dir for midterm content vs milestone project\n",
        "* Added new util called visual.py to handle data representation\n",
        "* Allow visual.py to take directory param. if none exist, default to /content/CIS-700_clone/results\n",
        "* Updated visual.py to grab files from directory and generate visual data representations from relevant files in a more automated and less hard coded way\n",
        "* Allow main.py to take a results output directory via arg -o, if arg not present sets to results/\n",
        "* Allow main.py to take value for epoch via -p arg to use in model training\n",
        "* For argument provided training, added more detailed messaging as well as metric grid showing metrics that will be used during model generation\n",
        "* Cleaned main.py and model files to limit print to console, additionally console print is uniform and consistent across. \n",
        "* Added time elapsed pring statement for model run.\n",
        "\n",
        "**Modifications under this work:**\n",
        "* Addition of three new metrics:\n",
        "    * Time Elapse Interval (TEI)\n",
        "        TEI measures time elapse for the model per epoch run. Used to measure average time efficiency to run model for each training during epochs. Helps gauge run time during various model training components (ie pre training and adversarial training)\n",
        "    * Metric 2\n",
        "    * Metric 3\n",
        "\n"
      ]
    },
    {
      "cell_type": "markdown",
      "metadata": {
        "collapsed": false,
        "id": "BlSdA9AHQsnk"
      },
      "source": [
        "## Setup:\n",
        "Due to the heft of processor/gpu usage, it was deemed necessary to run the project in the Google Colaboratory. Original attempt to run was done via Pycharm IDE Professional Edition with Anaconda derived environments, however this proved too great of a strain on the accessible workstation.\n",
        "\n",
        "Additionally, it is important to note if timeout is experienced, it is possible to run a ClickConnect script via inspector tools to prevent timeout while running long codes. The following code worked in chrome when inserted in the developer console at time of test:\n",
        "\n",
        "> \n",
        "```\n",
        "let myClick = function ClickConnect({\n",
        "console.log('Working - Preventing Timeout'); \n",
        "document.querySelector('colab-connect-button').shadowRoot.getElementById('connect').click(); \n",
        "}\n",
        "setInterval(myClick,60000);\n",
        "```"
      ]
    },
    {
      "cell_type": "markdown",
      "metadata": {
        "id": "XPJON6fhRavh"
      },
      "source": [
        ""
      ]
    },
    {
      "cell_type": "markdown",
      "metadata": {
        "collapsed": false,
        "id": "s8H8-PlvQsnk"
      },
      "source": [
        "### Step 1\n",
        "A new Google Colaboratory workspace was setup, titled “Milestone2”. This workspace was run using the hosted runtime environment. This document is the current document being read.\n",
        "\n",
        "In order to run against provided code base, it was necessary to sync the colab workspace the github repository files as follows\n",
        "\n",
        "```\n",
        "!git clone https://$GITHUB_AUTH@github.com/eordanis/CIS-700_clone/\n",
        "```\n",
        "\n",
        "Running this command from the first cell in the workbook syncs the drive to the github repo location of project location, as well as change to the necessary directory"
      ]
    },
    {
      "cell_type": "code",
      "metadata": {
        "id": "VW3S7VYw0c-2"
      },
      "source": [
        "import shutil\n",
        "# to prevent nesting problems, remove directory and its contents if exists\n",
        "#if called to remove known existing, must restart runtime before cloning again\n",
        "dir_path = '/content/CIS-700_clone'\n",
        "try:\n",
        "    shutil.rmtree(dir_path)\n",
        "except OSError as e:\n",
        "    print(\"Error: %s : %s\" % (dir_path, e.strerror))"
      ],
      "execution_count": 6,
      "outputs": []
    },
    {
      "cell_type": "code",
      "metadata": {
        "id": "7jPNtvoeQsnl"
      },
      "source": [
        "!git clone https://$GITHUB_AUTH@github.com/eordanis/CIS-700_clone/\n",
        "%cd CIS-700_clone"
      ],
      "execution_count": null,
      "outputs": []
    },
    {
      "cell_type": "markdown",
      "metadata": {
        "collapsed": false,
        "id": "aJ-ge5jqQsno"
      },
      "source": [
        "### Step 2\n",
        "Now it was necessary to import and download any missing libraries the hosted colaborartoy runtime did not have readily available via the following commands:\n",
        "```\n",
        "            !pip install -r \"requirements.txt\"\n",
        "            import nltk\n",
        "            nltk.download('punkt')\n",
        "```\n",
        "Running this command from the next cell in the workbook installed the necessary libraries and at specified versions for the project.\n"
      ]
    },
    {
      "cell_type": "code",
      "metadata": {
        "id": "MO2DlrxDQsno"
      },
      "source": [
        "!pip install -r \"requirements.txt\"\n",
        "import nltk\n",
        "nltk.download('punkt')"
      ],
      "execution_count": null,
      "outputs": []
    },
    {
      "cell_type": "markdown",
      "metadata": {
        "collapsed": false,
        "id": "-Rp_zaP5Qsnp"
      },
      "source": [
        "### Step 3\n",
        "Now it is time to run the application. Below are two examples of commands to run the application.\n",
        "```\n",
        "!python3 \"main.py\"\n",
        "```\n",
        "This first command was run without parameters. In the case of this command, all trainings (SeqGAN, Gsgan, TextganMmd, Leakgan, Rankgan, Maligan, Mle) were run on all available defaulted training data (oracle LSTM, real data, CFG). Running this command can take around 2+ hours to complete.\n",
        "\n",
        "```\n",
        "!python3 \"main.py\" -g seqgan -t real\n",
        "```\n",
        "\n",
        "This second command was run with parameters. In the case of this command, main was run with SeqGAN training on image_coco. Running targeted trainings take less time to run, on average completing in 5-15 minutes depending on selected parameters. With the above selection, runtime was run above 10 minutes.\n",
        "\n",
        "```\n",
        "!python3 \"main.py\" -g seqgan -t real  -d data/eapoe.txt\n",
        "```\n",
        "\n",
        "This third command was run with parameters. In the case of this command, main was run with SeqGAN training on eapoe.\n",
        "\n",
        "```\n",
        "!python3 \"main.py\" -g seqgan -t real  -d data/eapoe.txt -o results/test/\n",
        "``` \n",
        "This third command was run with parameters. In the case of this command, main was run with SeqGAN training on eapoe and results will output to results/test directory.\n",
        "\n",
        "```\n",
        "!python3 \"main.py\" -g seqgan -t real  -d data/eapoe.txt -o results/test/ -p 45\n",
        "``` \n",
        "This fourth command was run with parameters. In the case of this command, main was run with SeqGAN training on eapoe and results will output to results/test directory and run on 45 epoch for both pre and adversarial training .\n",
        "\n",
        "Running targeted trainings take less time to run, on average completing in 5-15 minutes depending on selected parameters. With the above selection, runtime was run above 10 minutes.\n",
        "\n",
        "> **NOTE:** For above estimates, based around 5 epochs. Additionally, CFG training appears to have stopped working suddenly, unsure why broken. Therefore running without that option for the time being. Additionally, the LeakGan model failed entirely to run now due to flag errors, so this model was discarded from testing.\n",
        "\n"
      ]
    },
    {
      "cell_type": "markdown",
      "metadata": {
        "id": "fGm2gigGLyRX"
      },
      "source": [
        "## Overview"
      ]
    },
    {
      "cell_type": "markdown",
      "metadata": {
        "collapsed": false,
        "id": "f9iJu3UIQsnp"
      },
      "source": [
        "### Process\n",
        "\n",
        "When running the various models, there are similar steps for each.\n",
        "1.\tBeginning Training – begin model training(s)\n",
        "2.\tSet training - sets the desired model training method\n",
        "3.\tStart model pre-train generator – uses the training data to pre-train the generator model\n",
        "4.\tStart model pre-train discriminator - – uses the training data to pre-train the discriminator model\n",
        "5.\tModel adversarial training – runs the model to generate results based on the test data and metrics applied\n",
        "6.\tFinish Training – end of model training(s)\n",
        "\n",
        "During training, each model training runs through several passes or epochs. For simplicity, base epoch is set to 5, with model training running thrice for 15 total epochs there abouts for each model trained on a particular data set.\n"
      ]
    },
    {
      "cell_type": "markdown",
      "metadata": {
        "collapsed": false,
        "id": "wbTurK39Qsnq"
      },
      "source": [
        "### Baseline Models\n",
        "\n",
        " For this report, the TextGAN and SeqGAN models were run on oracle and real training types in the previous project milestone and will be used as the baseline for new model comparisons. The real training types essentially runs the data against the image_coco.txt caption data. The TextGAN and SeqGAN was developed by the source project team to improve on existing GAN networks.\n",
        "\n",
        " With regards to TextGan, the goal of this model is to generate high quality realistic synthetic data while overcoming the convergence dilemma by using a generator that runs as a long short-term memory network and its discriminator a convolutional network. By matching high-dimension laten feature distributions of the testing and training data, this model over longer epochs has shown demonstrate a higher performance in quantitative evaluation, showing the TextGAN model can produce sentences that appear to have been written by a human, and not AI generated.\n",
        "\n",
        " For the SeqGAN model, this also proved successful in generating realistic looking sentences via this generator process. A second model was selected for comparison purposes. SeqGAN’s generator is based off the reinforcement learning stochastic policy, allowing SeqGAN to performing gradient policy update in order to circumvent differentiation issues in the generation. Its discriminator is run on complete sentences, and its results used as the reinforcement learning reward signal. According to source authors, this model boasted higher performance over others run."
      ]
    },
    {
      "cell_type": "markdown",
      "metadata": {
        "collapsed": false,
        "id": "a5Us2aDIIlQC"
      },
      "source": [
        "### New Models From Previous Milestone\n",
        "\n",
        "### **CGAN** - Conditional Generative Adversarial Network\n",
        "\n",
        "Conditional adversarial network, or CGAN for short, is a basic modification of GAN that simply adds an additional layer that conditions both the descriminator and generator model layers. For this labs purposes, an existing GAN model was used as the base, and in both the Generator and Discriminator an embedded layer was incorporated as the first layer, used as the conditioning layer. For the sake of specificity, this GAN could actually be considered an CGSGAN, however for simplicity we will refer to is as simply CGAN.\n",
        "\n",
        "### **INFOGAN**\n",
        "\n",
        "InfoGan is an adjusted simple version of GAN that seeks to maximize the mutual information of a fixed subset of GAN noise varaibles. It is able to achieve this by having numerous convolution layers added to a regular implemtation of a GAN that are connected at the end, this makes the additional cost of computation low. For the use of this lab an existing GAN was used as the base and the convolution layers were added and connected at the end. \n",
        "\n",
        "### **DCGAN**\n",
        "\n",
        "Deep convolutional generative adversarial networks (DCGANs) are a class of convolutional networks (CNNs) \n",
        "aimed to incorporate unsupervised learning. Some key components of the DCGAN architecture are the use of the Tanh activation function for the generator's output layer, LeakyReLU activation in the discriminator, and the removal of any fully connected hidden layers. With these features, the original study conducted was able to create a robust DCGAN, achieving an 82.8% accuracy on the on the CIFAR-10 image dataset."
      ]
    },
    {
      "cell_type": "markdown",
      "metadata": {
        "collapsed": false,
        "id": "Olz1GYmaQsnp"
      },
      "source": [
        "### Metrics\n",
        "\n",
        "**Abbreviations:**\n",
        "*   BLEU \t- BiLingual Evaluation Understudy\n",
        "*   GAN \t- Generative Adversarial Network\n",
        "*   NLL \t- Negative Log-Likelihood\n",
        "*   RL\t- Reinforcement Learning\n",
        "\n",
        "**Definitions**\n",
        "*   EmbSim – influenced by BLEU, used instead to compare the word embeddings vs BLEU’s comparison of word similarity between two sentences or documents.\n",
        "*   NLL-oracle : applied to synthetic data to determine fitting via oracle language model standards.\n",
        "*   NLL-test : dual to NLL-Oracle, used to determine a model’s capability to fit to real test data\n",
        "\n",
        "These measurement standards and more are discussed in the project directory’s “/docs/evaluation.md” location.\n"
      ]
    },
    {
      "cell_type": "markdown",
      "metadata": {
        "collapsed": false,
        "id": "hkPFweGIKlm_"
      },
      "source": [
        "### New Metrics\n",
        "\n",
        "#### **Time Elapse Interval (TEI)**\n",
        "TEI measures time elapse for the model per epoch run. Used to measure average time efficiency to run model for each training during epochs. Helps gauge run time during various model training components (ie pre training and adversarial training)\n",
        "\n",
        "#### **Metric 2** - \n",
        "\n",
        "#### **Metric 3** - "
      ]
    },
    {
      "cell_type": "markdown",
      "metadata": {
        "collapsed": false,
        "id": "KkTxDWRTQsnq"
      },
      "source": [
        "## Test\n",
        " For this project, we will use the following arguments\n",
        "\n",
        "```\n",
        "#directory to use for model results output\n",
        "directory = '/content/CIS-700_clone/results/'\n",
        "\n",
        "#data set location to use\n",
        "data = '/content/CIS-700_clone/data/eapoe.txt'\n",
        "\n",
        "#epoch values to run for pre and adversarial training\n",
        "epoch = '5'\n",
        "```\n",
        "\n",
        " Epochs were increased left to run at 5 for the sake of time. However, it is noted that as according to original project sourcing, >= 45 epochs for the models display the best NLL loss results on epochs > 40, prior to that point results would be poorer. NLL loss values are indicated to be better the lower they are, so if these values trend downward, the models are improving. For EmbeddedSimilarity, higher values are desired for better results."
      ]
    },
    {
      "cell_type": "code",
      "metadata": {
        "id": "Ywwow-oCN4Ri"
      },
      "source": [
        "#data set location to use\n",
        "data = '/content/CIS-700_clone/data/eapoe.txt'\n",
        "\n",
        "# epoch values to run for pre and adversarial training\n",
        "epoch = '5'"
      ],
      "execution_count": null,
      "outputs": []
    },
    {
      "cell_type": "markdown",
      "metadata": {
        "collapsed": false,
        "id": "wnVc8cM9OBEi"
      },
      "source": [
        "### CGAN\n",
        "The following commands are to run CGAN model on both oracle and real trainings.\n",
        "\n",
        "**NOTE:** The real data essentially trained the model on the eapoe.txt data.\n",
        "```\n",
        "!python3 \"main.py\" -g cgan -t oracle -d $data -p $epoch\n",
        "!python3 \"main.py\" -g cgan -t real -d $data -p $epoch\n",
        "```"
      ]
    },
    {
      "cell_type": "markdown",
      "metadata": {
        "id": "UTE3l1-YOBEk"
      },
      "source": [
        "#### Oracle Training"
      ]
    },
    {
      "cell_type": "code",
      "metadata": {
        "id": "C3sJNf8gOBEl",
        "colab": {
          "base_uri": "https://localhost:8080/"
        },
        "outputId": "7f7c0a1e-e5e9-4499-d744-97f3f7b8fe24"
      },
      "source": [
        "!python3 \"main.py\" -g cgan -t oracle -d $data -p $epoch"
      ],
      "execution_count": null,
      "outputs": [
        {
          "output_type": "stream",
          "text": [
            "Unspecified Output Director Location: Defaulting to --> results/\n",
            "2021-05-20 16:40:18.799004: E tensorflow/stream_executor/cuda/cuda_driver.cc:328] failed call to cuInit: CUDA_ERROR_NO_DEVICE: no CUDA-capable device is detected\n",
            "\n",
            "***************************************************************\n",
            "\n",
            "Model Set:                    Cgan\n",
            "Training Set:                 Oracle\n",
            "Data Set:                     /content/CIS-700_clone/data/eapoe.txt\n",
            "Epochs Set:                   2\n",
            "Results Output Directory Set: results/\n",
            "\n",
            "***************************************************************\n",
            "\n",
            "Recording Time Elapse...\n",
            "\n",
            "******** Beginning Training ********\n",
            "Metrics Applied: nll-oracle, nll-test, EmbeddingSimilarity, tei\n",
            "Pre-training Generator...\n",
            "epoch:1\t\tnll-oracle:10.191106\tnll-test:7.988097\tEmbeddingSimilarity:-0.1326516652602898\ttei:3.8773093660672506\t\n",
            "Pre-training Discriminator...\n",
            "Adversarial Training...\n",
            "epoch:3\t\tnll-oracle:11.668121\tnll-test:7.9321976\tEmbeddingSimilarity:-0.1310718899443358\ttei:3.5650301615397137\t\n",
            "epoch:4\t\tnll-oracle:12.524385\tnll-test:7.962252\tEmbeddingSimilarity:-0.13137854287565262\ttei:4.706718750794729\t\n",
            "\n",
            "******** Completed Training ********\n",
            "\n",
            "Time Elapsed: 15mins:22secs\n",
            "\n"
          ],
          "name": "stdout"
        }
      ]
    },
    {
      "cell_type": "markdown",
      "metadata": {
        "id": "lSW1_u0XOBEo"
      },
      "source": [
        "*For below model training and test, results are discussed later.*\n",
        "\n",
        "*For more details, see [Results Comparision](#results_comparision).*"
      ]
    },
    {
      "cell_type": "markdown",
      "metadata": {
        "collapsed": false,
        "id": "sasXxKmiOBEq"
      },
      "source": [
        "#### Real Training"
      ]
    },
    {
      "cell_type": "code",
      "metadata": {
        "id": "97OhChkuOBEr",
        "colab": {
          "base_uri": "https://localhost:8080/"
        },
        "outputId": "de190c65-4d70-421d-db3c-ae43a199592d"
      },
      "source": [
        "!python3 \"main.py\" -g cgan -t real -d $data -p $epoch"
      ],
      "execution_count": null,
      "outputs": [
        {
          "output_type": "stream",
          "text": [
            "Unspecified Output Director Location: Defaulting to --> results/\n",
            "2021-05-20 16:55:45.167745: E tensorflow/stream_executor/cuda/cuda_driver.cc:328] failed call to cuInit: CUDA_ERROR_NO_DEVICE: no CUDA-capable device is detected\n",
            "\n",
            "***************************************************************\n",
            "\n",
            "Model Set:                    Cgan\n",
            "Training Set:                 Real\n",
            "Data Set:                     /content/CIS-700_clone/data/eapoe.txt\n",
            "Epochs Set:                   2\n",
            "Results Output Directory Set: results/\n",
            "\n",
            "***************************************************************\n",
            "\n",
            "Recording Time Elapse...\n",
            "\n",
            "******** Beginning Training ********\n",
            "Metrics Applied: nll-test, EmbeddingSimilarity, tei\n",
            "Pre-training Generator...\n",
            "epoch:1\t\tEmbeddingSimilarity:-0.3354938782021049\tnll-test:5.92697\ttei:0.692581840356191\t\n",
            "Pre-training Discriminator...\n",
            "Adversarial Training...\n",
            "epoch:3\t\tEmbeddingSimilarity:-0.28687007822271887\tnll-test:5.8982105\ttei:0.7077780803044637\t\n",
            "epoch:4\t\tEmbeddingSimilarity:-0.23885877072914108\tnll-test:5.9341717\ttei:1.237090524037679\t\n",
            "\n",
            "******** Completed Training ********\n",
            "\n",
            "Time Elapsed: 03mins:18secs\n",
            "\n"
          ],
          "name": "stdout"
        }
      ]
    },
    {
      "cell_type": "markdown",
      "metadata": {
        "collapsed": false,
        "id": "liGvUTLYOBEs"
      },
      "source": [
        "*For below model training and test, results are discussed later.*\n",
        "\n",
        "*For more details, see [Results Comparision](#results_comparision).*"
      ]
    },
    {
      "cell_type": "markdown",
      "metadata": {
        "collapsed": false,
        "id": "l8dzmnc8IlQG"
      },
      "source": [
        "### DCGAN\n",
        "The following commands are to run DCGAN model on both oracle and real trainings.\n",
        "\n",
        "> **NOTE:** The real data essentially trained the model on the eapoe.txt data.\n",
        "```\n",
        "!python3 \"main.py\" -g dcgan -t oracle -d $data -p $epoch\n",
        "!python3 \"main.py\" -g dcgan -t real -d $data -p $epoch\n",
        "```"
      ]
    },
    {
      "cell_type": "markdown",
      "metadata": {
        "id": "IhKxxioENQ1V"
      },
      "source": [
        "#### Oracle Training"
      ]
    },
    {
      "cell_type": "code",
      "metadata": {
        "id": "8QFnuHB7IlQG",
        "colab": {
          "base_uri": "https://localhost:8080/"
        },
        "outputId": "8496d821-f9c1-4758-bd3a-7db0cdff0982"
      },
      "source": [
        "!python3 \"main.py\" -g dcgan -t oracle -d $data -p $epoch"
      ],
      "execution_count": null,
      "outputs": [
        {
          "output_type": "stream",
          "text": [
            "Unspecified Output Director Location: Defaulting to --> results/\n",
            "2021-05-20 17:17:30.646931: E tensorflow/stream_executor/cuda/cuda_driver.cc:328] failed call to cuInit: CUDA_ERROR_NO_DEVICE: no CUDA-capable device is detected\n",
            "\n",
            "***************************************************************\n",
            "\n",
            "Model Set:                    Dcgan\n",
            "Training Set:                 Oracle\n",
            "Data Set:                     /content/CIS-700_clone/data/eapoe.txt\n",
            "Epochs Set:                   2\n",
            "Results Output Directory Set: results/\n",
            "\n",
            "***************************************************************\n",
            "\n",
            "Recording Time Elapse...\n",
            "\n",
            "******** Beginning Training ********\n",
            "Metrics Applied: nll-oracle, nll-test, EmbeddingSimilarity, tei\n",
            "Pre-training Generator...\n",
            "epoch:1\t\tnll-oracle:10.775991\tnll-test:7.598728\tEmbeddingSimilarity:-0.21293872128091426\ttei:2.8558653076489766\t\n",
            "Pre-training  Discriminator...\n",
            "Adversarial Training...\n",
            "epoch:3\t\tnll-oracle:10.58624\tnll-test:7.473827\tEmbeddingSimilarity:-0.20751336738059672\ttei:2.7763562401135764\t\n",
            "epoch:4\t\tnll-oracle:10.53315\tnll-test:7.481555\tEmbeddingSimilarity:-0.20706436132658604\ttei:5.848397306601206\t\n",
            "\n",
            "******** Completed Training ********\n",
            "\n",
            "Time Elapsed: 15mins:43secs\n",
            "\n"
          ],
          "name": "stdout"
        }
      ]
    },
    {
      "cell_type": "markdown",
      "metadata": {
        "collapsed": false,
        "id": "hsF9XI26IlQG"
      },
      "source": [
        "*For below model training and test, results are discussed later.*\n",
        "\n",
        "*For more details, see [Results Comparision](#results_comparision).*"
      ]
    },
    {
      "cell_type": "markdown",
      "metadata": {
        "id": "mCkJkRjkNT0_"
      },
      "source": [
        "#### Real Training"
      ]
    },
    {
      "cell_type": "code",
      "metadata": {
        "id": "pL13US0yIlQG",
        "colab": {
          "base_uri": "https://localhost:8080/"
        },
        "outputId": "0f9443c7-34d5-4892-c077-f1c767b6e6dc"
      },
      "source": [
        "!python3 \"main.py\" -g dcgan -t real -d $data -p $epoch"
      ],
      "execution_count": null,
      "outputs": [
        {
          "output_type": "stream",
          "text": [
            "Unspecified Output Director Location: Defaulting to --> results/\n",
            "2021-05-20 17:33:17.589711: E tensorflow/stream_executor/cuda/cuda_driver.cc:328] failed call to cuInit: CUDA_ERROR_NO_DEVICE: no CUDA-capable device is detected\n",
            "\n",
            "***************************************************************\n",
            "\n",
            "Model Set:                    Dcgan\n",
            "Training Set:                 Real\n",
            "Data Set:                     /content/CIS-700_clone/data/eapoe.txt\n",
            "Epochs Set:                   2\n",
            "Results Output Directory Set: results/\n",
            "\n",
            "***************************************************************\n",
            "\n",
            "Recording Time Elapse...\n",
            "\n",
            "******** Beginning Training ********\n",
            "Metrics Applied: nll-test, EmbeddingSimilarity, tei\n",
            "Pre-training Generator...\n",
            "epoch:1\t\tEmbeddingSimilarity:-1.2232292105030942\tnll-test:6.197953\ttei:0.6899575153986613\t\n",
            "Pre-training  Discriminator...\n",
            "Adversarial Training...\n",
            "epoch:3\t\tEmbeddingSimilarity:-1.1395991220623776\tnll-test:6.0936832\ttei:0.9527965068817139\t\n",
            "epoch:4\t\tEmbeddingSimilarity:-1.1583808934733226\tnll-test:6.102003\ttei:1.8513996362686158\t\n",
            "\n",
            "******** Completed Training ********\n",
            "\n",
            "Time Elapsed: 04mins:34secs\n",
            "\n"
          ],
          "name": "stdout"
        }
      ]
    },
    {
      "cell_type": "markdown",
      "metadata": {
        "collapsed": false,
        "id": "Me3Ufhn9IlQH"
      },
      "source": [
        "*For below model training and test, results are discussed later.*\n",
        "\n",
        "*For more details, see [Results Comparision](#results_comparision).*"
      ]
    },
    {
      "cell_type": "markdown",
      "metadata": {
        "collapsed": false,
        "id": "jYknSMAkQsns"
      },
      "source": [
        "### INFOGAN\n",
        "The following commands are to run INFOGAN model on both oracle and real trainings.\n",
        "\n",
        "> **NOTE:** The real data essentially trained the model on the eapoe.txt data.\n",
        "```\n",
        "!python3 \"main.py\" -g infogan -t oracle -d $data -p $epoch\n",
        "!python3 \"main.py\" -g infogan -t real -d $data -p $epoch\n",
        "```"
      ]
    },
    {
      "cell_type": "markdown",
      "metadata": {
        "id": "VecAobbhNHFH"
      },
      "source": [
        "#### Oracle Training"
      ]
    },
    {
      "cell_type": "code",
      "metadata": {
        "colab": {
          "base_uri": "https://localhost:8080/"
        },
        "id": "8XK9faFoQsnt",
        "outputId": "9490cf88-35f1-4f0b-a118-5b8d5b8867aa"
      },
      "source": [
        "!python3 \"main.py\" -g infogan -t oracle -d $data -p $epoch"
      ],
      "execution_count": null,
      "outputs": [
        {
          "output_type": "stream",
          "text": [
            "Unspecified Output Director Location: Defaulting to --> results/\n",
            "2021-05-20 16:59:06.792622: E tensorflow/stream_executor/cuda/cuda_driver.cc:328] failed call to cuInit: CUDA_ERROR_NO_DEVICE: no CUDA-capable device is detected\n",
            "\n",
            "***************************************************************\n",
            "\n",
            "Model Set:                    Infogan\n",
            "Training Set:                 Oracle\n",
            "Data Set:                     /content/CIS-700_clone/data/eapoe.txt\n",
            "Epochs Set:                   2\n",
            "Results Output Directory Set: results/\n",
            "\n",
            "***************************************************************\n",
            "\n",
            "Recording Time Elapse...\n",
            "\n",
            "******** Beginning Training ********\n",
            "Metrics Applied: nll-oracle, nll-test, EmbeddingSimilarity, tei\n",
            "Pre-training  Generator...\n",
            "epoch:1\t\tnll-oracle:10.775991\tnll-test:7.598728\tEmbeddingSimilarity:-0.2126788559914403\ttei:2.8538146018981934\t\n",
            "Pre-training   Discriminator...\n",
            "Adversarial Training...\n",
            "epoch:3\t\tnll-oracle:10.577665\tnll-test:7.4738894\tEmbeddingSimilarity:-0.20958604916026657\ttei:2.650757205486298\t\n",
            "epoch:4\t\tnll-oracle:10.5361\tnll-test:7.4805984\tEmbeddingSimilarity:-0.2047540837455446\ttei:5.1692455569903055\t\n",
            "\n",
            "******** Completed Training ********\n",
            "\n",
            "Time Elapsed: 14mins:20secs\n",
            "\n"
          ],
          "name": "stdout"
        }
      ]
    },
    {
      "cell_type": "markdown",
      "metadata": {
        "collapsed": false,
        "id": "dZQXB5V2Qsnt"
      },
      "source": [
        "*For below model training and test, results are discussed later.*\n",
        "\n",
        "*For more details, see [Results Comparision](#results_comparision).*"
      ]
    },
    {
      "cell_type": "markdown",
      "metadata": {
        "id": "SH2UFo8DNKpb"
      },
      "source": [
        "#### Real Training"
      ]
    },
    {
      "cell_type": "code",
      "metadata": {
        "colab": {
          "base_uri": "https://localhost:8080/"
        },
        "id": "AvEehdQSQsnt",
        "outputId": "7c1b8b8b-4f81-4a05-a8b4-720d9bf7d277"
      },
      "source": [
        "!python3 \"main.py\" -g infogan -t real -d $data -p $epoch"
      ],
      "execution_count": null,
      "outputs": [
        {
          "output_type": "stream",
          "text": [
            "Unspecified Output Director Location: Defaulting to --> results/\n",
            "2021-05-20 17:13:31.165380: E tensorflow/stream_executor/cuda/cuda_driver.cc:328] failed call to cuInit: CUDA_ERROR_NO_DEVICE: no CUDA-capable device is detected\n",
            "\n",
            "***************************************************************\n",
            "\n",
            "Model Set:                    Infogan\n",
            "Training Set:                 Real\n",
            "Data Set:                     /content/CIS-700_clone/data/eapoe.txt\n",
            "Epochs Set:                   2\n",
            "Results Output Directory Set: results/\n",
            "\n",
            "***************************************************************\n",
            "\n",
            "Recording Time Elapse...\n",
            "\n",
            "******** Beginning Training ********\n",
            "Metrics Applied: nll-test, EmbeddingSimilarity, tei\n",
            "Pre-training  Generator...\n",
            "epoch:1\t\tEmbeddingSimilarity:-1.1226724352617905\tnll-test:6.1940403\ttei:0.7054317911465963\t\n",
            "Pre-training   Discriminator...\n",
            "Adversarial Training...\n",
            "epoch:3\t\tEmbeddingSimilarity:-1.1758314921480626\tnll-test:5.9220543\ttei:0.8328717629114787\t\n",
            "epoch:4\t\tEmbeddingSimilarity:-1.069669956265344\tnll-test:5.9300427\ttei:1.5426879088083902\t\n",
            "\n",
            "******** Completed Training ********\n",
            "\n",
            "Time Elapsed: 03mins:55secs\n",
            "\n"
          ],
          "name": "stdout"
        }
      ]
    },
    {
      "cell_type": "markdown",
      "metadata": {
        "collapsed": false,
        "id": "HTEmkScQQsnt"
      },
      "source": [
        "*For below model training and test, results are discussed later.*\n",
        "\n",
        "*For more details, see [Results Comparision](#results_comparision).*"
      ]
    },
    {
      "cell_type": "markdown",
      "metadata": {
        "collapsed": false,
        "id": "IQQn8V-8Qsnq"
      },
      "source": [
        "### SeqGAN\n",
        "The following commands are to run SeqGAN model on both oracle and real trainings.\n",
        "\n",
        "**NOTE:** The real data essentially trained the model on the eapoe.txt data.\n",
        "```\n",
        "!python3 \"main.py\" -g seqgan -t oracle -d $data -p $epoch\n",
        "!python3 \"main.py\" -g seqgan -t real -d $data -p $epoch\n",
        "```"
      ]
    },
    {
      "cell_type": "markdown",
      "metadata": {
        "id": "-eE_sj9NMyNK"
      },
      "source": [
        "#### Oracle Training"
      ]
    },
    {
      "cell_type": "code",
      "metadata": {
        "id": "p0dEpH0EQsnr",
        "colab": {
          "base_uri": "https://localhost:8080/"
        },
        "outputId": "866db06b-4df0-46b7-b85d-007ca91316d4"
      },
      "source": [
        "!python3 \"main.py\" -g seqgan -t oracle -d $data -p $epoch"
      ],
      "execution_count": null,
      "outputs": [
        {
          "output_type": "stream",
          "text": [
            "Unspecified Output Director Location: Defaulting to --> results/\n",
            "2021-05-20 16:12:58.853681: E tensorflow/stream_executor/cuda/cuda_driver.cc:328] failed call to cuInit: CUDA_ERROR_NO_DEVICE: no CUDA-capable device is detected\n",
            "\n",
            "***************************************************************\n",
            "\n",
            "Model Set:                    Seqgan\n",
            "Training Set:                 Oracle\n",
            "Data Set:                     /content/CIS-700_clone/data/eapoe.txt\n",
            "Epochs Set:                   2\n",
            "Results Output Directory Set: results/\n",
            "\n",
            "***************************************************************\n",
            "\n",
            "Recording Time Elapse...\n",
            "\n",
            "******** Beginning Training ********\n",
            "Metrics Applied: nll-oracle, nll-test, EmbeddingSimilarity, tei\n",
            "Pre-training Generator...\n",
            "epoch:1\t\tnll-oracle:10.775991\tnll-test:7.598728\tEmbeddingSimilarity:-0.21296088291678061\ttei:2.874186301231384\t\n",
            "Pre-training  Discriminator...\n",
            "Adversarial Training...\n",
            "epoch:3\t\tnll-oracle:10.579702\tnll-test:7.4737377\tEmbeddingSimilarity:-0.2071975437129076\ttei:2.633168359597524\t\n",
            "epoch:4\t\tnll-oracle:10.531539\tnll-test:7.4805455\tEmbeddingSimilarity:-0.20629056130732434\ttei:5.189106790224711\t\n",
            "\n",
            "******** Completed Training ********\n",
            "\n",
            "Time Elapsed: 14mins:20secs\n",
            "\n"
          ],
          "name": "stdout"
        }
      ]
    },
    {
      "cell_type": "markdown",
      "metadata": {
        "id": "0sR1q74iM3Cf"
      },
      "source": [
        "*For below model training and test, results are discussed later.*\n",
        "\n",
        "*For more details, see [Results Comparision](#results_comparision).*"
      ]
    },
    {
      "cell_type": "markdown",
      "metadata": {
        "collapsed": false,
        "id": "cvjMNcBLQsnr"
      },
      "source": [
        "#### Real Training"
      ]
    },
    {
      "cell_type": "code",
      "metadata": {
        "id": "7Hn4zHOuQsnr",
        "colab": {
          "base_uri": "https://localhost:8080/"
        },
        "outputId": "1d0150d0-9429-45ce-afaa-513cd395a898"
      },
      "source": [
        "!python3 \"main.py\" -g seqgan -t real -d $data -p $epoch"
      ],
      "execution_count": null,
      "outputs": [
        {
          "output_type": "stream",
          "text": [
            "Unspecified Output Director Location: Defaulting to --> results/\n",
            "2021-05-20 16:27:22.951686: E tensorflow/stream_executor/cuda/cuda_driver.cc:328] failed call to cuInit: CUDA_ERROR_NO_DEVICE: no CUDA-capable device is detected\n",
            "\n",
            "***************************************************************\n",
            "\n",
            "Model Set:                    Seqgan\n",
            "Training Set:                 Real\n",
            "Data Set:                     /content/CIS-700_clone/data/eapoe.txt\n",
            "Epochs Set:                   2\n",
            "Results Output Directory Set: results/\n",
            "\n",
            "***************************************************************\n",
            "\n",
            "Recording Time Elapse...\n",
            "\n",
            "******** Beginning Training ********\n",
            "Metrics Applied: nll-test, EmbeddingSimilarity, tei\n",
            "Pre-training Generator...\n",
            "epoch:1\t\tEmbeddingSimilarity:-1.1413055173973534\tnll-test:6.119854\ttei:0.700960099697113\t\n",
            "Pre-training  Discriminator...\n",
            "Adversarial Training...\n",
            "epoch:3\t\tEmbeddingSimilarity:-1.1780925624187852\tnll-test:5.674348\ttei:0.8338672200838725\t\n",
            "epoch:4\t\tEmbeddingSimilarity:-1.1161910970184497\tnll-test:5.6040373\ttei:1.5342828591664632\t\n",
            "\n",
            "******** Completed Training ********\n",
            "\n",
            "Time Elapsed: 03mins:55secs\n",
            "\n"
          ],
          "name": "stdout"
        }
      ]
    },
    {
      "cell_type": "markdown",
      "metadata": {
        "collapsed": false,
        "id": "ecR1k-ptQsns"
      },
      "source": [
        "*For below model training and test, results are discussed later.*\n",
        "\n",
        "*For more details, see [Results Comparision](#results_comparision).*"
      ]
    },
    {
      "cell_type": "markdown",
      "metadata": {
        "collapsed": false,
        "id": "Ms3S31EcOCTO"
      },
      "source": [
        "### TextGAN\n",
        "The following commands are to run TextGAN model on both oracle and real trainings.\n",
        "\n",
        "**NOTE:** The real data essentially trained the model on the eapoe.txt data.\n",
        "```\n",
        "!python3 \"main.py\" -g textgan -t oracle -d $data -p $epoch\n",
        "!python3 \"main.py\" -g textgan -t real -d $data -p $epoch\n",
        "```"
      ]
    },
    {
      "cell_type": "markdown",
      "metadata": {
        "id": "Ikl1wmOQOCTQ"
      },
      "source": [
        "#### Oracle Training"
      ]
    },
    {
      "cell_type": "code",
      "metadata": {
        "id": "SkCGQsgjOCTR",
        "colab": {
          "base_uri": "https://localhost:8080/"
        },
        "outputId": "a501844d-6b3d-4293-cf63-6216fbe335ab"
      },
      "source": [
        "!python3 \"main.py\" -g textgan -t oracle -d $data -p $epoch"
      ],
      "execution_count": null,
      "outputs": [
        {
          "output_type": "stream",
          "text": [
            "Unspecified Output Director Location: Defaulting to --> results/\n",
            "2021-05-20 18:06:23.260313: E tensorflow/stream_executor/cuda/cuda_driver.cc:328] failed call to cuInit: CUDA_ERROR_NO_DEVICE: no CUDA-capable device is detected\n",
            "\n",
            "***************************************************************\n",
            "\n",
            "Model Set:                    Textgan\n",
            "Training Set:                 Oracle\n",
            "Data Set:                     /content/CIS-700_clone/data/eapoe.txt\n",
            "Epochs Set:                   2\n",
            "Results Output Directory Set: results/\n",
            "\n",
            "***************************************************************\n",
            "\n",
            "Recording Time Elapse...\n",
            "\n",
            "******** Beginning Training ********\n",
            "Metrics Applied: nll-oracle, nll-test, EmbeddingSimilarity, tei\n",
            "Pre-training  Generator...\n",
            "epoch:1\t\tnll-oracle:12.147542\tnll-test:40.156467\tEmbeddingSimilarity:-0.19626693796259828\ttei:2.5959528923034667\t\n",
            "Pre-training  Discriminator...\n",
            "Adversarial Training...\n",
            "epoch:3\t\tnll-oracle:12.170656\tnll-test:39.163532\tEmbeddingSimilarity:-0.23198435490973648\ttei:2.1661738753318787\t\n",
            "epoch:4\t\tnll-oracle:12.179794\tnll-test:39.190224\tEmbeddingSimilarity:-0.23490710926510586\ttei:1.7391259829203287\t\n",
            "\n",
            "******** Completed Training ********\n",
            "\n",
            "Time Elapsed: 06mins:38secs\n",
            "\n"
          ],
          "name": "stdout"
        }
      ]
    },
    {
      "cell_type": "markdown",
      "metadata": {
        "id": "nkmReuM0OCTS"
      },
      "source": [
        "*For below model training and test, results are discussed later.*\n",
        "\n",
        "*For more details, see [Results Comparision](#results_comparision).*"
      ]
    },
    {
      "cell_type": "markdown",
      "metadata": {
        "collapsed": false,
        "id": "-kBeipbYOCTT"
      },
      "source": [
        "#### Real Training"
      ]
    },
    {
      "cell_type": "code",
      "metadata": {
        "id": "VWU4eDLtOCTU",
        "colab": {
          "base_uri": "https://localhost:8080/"
        },
        "outputId": "04fe9c55-faa1-473b-94bc-8765033a824d"
      },
      "source": [
        "!python3 \"main.py\" -g textgan -t real -d $data -p $epoch"
      ],
      "execution_count": null,
      "outputs": [
        {
          "output_type": "stream",
          "text": [
            "Unspecified Output Director Location: Defaulting to --> results/\n",
            "2021-05-20 18:13:06.001560: E tensorflow/stream_executor/cuda/cuda_driver.cc:328] failed call to cuInit: CUDA_ERROR_NO_DEVICE: no CUDA-capable device is detected\n",
            "\n",
            "***************************************************************\n",
            "\n",
            "Model Set:                    Textgan\n",
            "Training Set:                 Real\n",
            "Data Set:                     /content/CIS-700_clone/data/eapoe.txt\n",
            "Epochs Set:                   2\n",
            "Results Output Directory Set: results/\n",
            "\n",
            "***************************************************************\n",
            "\n",
            "Recording Time Elapse...\n",
            "\n",
            "******** Beginning Training ********\n",
            "Metrics Applied: nll-test, EmbeddingSimilarity, tei\n",
            "Pre-training  Generator...\n",
            "epoch:1\t\tEmbeddingSimilarity:-0.353344198819331\tnll-test:38.232872\ttei:0.6738850911458333\t\n",
            "Pre-training  Discriminator...\n",
            "Adversarial Training...\n",
            "epoch:3\t\tEmbeddingSimilarity:-0.4119618049065459\tnll-test:37.452164\ttei:0.7343119502067565\t\n",
            "epoch:4\t\tEmbeddingSimilarity:-0.4480797968253978\tnll-test:37.716827\ttei:0.8077659924825032\t\n",
            "\n",
            "******** Completed Training ********\n",
            "\n",
            "Time Elapsed: 02mins:19secs\n",
            "\n"
          ],
          "name": "stdout"
        }
      ]
    },
    {
      "cell_type": "markdown",
      "metadata": {
        "collapsed": false,
        "id": "dLb3sKxFOCTV"
      },
      "source": [
        "*For below model training and test, results are discussed later.*\n",
        "\n",
        "*For more details, see [Results Comparision](#results_comparision).*"
      ]
    },
    {
      "cell_type": "markdown",
      "metadata": {
        "id": "2d1A0bIHf-Uc"
      },
      "source": [
        "<a id='results_comparision'></a>\n",
        "\n",
        "## Results Comparision\n",
        "\n",
        "Below sections are broken down into Data and Visual Representations of the results testing of models."
      ]
    },
    {
      "cell_type": "markdown",
      "metadata": {
        "collapsed": false,
        "id": "2szMid1RQsnu"
      },
      "source": [
        "### Data Representation\n",
        "\n",
        "Below is a display of the best values for each training of each model run."
      ]
    },
    {
      "cell_type": "code",
      "metadata": {
        "id": "COOdCeVeRWxp",
        "colab": {
          "base_uri": "https://localhost:8080/"
        },
        "outputId": "224119ef-79db-4dcf-fb80-3a545954a54a"
      },
      "source": [
        "import utils.visual as vis\n",
        "vis.display_best_values()"
      ],
      "execution_count": 3,
      "outputs": [
        {
          "output_type": "stream",
          "text": [
            "********************************\n",
            "\tOracle Training:\n",
            "********************************\n",
            "Cgan\n",
            "\tnll-oracle: 10.1911 @epoch 1\tnll-test: 7.9322 @epoch 3\tEmbeddingSimilarity: -0.1311 @epoch 3\ttei: 3.565 @epoch 3\t\n",
            "\n",
            "Dcgan\n",
            "\tnll-oracle: 10.5331 @epoch 4\tnll-test: 7.4738 @epoch 3\tEmbeddingSimilarity: -0.2071 @epoch 4\ttei: 2.7764 @epoch 3\t\n",
            "\n",
            "Infogan\n",
            "\tnll-oracle: 10.5361 @epoch 4\tnll-test: 7.4739 @epoch 3\tEmbeddingSimilarity: -0.2048 @epoch 4\ttei: 2.6508 @epoch 3\t\n",
            "\n",
            "Seqgan\n",
            "\tnll-oracle: 10.5315 @epoch 4\tnll-test: 7.4737 @epoch 3\tEmbeddingSimilarity: -0.2063 @epoch 4\ttei: 2.6332 @epoch 3\t\n",
            "\n",
            "Textgan\n",
            "\tnll-oracle: 12.1475 @epoch 1\tnll-test: 39.1635 @epoch 3\tEmbeddingSimilarity: -0.1963 @epoch 1\ttei: 1.7391 @epoch 4\t\n",
            "\n",
            "********************************\n",
            "\tReal Training:\n",
            "********************************\n",
            "Cgan\n",
            "\tEmbeddingSimilarity: -0.2389 @epoch 4\tnll-test: 5.8982 @epoch 3\ttei: 0.6926 @epoch 1\t\n",
            "\n",
            "Dcgan\n",
            "\tEmbeddingSimilarity: -1.1396 @epoch 3\tnll-test: 6.0937 @epoch 3\ttei: 0.69 @epoch 1\t\n",
            "\n",
            "Infogan\n",
            "\tEmbeddingSimilarity: -1.0697 @epoch 4\tnll-test: 5.9221 @epoch 3\ttei: 0.7054 @epoch 1\t\n",
            "\n",
            "Seqgan\n",
            "\tEmbeddingSimilarity: -1.1162 @epoch 4\tnll-test: 5.604 @epoch 4\ttei: 0.701 @epoch 1\t\n",
            "\n",
            "Textgan\n",
            "\tEmbeddingSimilarity: -0.3533 @epoch 1\tnll-test: 37.4522 @epoch 3\ttei: 0.6739 @epoch 1\t\n",
            "\n"
          ],
          "name": "stdout"
        }
      ]
    },
    {
      "cell_type": "markdown",
      "metadata": {
        "collapsed": false,
        "id": "redoZwxfIlQH"
      },
      "source": [
        "### Visual Representation\n",
        "This sections provides a more visual representation of results and comparative data"
      ]
    },
    {
      "cell_type": "code",
      "metadata": {
        "id": "WesgrwLAJSOJ",
        "colab": {
          "base_uri": "https://localhost:8080/",
          "height": 741
        },
        "outputId": "bd278aa7-6dc3-482f-bc08-03550b46c932"
      },
      "source": [
        "vis.display_synth_data()"
      ],
      "execution_count": 4,
      "outputs": [
        {
          "output_type": "display_data",
          "data": {
            "text/html": [
              "<style  type=\"text/css\" >\n",
              "</style><table id=\"T_3ed16364_baee_11eb_8204_0242ac1c0002\" style='display:inline-block'><thead>    <tr>        <th class=\"blank level0\" ></th>        <th class=\"col_heading level0 col0\" >Cgan Real Synth Data</th>    </tr></thead><tbody>\n",
              "                <tr>\n",
              "                        <th id=\"T_3ed16364_baee_11eb_8204_0242ac1c0002level0_row0\" class=\"row_heading level0 row0\" >0</th>\n",
              "                        <td id=\"T_3ed16364_baee_11eb_8204_0242ac1c0002row0_col0\" class=\"data row0 col0\" >these been before startled nightly hath wondering tossed spring books rare yore linking this stood autumn decorum autumn flirt lining stepped stern </td>\n",
              "            </tr>\n",
              "            <tr>\n",
              "                        <th id=\"T_3ed16364_baee_11eb_8204_0242ac1c0002level0_row1\" class=\"row_heading level0 row1\" >1</th>\n",
              "                        <td id=\"T_3ed16364_baee_11eb_8204_0242ac1c0002row1_col0\" class=\"data row1 col0\" >autumn muttered fantastic seeming somewhat thereat had thereat lightning before stern books thereat autumn ember this just somewhat presently </td>\n",
              "            </tr>\n",
              "            <tr>\n",
              "                        <th id=\"T_3ed16364_baee_11eb_8204_0242ac1c0002level0_row2\" class=\"row_heading level0 row2\" >2</th>\n",
              "                        <td id=\"T_3ed16364_baee_11eb_8204_0242ac1c0002row2_col0\" class=\"data row2 col0\" >muttered tossed being reply being volume implore discourse bore- he books stern 't thereat tossed maiden its this decorum engaged soon </td>\n",
              "            </tr>\n",
              "            <tr>\n",
              "                        <th id=\"T_3ed16364_baee_11eb_8204_0242ac1c0002level0_row3\" class=\"row_heading level0 row3\" >3</th>\n",
              "                        <td id=\"T_3ed16364_baee_11eb_8204_0242ac1c0002row3_col0\" class=\"data row3 col0\" >being spring countenance fantastic filled hesitating ghost thereat stronger he we fantastic decorum bore- aptly just saintly quoth stern volume autumn </td>\n",
              "            </tr>\n",
              "            <tr>\n",
              "                        <th id=\"T_3ed16364_baee_11eb_8204_0242ac1c0002level0_row4\" class=\"row_heading level0 row4\" >4</th>\n",
              "                        <td id=\"T_3ed16364_baee_11eb_8204_0242ac1c0002row4_col0\" class=\"data row4 col0\" >faintly by was rare wretch we burning books maiden maiden fantastic being thereat bore- engaged this books your good </td>\n",
              "            </tr>\n",
              "    </tbody></table><hr style=\"width: 400px; margin-left:0;\"><style  type=\"text/css\" >\n",
              "</style><table id=\"T_3eda6784_baee_11eb_8204_0242ac1c0002\" style='display:inline-block'><thead>    <tr>        <th class=\"blank level0\" ></th>        <th class=\"col_heading level0 col0\" >Dcgan Real Synth Data</th>    </tr></thead><tbody>\n",
              "                <tr>\n",
              "                        <th id=\"T_3eda6784_baee_11eb_8204_0242ac1c0002level0_row0\" class=\"row_heading level0 row0\" >0</th>\n",
              "                        <td id=\"T_3eda6784_baee_11eb_8204_0242ac1c0002row0_col0\" class=\"data row0 col0\" >days violet its faster shaven flying whose being get taken desolate sculptured distant tone dirges seeming felt evermore sir seen </td>\n",
              "            </tr>\n",
              "            <tr>\n",
              "                        <th id=\"T_3eda6784_baee_11eb_8204_0242ac1c0002level0_row1\" class=\"row_heading level0 row1\" >1</th>\n",
              "                        <td id=\"T_3eda6784_baee_11eb_8204_0242ac1c0002row1_col0\" class=\"data row1 col0\" >if agreeing was moment red mien silence out . each ominous he see sorrow fantastic spring horror thee some which </td>\n",
              "            </tr>\n",
              "            <tr>\n",
              "                        <th id=\"T_3eda6784_baee_11eb_8204_0242ac1c0002level0_row2\" class=\"row_heading level0 row2\" >2</th>\n",
              "                        <td id=\"T_3eda6784_baee_11eb_8204_0242ac1c0002row2_col0\" class=\"data row2 col0\" >books felt louder : me- had he terrors dreams you gently storm enchanted- dared desert store before- red filled agreeing </td>\n",
              "            </tr>\n",
              "            <tr>\n",
              "                        <th id=\"T_3eda6784_baee_11eb_8204_0242ac1c0002level0_row3\" class=\"row_heading level0 row3\" >3</th>\n",
              "                        <td id=\"T_3eda6784_baee_11eb_8204_0242ac1c0002row3_col0\" class=\"data row3 col0\" >distinctly clasp gilead stately lies lattice explore flutter louder will whether with unhappy thy spring truly from in nodded black </td>\n",
              "            </tr>\n",
              "            <tr>\n",
              "                        <th id=\"T_3eda6784_baee_11eb_8204_0242ac1c0002level0_row4\" class=\"row_heading level0 row4\" >4</th>\n",
              "                        <td id=\"T_3eda6784_baee_11eb_8204_0242ac1c0002row4_col0\" class=\"data row4 col0\" >borrow lining back hath sad stern perfumed can out further burned flirt out source wretch flirt murmured seeing unseen upstarting- </td>\n",
              "            </tr>\n",
              "    </tbody></table><hr style=\"width: 400px; margin-left:0;\"><style  type=\"text/css\" >\n",
              "</style><table id=\"T_3ee27fc8_baee_11eb_8204_0242ac1c0002\" style='display:inline-block'><thead>    <tr>        <th class=\"blank level0\" ></th>        <th class=\"col_heading level0 col0\" >Infogan Real Synth Data</th>    </tr></thead><tbody>\n",
              "                <tr>\n",
              "                        <th id=\"T_3ee27fc8_baee_11eb_8204_0242ac1c0002level0_row0\" class=\"row_heading level0 row0\" >0</th>\n",
              "                        <td id=\"T_3ee27fc8_baee_11eb_8204_0242ac1c0002row0_col0\" class=\"data row0 col0\" >awaken respite maiden nevermore syllable expressing explore- demon gave be sorrow darkness sent shore- deep straight or seeming mortal my much ever </td>\n",
              "            </tr>\n",
              "            <tr>\n",
              "                        <th id=\"T_3ee27fc8_baee_11eb_8204_0242ac1c0002level0_row1\" class=\"row_heading level0 row1\" >1</th>\n",
              "                        <td id=\"T_3ee27fc8_baee_11eb_8204_0242ac1c0002row1_col0\" class=\"data row1 col0\" >thou ghastly cried weary visitor ancient surcease bird seen wrought drawn if thee- gently and methought `` stock his nodded sought lie </td>\n",
              "            </tr>\n",
              "            <tr>\n",
              "                        <th id=\"T_3ee27fc8_baee_11eb_8204_0242ac1c0002level0_row2\" class=\"row_heading level0 row2\" >2</th>\n",
              "                        <td id=\"T_3ee27fc8_baee_11eb_8204_0242ac1c0002row2_col0\" class=\"data row2 col0\" >all other a before prophet yore- weary with horror alone burden tint door- only yet louder above wide let life my darkness </td>\n",
              "            </tr>\n",
              "            <tr>\n",
              "                        <th id=\"T_3ee27fc8_baee_11eb_8204_0242ac1c0002level0_row3\" class=\"row_heading level0 row3\" >3</th>\n",
              "                        <td id=\"T_3ee27fc8_baee_11eb_8204_0242ac1c0002row3_col0\" class=\"data row3 col0\" >fearing some aidenn there though hour meaning- fantastic cushion surcease shorn before- source feather bleak napping you reclining lonely seat lord beak </td>\n",
              "            </tr>\n",
              "            <tr>\n",
              "                        <th id=\"T_3ee27fc8_baee_11eb_8204_0242ac1c0002level0_row4\" class=\"row_heading level0 row4\" >4</th>\n",
              "                        <td id=\"T_3ee27fc8_baee_11eb_8204_0242ac1c0002row4_col0\" class=\"data row4 col0\" >lord books such stately home violet rare passions '' passions fancy living thunder thing night expressing ghastly wrought sat tinkled into quaff </td>\n",
              "            </tr>\n",
              "    </tbody></table><hr style=\"width: 400px; margin-left:0;\"><style  type=\"text/css\" >\n",
              "</style><table id=\"T_3ee9af6e_baee_11eb_8204_0242ac1c0002\" style='display:inline-block'><thead>    <tr>        <th class=\"blank level0\" ></th>        <th class=\"col_heading level0 col0\" >Seqgan Real Synth Data</th>    </tr></thead><tbody>\n",
              "                <tr>\n",
              "                        <th id=\"T_3ee9af6e_baee_11eb_8204_0242ac1c0002level0_row0\" class=\"row_heading level0 row0\" >0</th>\n",
              "                        <td id=\"T_3ee9af6e_baee_11eb_8204_0242ac1c0002row0_col0\" class=\"data row0 col0\" >silence was token home spoken - seeing scarce suddenly visitor perched decorum soul mystery doubting much grim little much minute caught stronger </td>\n",
              "            </tr>\n",
              "            <tr>\n",
              "                        <th id=\"T_3ee9af6e_baee_11eb_8204_0242ac1c0002level0_row1\" class=\"row_heading level0 row1\" >1</th>\n",
              "                        <td id=\"T_3ee9af6e_baee_11eb_8204_0242ac1c0002row1_col0\" class=\"data row1 col0\" >roll mountain divining shore- -- press deep i hear thunder long each nightly curtain thunder myself plainly parting balm 'never- lost chamber </td>\n",
              "            </tr>\n",
              "            <tr>\n",
              "                        <th id=\"T_3ee9af6e_baee_11eb_8204_0242ac1c0002level0_row2\" class=\"row_heading level0 row2\" >2</th>\n",
              "                        <td id=\"T_3ee9af6e_baee_11eb_8204_0242ac1c0002row2_col0\" class=\"data row2 col0\" >whether back thunder us- ; wished borrow these dawn head ashore '' there- melancholy thing least torrent so sent me throws caught </td>\n",
              "            </tr>\n",
              "            <tr>\n",
              "                        <th id=\"T_3ee9af6e_baee_11eb_8204_0242ac1c0002level0_row3\" class=\"row_heading level0 row3\" >3</th>\n",
              "                        <td id=\"T_3ee9af6e_baee_11eb_8204_0242ac1c0002row3_col0\" class=\"data row3 col0\" >loneliness meaning- shrieked meant name that explore curious torrent presently longer ; these word straight relevancy sculptured quaint shrieked the nevermore red </td>\n",
              "            </tr>\n",
              "            <tr>\n",
              "                        <th id=\"T_3ee9af6e_baee_11eb_8204_0242ac1c0002level0_row4\" class=\"row_heading level0 row4\" >4</th>\n",
              "                        <td id=\"T_3ee9af6e_baee_11eb_8204_0242ac1c0002row4_col0\" class=\"data row4 col0\" >wrought maiden eagerly ' or soul forgotten obeisance not borrow gaunt implore- more silken from enchanted- minute forgotten presently off storm demon </td>\n",
              "            </tr>\n",
              "    </tbody></table><hr style=\"width: 400px; margin-left:0;\"><style  type=\"text/css\" >\n",
              "</style><table id=\"T_3eefd29a_baee_11eb_8204_0242ac1c0002\" style='display:inline-block'><thead>    <tr>        <th class=\"blank level0\" ></th>        <th class=\"col_heading level0 col0\" >Textgan Real Synth Data</th>    </tr></thead><tbody>\n",
              "                <tr>\n",
              "                        <th id=\"T_3eefd29a_baee_11eb_8204_0242ac1c0002level0_row0\" class=\"row_heading level0 row0\" >0</th>\n",
              "                        <td id=\"T_3eefd29a_baee_11eb_8204_0242ac1c0002row0_col0\" class=\"data row0 col0\" >whether unseen bird storm shadow shadow respite respite shadow shadow shadow you black saw grew saw quit each plutonian thereat each air </td>\n",
              "            </tr>\n",
              "            <tr>\n",
              "                        <th id=\"T_3eefd29a_baee_11eb_8204_0242ac1c0002level0_row1\" class=\"row_heading level0 row1\" >1</th>\n",
              "                        <td id=\"T_3eefd29a_baee_11eb_8204_0242ac1c0002row1_col0\" class=\"data row1 col0\" >bird whether fantastic roll dreary maiden angels days dreary cushion unseen separate unseen unseen faintly dreary sure unseen this shadow shadow thereat </td>\n",
              "            </tr>\n",
              "            <tr>\n",
              "                        <th id=\"T_3eefd29a_baee_11eb_8204_0242ac1c0002level0_row2\" class=\"row_heading level0 row2\" >2</th>\n",
              "                        <td id=\"T_3eefd29a_baee_11eb_8204_0242ac1c0002row2_col0\" class=\"data row2 col0\" >bird unhappy whether guessing wheeled whose shadow whether there quit thereat hath thereat quit us- at more upon moment tempter minute utters </td>\n",
              "            </tr>\n",
              "            <tr>\n",
              "                        <th id=\"T_3eefd29a_baee_11eb_8204_0242ac1c0002level0_row3\" class=\"row_heading level0 row3\" >3</th>\n",
              "                        <td id=\"T_3eefd29a_baee_11eb_8204_0242ac1c0002row3_col0\" class=\"data row3 col0\" >sun fast sought on tempter still bring bring fantastic grew shadow mystery unseen unseen quit dreary quit sun little horror laden gave </td>\n",
              "            </tr>\n",
              "            <tr>\n",
              "                        <th id=\"T_3eefd29a_baee_11eb_8204_0242ac1c0002level0_row4\" class=\"row_heading level0 row4\" >4</th>\n",
              "                        <td id=\"T_3eefd29a_baee_11eb_8204_0242ac1c0002row4_col0\" class=\"data row4 col0\" >bird tinkled shadow angels minute shadow sculptured minute desert borrow linking quit said hath hath was sun whether madam air air childhood </td>\n",
              "            </tr>\n",
              "    </tbody></table>"
            ]
          },
          "metadata": {
            "tags": []
          }
        }
      ]
    },
    {
      "cell_type": "code",
      "metadata": {
        "id": "DB0rVh94Skix",
        "colab": {
          "base_uri": "https://localhost:8080/",
          "height": 621
        },
        "outputId": "3eb19b4b-9313-49b3-ada5-2899c9595849"
      },
      "source": [
        "vis.display_metrics()"
      ],
      "execution_count": 5,
      "outputs": [
        {
          "output_type": "display_data",
          "data": {
            "image/png": "[encoded data removed]",
            "text/plain": [
              "<Figure size 1440x720 with 8 Axes>"
            ]
          },
          "metadata": {
            "tags": [],
            "needs_background": "light"
          }
        }
      ]
    },
    {
      "cell_type": "markdown",
      "metadata": {
        "id": "iLNMnekIRMnb"
      },
      "source": [
        "### Observations\n",
        "The graphs above help visualize the performances of the various GAN models with both oracle and real training. Each of our 3 models seemed to perform much better than TextGan in the NLL-Test with both Oracle and real training, as well as under the Embedding Similarity metric with Oracle training. Another interesting note is that CGan's performance seems to improve quite a bit under adversarial training under the Embedding Similarity Metric with real training, while InfoGan and TextGan seems to perform worse in the same measure. Similarly, as the number of epochs increases, CGan's performances eclipses those of the other 4 models under the NLL measure with Oracle training. Of course, these metrics are only measured across 5 epochs, so it'd be helpful to see how the models perform given more time. But we can still use this information to get a better understanding of each model's performance."
      ]
    },
    {
      "cell_type": "markdown",
      "metadata": {
        "collapsed": false,
        "id": "FZoFeysDQsnw"
      },
      "source": [
        "## Notes\n",
        " This project was a collaborative effort by all team members listed in top of document. Project was developed/run/tested while on video call as a team effort. All parties put forth equal effort in testing, data selection and stripping, as well as understanding content.\n",
        "\n",
        " >**Note:** please refer to Team Project Documentation\\MileStone3\\Stephanie_Jackson_Ravjot_CIS700_M3_Contribution.txt for more contribution details\n",
        "\n",
        "Given the short duration of setup, running, etc there was not sufficient time to truly understand each of the models under the project. Two models from the previous milestone were used as the benchmark for comparison with the three newly incorporated models added with this milestone. However more time would be require for all encompassing tasking to really dive in and understand these models, and to run over longer epochs to see more concrete data results and comparisons. Additionally it should be noted the amount of time it takes to run these models with higher epoch values. Running the full models over and over can help training, however can take hours to complete. Furthermore, the .csv files were not populating. Given more time dedicate to this project, issues may have been able to be resolved"
      ]
    },
    {
      "cell_type": "markdown",
      "metadata": {
        "collapsed": false,
        "id": "zGfiU7ujQsnw"
      },
      "source": [
        "##Reference\n",
        "[1] Geek-Ai. “Texygen by Geek.AI.” GitHub, 2017, github.com/geek-ai/Texygen.\n",
        "\n",
        "[2] Yu, Lantao, et al. “SeqGAN: Sequence Generative Adversarial Nets with Policy Gradient.” ArXiv.org, 25 Aug. 2017, arxiv.org/abs/1609.05473.\n",
        "\n",
        "[3] Zhang, Yizhe, et al. “Adversarial Feature Matching for Text Generation.” ArXiv.org, 18 Nov. 2017, arxiv.org/abs/1706.03850.\n",
        "\n",
        "[4] Chen, Xi, Duan, Yan, Houthooft, Rein, Schulman, John,\n",
        "Sutskever, Ilya, and Abbeel, Pieter. Infogan: Interpretable representation learning by information maximizing generative adversarial nets. arXiv preprint\n",
        "arXiv:1606.03657, 2016a.\n",
        "\n",
        "[5] EA Poem Source.  https://poestories.com/read/valentine\n",
        "\n",
        "[6] Unsupervised Representation Learning with Deep Convolutional Generative Adversarial Networks\n",
        "https://arxiv.org/abs/1511.06434"
      ]
    },
    {
      "cell_type": "code",
      "metadata": {
        "id": "9irmoejZQsnw"
      },
      "source": [
        "#PDF/HTML conversion of notebook\n",
        "!apt-get install texlive texlive-xetex texlive-latex-extra pandoc\n",
        "!pip install pypandoc"
      ],
      "execution_count": null,
      "outputs": []
    },
    {
      "cell_type": "code",
      "metadata": {
        "id": "9AAQvH7d35Rp"
      },
      "source": [
        "!jupyter nbconvert --output-dir='results/' --to PDF \"milestone3.ipynb\"\n",
        "!jupyter nbconvert --output-dir='results/' --to HTML \"milestone3.ipynb\""
      ],
      "execution_count": null,
      "outputs": []
    },
    {
      "cell_type": "code",
      "metadata": {
        "id": "T6ZFU-LX7JSs"
      },
      "source": [
        "#Download results/midterm dir\n",
        "!zip -r results.zip results/\n",
        "from google.colab import files\n",
        "files.download(\"results.zip\")"
      ],
      "execution_count": null,
      "outputs": []
    }
  ]
}