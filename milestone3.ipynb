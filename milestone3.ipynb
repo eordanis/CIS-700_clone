{
  "nbformat": 4,
  "nbformat_minor": 0,
  "metadata": {
    "accelerator": "GPU",
    "colab": {
      "name": "milestone3.ipynb",
      "provenance": [],
      "collapsed_sections": [
        "IQQn8V-8Qsnq"
      ]
    },
    "kernelspec": {
      "display_name": "Python 3",
      "language": "python",
      "name": "python3"
    },
    "language_info": {
      "codemirror_mode": {
        "name": "ipython",
        "version": 2
      },
      "file_extension": ".py",
      "mimetype": "text/x-python",
      "name": "python",
      "nbconvert_exporter": "python",
      "pygments_lexer": "ipython2",
      "version": "2.7.6"
    }
  },
  "cells": [
    {
      "cell_type": "markdown",
      "metadata": {
        "collapsed": false,
        "id": "_RTasmaUQsnX"
      },
      "source": [
        "# Milestone 3\n",
        "\n",
        "Stephanie Eordanidis.\n",
        "Ravjot Sachdev,\n",
        "Jackson Taber\n",
        "\n",
        "Syracuse University : College of Engineering & Computer Science\n",
        "\n",
        "223 Link Hall, Syracuse, NY 13244\n",
        "\n",
        "sleordan@syr.edu, rssachde@syr.edu, jrtaber@syr.edu\n",
        "\n",
        "CIS 700 Machine Learning and Security\n",
        "\n",
        "06/16/2021\n"
      ]
    },
    {
      "cell_type": "markdown",
      "metadata": {
        "collapsed": false,
        "id": "2saP1Da3Qsnf"
      },
      "source": [
        "## Theme:\n",
        " “Adversarial Text Generation: Adversarial Machine Learning Applications in Text Analysis”"
      ]
    },
    {
      "cell_type": "markdown",
      "metadata": {
        "collapsed": false,
        "id": "M443L_l7Qsng"
      },
      "source": [
        "## Purpose:\n",
        "The purpose of this lab is to add three new GAN metrics to the project space and successfully run them on the chosen GAN models from previous milestones."
      ]
    },
    {
      "cell_type": "markdown",
      "metadata": {
        "collapsed": false,
        "id": "Bsrl-QKhQsnh"
      },
      "source": [
        "## Project:\n",
        "Texygen is the name of the project selected. This project is a benchmarking tool that aids in text generation model research and testing. This tool allows for ease of various model testing to compare accuracy and synthetic data generation of models using same training baseline."
      ]
    },
    {
      "cell_type": "markdown",
      "metadata": {
        "collapsed": false,
        "id": "YmXaOJ8AQsni"
      },
      "source": [
        "## (Hard/Soft)ware:\n",
        "**Google Colaboratory**\t\thttps://colab.research.google.com/\n",
        "\n",
        "**GPU**                     Python 3 Google Compute Engine backend\n",
        "\n",
        "**Github**                  https://github.com/eordanis/CIS-700_clone/"
      ]
    },
    {
      "cell_type": "markdown",
      "metadata": {
        "collapsed": false,
        "id": "QGtxblBCQsni"
      },
      "source": [
        "## Resources:\n",
        "**Original Source:** \t\thttps://github.com/geek-ai/Texygen\n",
        "\n",
        "**Modified Sources Acquired:** \t2SU Course Files Section -> Texygenmaster_Python_3.6.zip"
      ]
    },
    {
      "cell_type": "markdown",
      "metadata": {
        "collapsed": false,
        "id": "kolVF4c9Qsnj"
      },
      "source": [
        "## Data:\n",
        "The data for the selected project is setup as follows:\n",
        "\n",
        "•\tGenerated data training: 5000 word and 20 sentence count\n",
        "\n",
        "•\tOracle data generation: 10,000 sentence generation\n",
        "\n",
        "•\tReal data training:\n",
        "\n",
        "\n",
        "*   image_coco : 20,000 sentences chosen from the image\n",
        " *   COCO captions data. 10,000 of which are used as training set while other 10,000 used as test set\n",
        "*   emlp_news_min : 20,000 sentences\n",
        " *  A minified version of emlp_news : reduced from 278,586 lines of text in training data to 10,000 and also 10,000 for test. Trying to run real training on 1/4 of a million lines proved too taxing even on colab pro. minified version should yeild decent results comparable to image_coco, the project default.\n",
        "*   eapoe : 266 sentences\n",
        " *  eapoe : 266 sentences Compiled from various Edgar Allan Po Poems found on referenced poem sight  [4]."
      ]
    },
    {
      "cell_type": "markdown",
      "metadata": {
        "collapsed": false,
        "id": "tnT5EoDoQsnk"
      },
      "source": [
        "## Modifications:\n",
        " To begin, the modified source code acquired from the 2SU application was further modified to combine the original intention of the origin source authors as well as professor modification. If no arguments are passed, all models/data are run.\n",
        " > **Note**: The order or model generation is done by first iterating over the GAN model type, then data type. If arguments are passed, those arguments will be validated and run accordingly to run a more targeted model test.\n",
        "\n",
        " Modifications were applied to eliminate much library warnings and informational messages as to keep output as clean as possible. File path naming was updated to be compliant with Google Colaboratory environment. All epoch time elapse console printing has been commented out for cleaner output reading.\n",
        "\n",
        " **Modifications under previous course works:**\n",
        "* Addition of three new GAN models\n",
        "    * CGAN\n",
        "    * InfoGAN\n",
        "    * DCGAN\n",
        "\n",
        "* Fixed LeakGAN project to work and run properly by setting standardized default flag attributes in main.py\n",
        "* Update models to save off test files for each training type run (ie oracle, cfg, real)\n",
        "* Updated models to use unified naming schema for test files, with model as the model the file was generated for and training as the training the data was generated from\n",
        "\n",
        "    **Example:** \n",
        "    * experiment-log-model-training.csv\n",
        "    * oracle-model-training.txt\n",
        "    * generator-model-training.txt\n",
        "    * test_file-model-training.txt\n",
        "\n",
        "* Updated models to set file name in main.py on the GAN model directly instead of in each model file themselves\n",
        "* Added additional field called 'log_file' to be the name for the experiment-log file data\n",
        "* Update to add new dir for midterm content vs milestone project\n",
        "* Added new util called visual.py to handle data representation\n",
        "* Allow visual.py to take directory param. if none exist, default to /content/CIS-700_clone/results\n",
        "* Updated visual.py to grab files from directory and generate visual data representations from relevant files in a more automated and less hard coded way\n",
        "* Allow main.py to take a results output directory via arg -o, if arg not present sets to results/\n",
        "* Allow main.py to take value for epoch via -p arg to use in model training\n",
        "* For argument provided training, added more detailed messaging as well as metric grid showing metrics that will be used during model generation\n",
        "* Cleaned main.py and model files to limit print to console, additionally console print is uniform and consistent across. \n",
        "* Added time elapsed pring statement for model run.\n",
        "\n",
        "**Modifications under this work:**\n",
        "* Addition of three new metrics:\n",
        "    * Time Elapse Interval (TEI)\n",
        "        TEI measures time elapse for the model per epoch run. Used to measure average time efficiency to run model for each training during epochs. Helps gauge run time during various model training components (ie pre training and adversarial training)\n",
        "    * Accuracy (ACC)\n",
        "        ACC is implemented as a discriminator metric that measures the accuracy of the discriminator's predictions on the labelled input data. A higher accuracy indicates that the discriminator's predictions align with the input data.\n",
        "    * Perplexity (PPL)\n",
        "        PPL is implemented as a generator metric that measures a model’s confidence in its next prediction, with lower perplexity scores indicating a stronger confidence of the model’s prediction.\n",
        "\n"
      ]
    },
    {
      "cell_type": "markdown",
      "metadata": {
        "collapsed": false,
        "id": "BlSdA9AHQsnk"
      },
      "source": [
        "## Setup:\n",
        "Due to the heft of processor/gpu usage, it was deemed necessary to run the project in the Google Colaboratory. Original attempt to run was done via Pycharm IDE Professional Edition with Anaconda derived environments, however this proved too great of a strain on the accessible workstation.\n",
        "\n",
        "Additionally, it is important to note if timeout is experienced, it is possible to run a ClickConnect script via inspector tools to prevent timeout while running long codes. The following code worked in chrome when inserted in the developer console at time of test:\n",
        "\n",
        "> \n",
        "```\n",
        "let myClick = function ClickConnect({\n",
        "console.log('Working - Preventing Timeout'); \n",
        "document.querySelector('colab-connect-button').shadowRoot.getElementById('connect').click(); \n",
        "}\n",
        "setInterval(myClick,60000);\n",
        "```"
      ]
    },
    {
      "cell_type": "markdown",
      "metadata": {
        "id": "XPJON6fhRavh"
      },
      "source": [
        ""
      ]
    },
    {
      "cell_type": "markdown",
      "metadata": {
        "collapsed": false,
        "id": "s8H8-PlvQsnk"
      },
      "source": [
        "### Step 1\n",
        "A new Google Colaboratory workspace was setup, titled “Milestone3”. This workspace was run using the hosted runtime environment. This document is the current document being read.\n",
        "\n",
        "In order to run against provided code base, it was necessary to sync the colab workspace the github repository files as follows\n",
        "\n",
        "```\n",
        "!git clone https://$GITHUB_AUTH@github.com/eordanis/CIS-700_clone/\n",
        "```\n",
        "\n",
        "Running this command from the first cell in the workbook syncs the drive to the github repo location of project location, as well as change to the necessary directory"
      ]
    },
    {
      "cell_type": "code",
      "metadata": {
        "id": "VW3S7VYw0c-2"
      },
      "source": [
        "import shutil\n",
        "# to prevent nesting problems, remove directory and its contents if exists\n",
        "#if called to remove known existing, must restart runtime before cloning again\n",
        "dir_path = '/content/CIS-700_clone'\n",
        "try:\n",
        "    shutil.rmtree(dir_path)\n",
        "except OSError as e:\n",
        "    print(\"Error: %s : %s\" % (dir_path, e.strerror))"
      ],
      "execution_count": null,
      "outputs": []
    },
    {
      "cell_type": "code",
      "metadata": {
        "id": "7jPNtvoeQsnl"
      },
      "source": [
        "!git clone https://$GITHUB_AUTH@github.com/eordanis/CIS-700_clone/\n",
        "%cd CIS-700_clone"
      ],
      "execution_count": null,
      "outputs": []
    },
    {
      "cell_type": "markdown",
      "metadata": {
        "collapsed": false,
        "id": "aJ-ge5jqQsno"
      },
      "source": [
        "### Step 2\n",
        "Now it was necessary to import and download any missing libraries the hosted colaborartoy runtime did not have readily available via the following commands:\n",
        "```\n",
        "            !pip install -r \"requirements.txt\"\n",
        "            import nltk\n",
        "            nltk.download('punkt')\n",
        "```\n",
        "Running this command from the next cell in the workbook installed the necessary libraries and at specified versions for the project.\n"
      ]
    },
    {
      "cell_type": "code",
      "metadata": {
        "id": "MO2DlrxDQsno"
      },
      "source": [
        "!pip install -r \"requirements.txt\"\n",
        "import nltk\n",
        "nltk.download('punkt')\n",
        "\n",
        "!wget http://kheafield.com/code/kenlm.tar.gz\n",
        "!tar -zxvf kenlm.tar.gz\n",
        "%cd kenlm\n",
        "!mkdir -p build\n",
        "%cd build\n",
        "!cmake ..\n",
        "!make -j 4\n",
        "%pip install https://github.com/kpu/kenlm/archive/master.zip\n",
        "%cd ..\n",
        "%cd .."
      ],
      "execution_count": null,
      "outputs": []
    },
    {
      "cell_type": "markdown",
      "metadata": {
        "collapsed": false,
        "id": "-Rp_zaP5Qsnp"
      },
      "source": [
        "### Step 3\n",
        "Now it is time to run the application. Below are two examples of commands to run the application.\n",
        "```\n",
        "!python3 \"main.py\"\n",
        "```\n",
        "This first command was run without parameters. In the case of this command, all trainings (SeqGAN, Gsgan, TextganMmd, Leakgan, Rankgan, Maligan, Mle) were run on all available defaulted training data (oracle LSTM, real data, CFG). Running this command can take around 2+ hours to complete.\n",
        "\n",
        "```\n",
        "!python3 \"main.py\" -g seqgan -t real\n",
        "```\n",
        "\n",
        "This second command was run with parameters. In the case of this command, main was run with SeqGAN training on image_coco. Running targeted trainings take less time to run, on average completing in 5-15 minutes depending on selected parameters. With the above selection, runtime was run above 10 minutes.\n",
        "\n",
        "```\n",
        "!python3 \"main.py\" -g seqgan -t real  -d data/eapoe.txt\n",
        "```\n",
        "\n",
        "This third command was run with parameters. In the case of this command, main was run with SeqGAN training on eapoe.\n",
        "\n",
        "```\n",
        "!python3 \"main.py\" -g seqgan -t real  -d data/eapoe.txt -o results/test/\n",
        "``` \n",
        "This third command was run with parameters. In the case of this command, main was run with SeqGAN training on eapoe and results will output to results/test directory.\n",
        "\n",
        "```\n",
        "!python3 \"main.py\" -g seqgan -t real  -d data/eapoe.txt -o results/test/ -p 45\n",
        "``` \n",
        "This fourth command was run with parameters. In the case of this command, main was run with SeqGAN training on eapoe and results will output to results/test directory and run on 45 epoch for both pre and adversarial training .\n",
        "\n",
        "Running targeted trainings take less time to run, on average completing in 5-15 minutes depending on selected parameters. With the above selection, runtime was run above 10 minutes.\n",
        "\n",
        "> **NOTE:** For above estimates, based around 5 epochs. Additionally, CFG training appears to have stopped working suddenly, unsure why broken. Therefore running without that option for the time being. Additionally, the LeakGan model failed entirely to run now due to flag errors, so this model was discarded from testing.\n",
        "\n"
      ]
    },
    {
      "cell_type": "markdown",
      "metadata": {
        "id": "fGm2gigGLyRX"
      },
      "source": [
        "## Overview"
      ]
    },
    {
      "cell_type": "markdown",
      "metadata": {
        "collapsed": false,
        "id": "f9iJu3UIQsnp"
      },
      "source": [
        "### Process\n",
        "\n",
        "When running the various models, there are similar steps for each.\n",
        "1.\tBeginning Training – begin model training(s)\n",
        "2.\tSet training - sets the desired model training method\n",
        "3.\tStart model pre-train generator – uses the training data to pre-train the generator model\n",
        "4.\tStart model pre-train discriminator - – uses the training data to pre-train the discriminator model\n",
        "5.\tModel adversarial training – runs the model to generate results based on the test data and metrics applied\n",
        "6.\tFinish Training – end of model training(s)\n",
        "\n",
        "During training, each model training runs through several passes or epochs. For simplicity, base epoch is set to 5, with model training running thrice for 15 total epochs there abouts for each model trained on a particular data set.\n"
      ]
    },
    {
      "cell_type": "markdown",
      "metadata": {
        "collapsed": false,
        "id": "wbTurK39Qsnq"
      },
      "source": [
        "### Baseline Models\n",
        "\n",
        " For this report, the TextGAN and SeqGAN models were run on oracle and real training types in the previous project milestone and will be used as the baseline for new model comparisons. The real training types essentially runs the data against the image_coco.txt caption data. The TextGAN and SeqGAN was developed by the source project team to improve on existing GAN networks.\n",
        "\n",
        " With regards to TextGan, the goal of this model is to generate high quality realistic synthetic data while overcoming the convergence dilemma by using a generator that runs as a long short-term memory network and its discriminator a convolutional network. By matching high-dimension laten feature distributions of the testing and training data, this model over longer epochs has shown demonstrate a higher performance in quantitative evaluation, showing the TextGAN model can produce sentences that appear to have been written by a human, and not AI generated.\n",
        "\n",
        " For the SeqGAN model, this also proved successful in generating realistic looking sentences via this generator process. A second model was selected for comparison purposes. SeqGAN’s generator is based off the reinforcement learning stochastic policy, allowing SeqGAN to performing gradient policy update in order to circumvent differentiation issues in the generation. Its discriminator is run on complete sentences, and its results used as the reinforcement learning reward signal. According to source authors, this model boasted higher performance over others run."
      ]
    },
    {
      "cell_type": "markdown",
      "metadata": {
        "collapsed": false,
        "id": "a5Us2aDIIlQC"
      },
      "source": [
        "### New Models From Previous Milestone\n",
        "\n",
        "### **CGAN** - Conditional Generative Adversarial Network\n",
        "\n",
        "Conditional adversarial network, or CGAN for short, is a basic modification of GAN that simply adds an additional layer that conditions both the descriminator and generator model layers. For this labs purposes, an existing GAN model was used as the base, and in both the Generator and Discriminator an embedded layer was incorporated as the first layer, used as the conditioning layer. For the sake of specificity, this GAN could actually be considered an CGSGAN, however for simplicity we will refer to is as simply CGAN.\n",
        "\n",
        "### **INFOGAN**\n",
        "\n",
        "InfoGan is an adjusted simple version of GAN that seeks to maximize the mutual information of a fixed subset of GAN noise varaibles. It is able to achieve this by having numerous convolution layers added to a regular implemtation of a GAN that are connected at the end, this makes the additional cost of computation low. For the use of this lab an existing GAN was used as the base and the convolution layers were added and connected at the end. \n",
        "\n",
        "### **DCGAN**\n",
        "\n",
        "Deep convolutional generative adversarial networks (DCGANs) are a class of convolutional networks (CNNs) \n",
        "aimed to incorporate unsupervised learning. Some key components of the DCGAN architecture are the use of the Tanh activation function for the generator's output layer, LeakyReLU activation in the discriminator, and the removal of any fully connected hidden layers. With these features, the original study conducted was able to create a robust DCGAN, achieving an 82.8% accuracy on the on the CIFAR-10 image dataset."
      ]
    },
    {
      "cell_type": "markdown",
      "metadata": {
        "collapsed": false,
        "id": "Olz1GYmaQsnp"
      },
      "source": [
        "### Metrics\n",
        "\n",
        "**Abbreviations:**\n",
        "*   BLEU \t- BiLingual Evaluation Understudy\n",
        "*   GAN \t- Generative Adversarial Network\n",
        "*   NLL \t- Negative Log-Likelihood\n",
        "*   RL\t- Reinforcement Learning\n",
        "\n",
        "**Definitions**\n",
        "*   EmbSim – influenced by BLEU, used instead to compare the word embeddings vs BLEU’s comparison of word similarity between two sentences or documents.\n",
        "*   NLL-oracle : applied to synthetic data to determine fitting via oracle language model standards.\n",
        "*   NLL-test : dual to NLL-Oracle, used to determine a model’s capability to fit to real test data\n",
        "\n",
        "These measurement standards and more are discussed in the project directory’s “/docs/evaluation.md” location.\n"
      ]
    },
    {
      "cell_type": "markdown",
      "metadata": {
        "collapsed": false,
        "id": "hkPFweGIKlm_"
      },
      "source": [
        "### New Metrics\n",
        "\n",
        "#### **Time Elapse Interval (TEI)**\n",
        "TEI measures time elapse for the model per epoch run. Used to measure average time efficiency to run model for each training during epochs. Helps gauge run time during various model training components (ie pre training and adversarial training)\n",
        "\n",
        "#### **Accuracy (ACC)**\n",
        "ACC is implemented as a discriminator metric that measures the accuracy of the discriminator's predictions on the labelled input data. A higher accuracy indicates that the discriminator's predictions align with the input data.\n",
        "\n",
        "#### **Perplexity (PPL)**\n",
        "PPL is implemented as a generator metric that measures a model’s confidence in its next prediction, with lower perplexity scores indicating a stronger confidence of the model’s prediction."
      ]
    },
    {
      "cell_type": "markdown",
      "metadata": {
        "collapsed": false,
        "id": "KkTxDWRTQsnq"
      },
      "source": [
        "## Test\n",
        " For this project, we will use the following arguments\n",
        "\n",
        "```\n",
        "#directory to use for model results output\n",
        "directory = '/content/CIS-700_clone/results/'\n",
        "\n",
        "#data set location to use\n",
        "data = '/content/CIS-700_clone/data/eapoe.txt'\n",
        "\n",
        "#epoch values to run for pre and adversarial training\n",
        "epoch = '5'\n",
        "```\n",
        "\n",
        " Epochs were increased left to run at 5 for the sake of time. However, it is noted that as according to original project sourcing, >= 45 epochs for the models display the best NLL loss results on epochs > 40, prior to that point results would be poorer. NLL loss values are indicated to be better the lower they are, so if these values trend downward, the models are improving. For EmbeddedSimilarity, higher values are desired for better results."
      ]
    },
    {
      "cell_type": "code",
      "metadata": {
        "id": "Ywwow-oCN4Ri"
      },
      "source": [
        "#data set location to use\n",
        "data = '/content/CIS-700_clone/data/eapoe.txt'\n",
        "\n",
        "# epoch values to run for pre and adversarial training\n",
        "epoch = '5'"
      ],
      "execution_count": 4,
      "outputs": []
    },
    {
      "cell_type": "markdown",
      "metadata": {
        "collapsed": false,
        "id": "wnVc8cM9OBEi"
      },
      "source": [
        "### CGAN\n",
        "The following commands are to run CGAN model on both oracle and real trainings.\n",
        "\n",
        "**NOTE:** The real data essentially trained the model on the eapoe.txt data.\n",
        "```\n",
        "!python3 \"main.py\" -g cgan -t oracle -d $data -p $epoch\n",
        "!python3 \"main.py\" -g cgan -t real -d $data -p $epoch\n",
        "```"
      ]
    },
    {
      "cell_type": "markdown",
      "metadata": {
        "id": "UTE3l1-YOBEk"
      },
      "source": [
        "#### Oracle Training"
      ]
    },
    {
      "cell_type": "code",
      "metadata": {
        "colab": {
          "base_uri": "https://localhost:8080/"
        },
        "id": "C3sJNf8gOBEl",
        "outputId": "53fd9aa6-12c0-4c95-ed58-7898d0541065"
      },
      "source": [
        "!python3 \"main.py\" -g cgan -t oracle -d $data -p $epoch"
      ],
      "execution_count": 5,
      "outputs": [
        {
          "output_type": "stream",
          "text": [
            "Unspecified Output Director Location: Defaulting to --> results/\n",
            "\n",
            "***************************************************************\n",
            "\n",
            "Model Set:                    Cgan\n",
            "Training Set:                 Oracle\n",
            "Data Set:                     /content/CIS-700_clone/data/eapoe.txt\n",
            "Epochs Set:                   5\n",
            "Results Output Directory Set: results/\n",
            "\n",
            "***************************************************************\n",
            "\n",
            "Recording Time Elapse...\n",
            "\n",
            "******** Beginning Training ********\n",
            "train_data =  results/generator_cgan_oracle.txt\n",
            "test_data =  results/oracle_cgan_oracle.txt\n",
            "Metrics Applied: nll-oracle, nll-test, EmbeddingSimilarity, tei, acc, ppl\n",
            "Pre-training Generator...\n",
            "epoch:1\t\tnll-oracle:10.534829\tnll-test:7.989137\tEmbeddingSimilarity:-0.13330428984006423\ttei:1.9804988225301108\tacc:0\tppl:3273.7598\t\n",
            "Pre-training Discriminator...\n",
            "Adversarial Training...\n",
            "epoch:6\t\tnll-oracle:14.63331\tnll-test:7.8258853\tEmbeddingSimilarity:-0.1296256958635492\ttei:1.6517211516698203\tacc:0.59375\tppl:3273.7598\t\n",
            "epoch:10\tnll-oracle:9.977864\tnll-test:8.206214\tEmbeddingSimilarity:-0.13391953215792934\ttei:3.305062166849772\tacc:0.0625\tppl:3273.7598\t\n",
            "\n",
            "******** Completed Training ********\n",
            "\n",
            "Time Elapsed: 07mins:36secs\n",
            "\n"
          ],
          "name": "stdout"
        }
      ]
    },
    {
      "cell_type": "markdown",
      "metadata": {
        "id": "lSW1_u0XOBEo"
      },
      "source": [
        "*For below model training and test, results are discussed later.*\n",
        "\n",
        "*For more details, see [Results Comparision](#results_comparision).*"
      ]
    },
    {
      "cell_type": "markdown",
      "metadata": {
        "collapsed": false,
        "id": "sasXxKmiOBEq"
      },
      "source": [
        "#### Real Training"
      ]
    },
    {
      "cell_type": "code",
      "metadata": {
        "id": "97OhChkuOBEr",
        "colab": {
          "base_uri": "https://localhost:8080/"
        },
        "outputId": "3445001a-48b0-4fce-a154-92ae3e637f26"
      },
      "source": [
        "!python3 \"main.py\" -g cgan -t real -d $data -p $epoch"
      ],
      "execution_count": 6,
      "outputs": [
        {
          "output_type": "stream",
          "text": [
            "Unspecified Output Director Location: Defaulting to --> results/\n",
            "\n",
            "***************************************************************\n",
            "\n",
            "Model Set:                    Cgan\n",
            "Training Set:                 Real\n",
            "Data Set:                     /content/CIS-700_clone/data/eapoe.txt\n",
            "Epochs Set:                   5\n",
            "Results Output Directory Set: results/\n",
            "\n",
            "***************************************************************\n",
            "\n",
            "Recording Time Elapse...\n",
            "\n",
            "******** Beginning Training ********\n",
            "train_data =  results/generator_cgan_real.txt\n",
            "test_data =  results/oracle_cgan_real.txt\n",
            "Metrics Applied: nll-test, EmbeddingSimilarity, tei, acc, ppl\n",
            "Pre-training Generator...\n",
            "epoch:1\t\tEmbeddingSimilarity:-0.36817533747723885\tnll-test:6.361944\ttei:0.9378317952156067\tacc:0\tppl:1020.2216\t\n",
            "Pre-training Discriminator...\n",
            "Adversarial Training...\n",
            "epoch:6\t\tEmbeddingSimilarity:-0.3295426012180885\tnll-test:6.037096\ttei:1.04540722767512\tacc:0.9375\tppl:1020.2216\t\n",
            "epoch:10\tEmbeddingSimilarity:-0.14000588788342286\tnll-test:6.9487686\ttei:2.530750521024068\tacc:0.03125\tppl:1020.2216\t\n",
            "\n",
            "******** Completed Training ********\n",
            "\n",
            "Time Elapsed: 04mins:58secs\n",
            "\n"
          ],
          "name": "stdout"
        }
      ]
    },
    {
      "cell_type": "markdown",
      "metadata": {
        "collapsed": false,
        "id": "liGvUTLYOBEs"
      },
      "source": [
        "*For below model training and test, results are discussed later.*\n",
        "\n",
        "*For more details, see [Results Comparision](#results_comparision).*"
      ]
    },
    {
      "cell_type": "markdown",
      "metadata": {
        "collapsed": false,
        "id": "l8dzmnc8IlQG"
      },
      "source": [
        "### DCGAN\n",
        "The following commands are to run DCGAN model on both oracle and real trainings.\n",
        "\n",
        "> **NOTE:** The real data essentially trained the model on the eapoe.txt data.\n",
        "```\n",
        "!python3 \"main.py\" -g dcgan -t oracle -d $data -p $epoch\n",
        "!python3 \"main.py\" -g dcgan -t real -d $data -p $epoch\n",
        "```"
      ]
    },
    {
      "cell_type": "markdown",
      "metadata": {
        "id": "IhKxxioENQ1V"
      },
      "source": [
        "#### Oracle Training"
      ]
    },
    {
      "cell_type": "code",
      "metadata": {
        "id": "8QFnuHB7IlQG",
        "colab": {
          "base_uri": "https://localhost:8080/"
        },
        "outputId": "2006e63c-a675-4819-d108-8691e8060d4d"
      },
      "source": [
        "!python3 \"main.py\" -g dcgan -t oracle -d $data -p $epoch"
      ],
      "execution_count": 7,
      "outputs": [
        {
          "output_type": "stream",
          "text": [
            "Unspecified Output Director Location: Defaulting to --> results/\n",
            "\n",
            "***************************************************************\n",
            "\n",
            "Model Set:                    Dcgan\n",
            "Training Set:                 Oracle\n",
            "Data Set:                     /content/CIS-700_clone/data/eapoe.txt\n",
            "Epochs Set:                   5\n",
            "Results Output Directory Set: results/\n",
            "\n",
            "***************************************************************\n",
            "\n",
            "Recording Time Elapse...\n",
            "\n",
            "******** Beginning Training ********\n",
            "train_data =  results/generator_dcgan_oracle.txt\n",
            "test_data =  results/oracle_dcgan_oracle.txt\n",
            "Metrics Applied: nll-oracle, nll-test, EmbeddingSimilarity, tei, acc, ppl\n",
            "Pre-training Generator...\n",
            "epoch:1\t\tnll-oracle:10.720178\tnll-test:7.441417\tEmbeddingSimilarity:-0.21503435510202246\ttei:1.9748214801152548\tacc:0\tppl:6726.8167\t\n",
            "Pre-training  Discriminator...\n",
            "Adversarial Training...\n",
            "epoch:6\t\tnll-oracle:10.562969\tnll-test:7.2489514\tEmbeddingSimilarity:-0.21475022843196706\ttei:1.9920844078063964\tacc:0.4375\tppl:6726.8167\t\n",
            "epoch:10\tnll-oracle:10.552996\tnll-test:7.2919326\tEmbeddingSimilarity:-0.20764352832172314\ttei:3.8359674493471783\tacc:0.46875\tppl:6726.8167\t\n",
            "\n",
            "******** Completed Training ********\n",
            "\n",
            "Time Elapsed: 08mins:28secs\n",
            "\n"
          ],
          "name": "stdout"
        }
      ]
    },
    {
      "cell_type": "markdown",
      "metadata": {
        "collapsed": false,
        "id": "hsF9XI26IlQG"
      },
      "source": [
        "*For below model training and test, results are discussed later.*\n",
        "\n",
        "*For more details, see [Results Comparision](#results_comparision).*"
      ]
    },
    {
      "cell_type": "markdown",
      "metadata": {
        "id": "mCkJkRjkNT0_"
      },
      "source": [
        "#### Real Training"
      ]
    },
    {
      "cell_type": "code",
      "metadata": {
        "id": "pL13US0yIlQG",
        "colab": {
          "base_uri": "https://localhost:8080/"
        },
        "outputId": "b62873ba-36aa-4815-9c34-7a1ad519a21e"
      },
      "source": [
        "!python3 \"main.py\" -g dcgan -t real -d $data -p $epoch"
      ],
      "execution_count": 8,
      "outputs": [
        {
          "output_type": "stream",
          "text": [
            "Unspecified Output Director Location: Defaulting to --> results/\n",
            "\n",
            "***************************************************************\n",
            "\n",
            "Model Set:                    Dcgan\n",
            "Training Set:                 Real\n",
            "Data Set:                     /content/CIS-700_clone/data/eapoe.txt\n",
            "Epochs Set:                   5\n",
            "Results Output Directory Set: results/\n",
            "\n",
            "***************************************************************\n",
            "\n",
            "Recording Time Elapse...\n",
            "\n",
            "******** Beginning Training ********\n",
            "train_data =  results/generator_dcgan_real.txt\n",
            "test_data =  results/oracle_dcgan_real.txt\n",
            "Metrics Applied: nll-test, EmbeddingSimilarity, tei, acc, ppl\n",
            "Pre-training Generator...\n",
            "epoch:1\t\tEmbeddingSimilarity:-1.1394602891302366\tnll-test:5.6753507\ttei:0.9595076004664104\tacc:0\tppl:891.6992\t\n",
            "Pre-training  Discriminator...\n",
            "Adversarial Training...\n",
            "epoch:6\t\tEmbeddingSimilarity:-0.7674406306576034\tnll-test:3.5134504\ttei:1.164234193166097\tacc:0.0\tppl:891.6992\t\n",
            "epoch:10\tEmbeddingSimilarity:-0.5629098260707919\tnll-test:3.579319\ttei:3.0373429973920185\tacc:0.03125\tppl:891.6992\t\n",
            "\n",
            "******** Completed Training ********\n",
            "\n",
            "Time Elapsed: 05mins:40secs\n",
            "\n"
          ],
          "name": "stdout"
        }
      ]
    },
    {
      "cell_type": "markdown",
      "metadata": {
        "collapsed": false,
        "id": "Me3Ufhn9IlQH"
      },
      "source": [
        "*For below model training and test, results are discussed later.*\n",
        "\n",
        "*For more details, see [Results Comparision](#results_comparision).*"
      ]
    },
    {
      "cell_type": "markdown",
      "metadata": {
        "collapsed": false,
        "id": "jYknSMAkQsns"
      },
      "source": [
        "### INFOGAN\n",
        "The following commands are to run INFOGAN model on both oracle and real trainings.\n",
        "\n",
        "> **NOTE:** The real data essentially trained the model on the eapoe.txt data.\n",
        "```\n",
        "!python3 \"main.py\" -g infogan -t oracle -d $data -p $epoch\n",
        "!python3 \"main.py\" -g infogan -t real -d $data -p $epoch\n",
        "```"
      ]
    },
    {
      "cell_type": "markdown",
      "metadata": {
        "id": "VecAobbhNHFH"
      },
      "source": [
        "#### Oracle Training"
      ]
    },
    {
      "cell_type": "code",
      "metadata": {
        "id": "8XK9faFoQsnt",
        "colab": {
          "base_uri": "https://localhost:8080/"
        },
        "outputId": "514b8a73-92ce-4452-f960-7a53924691ed"
      },
      "source": [
        "!python3 \"main.py\" -g infogan -t oracle -d $data -p $epoch"
      ],
      "execution_count": 9,
      "outputs": [
        {
          "output_type": "stream",
          "text": [
            "Unspecified Output Director Location: Defaulting to --> results/\n",
            "\n",
            "***************************************************************\n",
            "\n",
            "Model Set:                    Infogan\n",
            "Training Set:                 Oracle\n",
            "Data Set:                     /content/CIS-700_clone/data/eapoe.txt\n",
            "Epochs Set:                   5\n",
            "Results Output Directory Set: results/\n",
            "\n",
            "***************************************************************\n",
            "\n",
            "Recording Time Elapse...\n",
            "\n",
            "******** Beginning Training ********\n",
            "train_data =  results/generator_infogan_oracle.txt\n",
            "test_data =  results/oracle_infogan_oracle.txt\n",
            "Metrics Applied: nll-oracle, nll-test, EmbeddingSimilarity, tei, acc, ppl\n",
            "Pre-training  Generator...\n",
            "epoch:1\t\tnll-oracle:10.717546\tnll-test:7.4416223\tEmbeddingSimilarity:-0.21199913890316324\ttei:1.9775988976160686\tacc:0\tppl:10591.8633\t\n",
            "Pre-training   Discriminator...\n",
            "Adversarial Training...\n",
            "epoch:6\t\tnll-oracle:10.527277\tnll-test:7.247889\tEmbeddingSimilarity:-0.211212207168559\ttei:1.775283928712209\tacc:0.46875\tppl:10591.8633\t\n",
            "epoch:10\tnll-oracle:10.445213\tnll-test:7.282643\tEmbeddingSimilarity:-0.20455168284975261\ttei:3.8118852893511455\tacc:0.46875\tppl:10591.8633\t\n",
            "\n",
            "******** Completed Training ********\n",
            "\n",
            "Time Elapsed: 08mins:13secs\n",
            "\n"
          ],
          "name": "stdout"
        }
      ]
    },
    {
      "cell_type": "markdown",
      "metadata": {
        "collapsed": false,
        "id": "dZQXB5V2Qsnt"
      },
      "source": [
        "*For below model training and test, results are discussed later.*\n",
        "\n",
        "*For more details, see [Results Comparision](#results_comparision).*"
      ]
    },
    {
      "cell_type": "markdown",
      "metadata": {
        "id": "SH2UFo8DNKpb"
      },
      "source": [
        "#### Real Training"
      ]
    },
    {
      "cell_type": "code",
      "metadata": {
        "id": "AvEehdQSQsnt",
        "colab": {
          "base_uri": "https://localhost:8080/"
        },
        "outputId": "937b5482-0b7d-4b6a-ca15-1974bbd09b6d"
      },
      "source": [
        "!python3 \"main.py\" -g infogan -t real -d $data -p $epoch"
      ],
      "execution_count": 10,
      "outputs": [
        {
          "output_type": "stream",
          "text": [
            "Unspecified Output Director Location: Defaulting to --> results/\n",
            "\n",
            "***************************************************************\n",
            "\n",
            "Model Set:                    Infogan\n",
            "Training Set:                 Real\n",
            "Data Set:                     /content/CIS-700_clone/data/eapoe.txt\n",
            "Epochs Set:                   5\n",
            "Results Output Directory Set: results/\n",
            "\n",
            "***************************************************************\n",
            "\n",
            "Recording Time Elapse...\n",
            "\n",
            "******** Beginning Training ********\n",
            "train_data =  results/generator_infogan_real.txt\n",
            "test_data =  results/oracle_infogan_real.txt\n",
            "Metrics Applied: nll-test, EmbeddingSimilarity, tei, acc, ppl\n",
            "Pre-training  Generator...\n",
            "epoch:1\t\tEmbeddingSimilarity:-1.0819162003089347\tnll-test:5.625535\ttei:0.9641148765881856\tacc:0\tppl:1068.0638\t\n",
            "Pre-training   Discriminator...\n",
            "Adversarial Training...\n",
            "epoch:6\t\tEmbeddingSimilarity:-0.5316312323567908\tnll-test:3.1113029\ttei:1.190874715646108\tacc:0.0\tppl:1068.0638\t\n",
            "epoch:10\tEmbeddingSimilarity:-0.17387469852161172\tnll-test:3.3262415\ttei:3.2033821900685626\tacc:0.0\tppl:1068.0638\t\n",
            "\n",
            "******** Completed Training ********\n",
            "\n",
            "Time Elapsed: 05mins:53secs\n",
            "\n"
          ],
          "name": "stdout"
        }
      ]
    },
    {
      "cell_type": "markdown",
      "metadata": {
        "collapsed": false,
        "id": "HTEmkScQQsnt"
      },
      "source": [
        "*For below model training and test, results are discussed later.*\n",
        "\n",
        "*For more details, see [Results Comparision](#results_comparision).*"
      ]
    },
    {
      "cell_type": "markdown",
      "metadata": {
        "collapsed": false,
        "id": "IQQn8V-8Qsnq"
      },
      "source": [
        "### SeqGAN\n",
        "The following commands are to run SeqGAN model on both oracle and real trainings.\n",
        "\n",
        "**NOTE:** The real data essentially trained the model on the eapoe.txt data.\n",
        "```\n",
        "!python3 \"main.py\" -g seqgan -t oracle -d $data -p $epoch\n",
        "!python3 \"main.py\" -g seqgan -t real -d $data -p $epoch\n",
        "```"
      ]
    },
    {
      "cell_type": "markdown",
      "metadata": {
        "id": "-eE_sj9NMyNK"
      },
      "source": [
        "#### Oracle Training"
      ]
    },
    {
      "cell_type": "code",
      "metadata": {
        "id": "p0dEpH0EQsnr",
        "colab": {
          "base_uri": "https://localhost:8080/"
        },
        "outputId": "456cee53-5876-4a52-dad6-1ad6db2bd730"
      },
      "source": [
        "!python3 \"main.py\" -g seqgan -t oracle -d $data -p $epoch"
      ],
      "execution_count": 11,
      "outputs": [
        {
          "output_type": "stream",
          "text": [
            "Unspecified Output Director Location: Defaulting to --> results/\n",
            "\n",
            "***************************************************************\n",
            "\n",
            "Model Set:                    Seqgan\n",
            "Training Set:                 Oracle\n",
            "Data Set:                     /content/CIS-700_clone/data/eapoe.txt\n",
            "Epochs Set:                   5\n",
            "Results Output Directory Set: results/\n",
            "\n",
            "***************************************************************\n",
            "\n",
            "Recording Time Elapse...\n",
            "\n",
            "******** Beginning Training ********\n",
            "train_data =  results/generator_seqgan_oracle.txt\n",
            "test_data =  results/oracle_seqgan_oracle.txt\n",
            "Metrics Applied: nll-oracle, nll-test, EmbeddingSimilarity, tei, acc, ppl\n",
            "Pre-training Generator...\n",
            "epoch:1\t\tnll-oracle:10.721059\tnll-test:7.4408646\tEmbeddingSimilarity:-0.21510319223100235\ttei:1.9844633181889852\tacc:0\tppl:11759.4696\t\n",
            "Pre-training  Discriminator...\n",
            "Adversarial Training...\n",
            "epoch:6\t\tnll-oracle:10.541663\tnll-test:7.2498097\tEmbeddingSimilarity:-0.20923900373743434\ttei:1.7679272850354513\tacc:0.4375\tppl:11759.4696\t\n",
            "epoch:10\tnll-oracle:10.436457\tnll-test:7.2877564\tEmbeddingSimilarity:-0.20577050242964026\ttei:3.728414050738017\tacc:0.625\tppl:11759.4696\t\n",
            "\n",
            "******** Completed Training ********\n",
            "\n",
            "Time Elapsed: 08mins:07secs\n",
            "\n"
          ],
          "name": "stdout"
        }
      ]
    },
    {
      "cell_type": "markdown",
      "metadata": {
        "id": "0sR1q74iM3Cf"
      },
      "source": [
        "*For below model training and test, results are discussed later.*\n",
        "\n",
        "*For more details, see [Results Comparision](#results_comparision).*"
      ]
    },
    {
      "cell_type": "markdown",
      "metadata": {
        "collapsed": false,
        "id": "cvjMNcBLQsnr"
      },
      "source": [
        "#### Real Training"
      ]
    },
    {
      "cell_type": "code",
      "metadata": {
        "id": "7Hn4zHOuQsnr",
        "colab": {
          "base_uri": "https://localhost:8080/"
        },
        "outputId": "d625ef5c-ddd5-4751-be3b-2fc2f305b759"
      },
      "source": [
        "!python3 \"main.py\" -g seqgan -t real -d $data -p $epoch"
      ],
      "execution_count": 12,
      "outputs": [
        {
          "output_type": "stream",
          "text": [
            "Unspecified Output Director Location: Defaulting to --> results/\n",
            "\n",
            "***************************************************************\n",
            "\n",
            "Model Set:                    Seqgan\n",
            "Training Set:                 Real\n",
            "Data Set:                     /content/CIS-700_clone/data/eapoe.txt\n",
            "Epochs Set:                   5\n",
            "Results Output Directory Set: results/\n",
            "\n",
            "***************************************************************\n",
            "\n",
            "Recording Time Elapse...\n",
            "\n",
            "******** Beginning Training ********\n",
            "train_data =  results/generator_seqgan_real.txt\n",
            "test_data =  results/oracle_seqgan_real.txt\n",
            "Metrics Applied: nll-test, EmbeddingSimilarity, tei, acc, ppl\n",
            "Pre-training Generator...\n",
            "epoch:1\t\tEmbeddingSimilarity:-1.215774718658185\tnll-test:5.4708357\ttei:0.9631365776062012\tacc:0\tppl:770.7761\t\n",
            "Pre-training  Discriminator...\n",
            "Adversarial Training...\n",
            "epoch:6\t\tEmbeddingSimilarity:-0.16652556276245745\tnll-test:3.2102695\ttei:1.1795339028040568\tacc:0.0\tppl:770.7761\t\n",
            "epoch:10\tEmbeddingSimilarity:-0.1827212026947554\tnll-test:3.1191728\ttei:3.198356052239736\tacc:0.0625\tppl:770.7761\t\n",
            "\n",
            "******** Completed Training ********\n",
            "\n",
            "Time Elapsed: 05mins:52secs\n",
            "\n"
          ],
          "name": "stdout"
        }
      ]
    },
    {
      "cell_type": "markdown",
      "metadata": {
        "collapsed": false,
        "id": "ecR1k-ptQsns"
      },
      "source": [
        "*For below model training and test, results are discussed later.*\n",
        "\n",
        "*For more details, see [Results Comparision](#results_comparision).*"
      ]
    },
    {
      "cell_type": "markdown",
      "metadata": {
        "collapsed": false,
        "id": "Ms3S31EcOCTO"
      },
      "source": [
        "### TextGAN\n",
        "The following commands are to run TextGAN model on both oracle and real trainings.\n",
        "\n",
        "**NOTE:** The real data essentially trained the model on the eapoe.txt data.\n",
        "```\n",
        "!python3 \"main.py\" -g textgan -t oracle -d $data -p $epoch\n",
        "!python3 \"main.py\" -g textgan -t real -d $data -p $epoch\n",
        "```"
      ]
    },
    {
      "cell_type": "markdown",
      "metadata": {
        "id": "Ikl1wmOQOCTQ"
      },
      "source": [
        "#### Oracle Training"
      ]
    },
    {
      "cell_type": "code",
      "metadata": {
        "id": "SkCGQsgjOCTR",
        "colab": {
          "base_uri": "https://localhost:8080/"
        },
        "outputId": "02f9e660-5e1f-4e85-d89b-645dba4f5ea3"
      },
      "source": [
        "!python3 \"main.py\" -g textgan -t oracle -d $data -p $epoch"
      ],
      "execution_count": 13,
      "outputs": [
        {
          "output_type": "stream",
          "text": [
            "Unspecified Output Director Location: Defaulting to --> results/\n",
            "\n",
            "***************************************************************\n",
            "\n",
            "Model Set:                    Textgan\n",
            "Training Set:                 Oracle\n",
            "Data Set:                     /content/CIS-700_clone/data/eapoe.txt\n",
            "Epochs Set:                   5\n",
            "Results Output Directory Set: results/\n",
            "\n",
            "***************************************************************\n",
            "\n",
            "Recording Time Elapse...\n",
            "\n",
            "******** Beginning Training ********\n",
            "train_data =  results/generator_textgan_oracle.txt\n",
            "test_data =  results/oracle_textgan_oracle.txt\n",
            "Metrics Applied: nll-oracle, nll-test, EmbeddingSimilarity, tei, acc, ppl\n",
            "Pre-training  Generator...\n",
            "epoch:1\t\tnll-oracle:12.172784\tnll-test:40.42925\tEmbeddingSimilarity:-0.1965088573073615\ttei:1.9016258319218953\tacc:0\tppl:13132.1719\t\n",
            "Pre-training  Discriminator...\n",
            "Adversarial Training...\n",
            "epoch:6\t\tnll-oracle:11.784831\tnll-test:36.225193\tEmbeddingSimilarity:-0.31544909107702557\ttei:1.5946348945299784\tacc:1.0\tppl:13132.1719\t\n",
            "epoch:10\tnll-oracle:11.784829\tnll-test:36.49654\tEmbeddingSimilarity:-0.31743904604292605\ttei:2.913949497540792\tacc:1.0\tppl:13132.1719\t\n",
            "\n",
            "******** Completed Training ********\n",
            "\n",
            "Time Elapsed: 06mins:48secs\n",
            "\n"
          ],
          "name": "stdout"
        }
      ]
    },
    {
      "cell_type": "markdown",
      "metadata": {
        "id": "nkmReuM0OCTS"
      },
      "source": [
        "*For below model training and test, results are discussed later.*\n",
        "\n",
        "*For more details, see [Results Comparision](#results_comparision).*"
      ]
    },
    {
      "cell_type": "markdown",
      "metadata": {
        "collapsed": false,
        "id": "-kBeipbYOCTT"
      },
      "source": [
        "#### Real Training"
      ]
    },
    {
      "cell_type": "code",
      "metadata": {
        "id": "VWU4eDLtOCTU",
        "colab": {
          "base_uri": "https://localhost:8080/"
        },
        "outputId": "5b2fd909-7673-4125-ad31-e663d0b26654"
      },
      "source": [
        "!python3 \"main.py\" -g textgan -t real -d $data -p $epoch"
      ],
      "execution_count": 14,
      "outputs": [
        {
          "output_type": "stream",
          "text": [
            "Unspecified Output Director Location: Defaulting to --> results/\n",
            "\n",
            "***************************************************************\n",
            "\n",
            "Model Set:                    Textgan\n",
            "Training Set:                 Real\n",
            "Data Set:                     /content/CIS-700_clone/data/eapoe.txt\n",
            "Epochs Set:                   5\n",
            "Results Output Directory Set: results/\n",
            "\n",
            "***************************************************************\n",
            "\n",
            "Recording Time Elapse...\n",
            "\n",
            "******** Beginning Training ********\n",
            "train_data =  results/generator_textgan_real.txt\n",
            "test_data =  results/oracle_textgan_real.txt\n",
            "Metrics Applied: nll-test, EmbeddingSimilarity, tei, acc, ppl\n",
            "Pre-training  Generator...\n",
            "epoch:1\t\tEmbeddingSimilarity:-0.4023692504412965\tnll-test:32.949615\ttei:0.9332664887110392\tacc:0\tppl:903.9903\t\n",
            "Pre-training  Discriminator...\n",
            "Adversarial Training...\n",
            "epoch:6\t\tEmbeddingSimilarity:-0.4431972083946625\tnll-test:33.8399\ttei:1.19359845717748\tacc:0.625\tppl:903.9903\t\n",
            "epoch:10\tEmbeddingSimilarity:-0.5257264523050709\tnll-test:33.971855\ttei:2.818093419075012\tacc:0.71875\tppl:903.9903\t\n",
            "\n",
            "******** Completed Training ********\n",
            "\n",
            "Time Elapsed: 05mins:19secs\n",
            "\n"
          ],
          "name": "stdout"
        }
      ]
    },
    {
      "cell_type": "markdown",
      "metadata": {
        "collapsed": false,
        "id": "dLb3sKxFOCTV"
      },
      "source": [
        "*For below model training and test, results are discussed later.*\n",
        "\n",
        "*For more details, see [Results Comparision](#results_comparision).*"
      ]
    },
    {
      "cell_type": "markdown",
      "metadata": {
        "id": "2d1A0bIHf-Uc"
      },
      "source": [
        "<a id='results_comparision'></a>\n",
        "\n",
        "## Results Comparision\n",
        "\n",
        "Below sections are broken down into Data and Visual Representations of the results testing of models."
      ]
    },
    {
      "cell_type": "markdown",
      "metadata": {
        "collapsed": false,
        "id": "2szMid1RQsnu"
      },
      "source": [
        "### Data Representation\n",
        "\n",
        "Below is a display of the best values for each training of each model run."
      ]
    },
    {
      "cell_type": "code",
      "metadata": {
        "id": "COOdCeVeRWxp",
        "colab": {
          "base_uri": "https://localhost:8080/"
        },
        "outputId": "2daf2aa6-5204-440a-8b69-e513b28a828a"
      },
      "source": [
        "import utils.visual as vis\n",
        "vis.display_best_values()"
      ],
      "execution_count": 15,
      "outputs": [
        {
          "output_type": "stream",
          "text": [
            "********************************\n",
            "\tOracle Training:\n",
            "********************************\n",
            "Cgan\n",
            "\tnll-oracle: 9.9779 @epoch 10\tnll-test: 7.8259 @epoch 6\tEmbeddingSimilarity: -0.1296 @epoch 6\ttei: 1.6517 @epoch 6\tacc: 0.5938 @epoch 6\tppl: 3273.7598 @epoch 1\t\n",
            "\n",
            "Dcgan\n",
            "\tnll-oracle: 10.553 @epoch 10\tnll-test: 7.249 @epoch 6\tEmbeddingSimilarity: -0.2076 @epoch 10\ttei: 1.9748 @epoch 1\tacc: 0.4688 @epoch 10\tppl: 6726.8167 @epoch 1\t\n",
            "\n",
            "Infogan\n",
            "\tnll-oracle: 10.4452 @epoch 10\tnll-test: 7.2479 @epoch 6\tEmbeddingSimilarity: -0.2046 @epoch 10\ttei: 1.7753 @epoch 6\tacc: 0.4688 @epoch 6\tppl: 10591.8633 @epoch 1\t\n",
            "\n",
            "Seqgan\n",
            "\tnll-oracle: 10.4365 @epoch 10\tnll-test: 7.2498 @epoch 6\tEmbeddingSimilarity: -0.2058 @epoch 10\ttei: 1.7679 @epoch 6\tacc: 0.625 @epoch 10\tppl: 11759.4696 @epoch 1\t\n",
            "\n",
            "Textgan\n",
            "\tnll-oracle: 11.7848 @epoch 10\tnll-test: 36.2252 @epoch 6\tEmbeddingSimilarity: -0.1965 @epoch 1\ttei: 1.5946 @epoch 6\tacc: 1.0 @epoch 6\tppl: 13132.1719 @epoch 1\t\n",
            "\n",
            "********************************\n",
            "\tReal Training:\n",
            "********************************\n",
            "Cgan\n",
            "\tEmbeddingSimilarity: -0.14 @epoch 10\tnll-test: 6.0371 @epoch 6\ttei: 0.9378 @epoch 1\tacc: 0.9375 @epoch 6\tppl: 1020.2216 @epoch 1\t\n",
            "\n",
            "Dcgan\n",
            "\tEmbeddingSimilarity: -0.5629 @epoch 10\tnll-test: 3.5135 @epoch 6\ttei: 0.9595 @epoch 1\tacc: 0.0312 @epoch 10\tppl: 891.6992 @epoch 1\t\n",
            "\n",
            "Infogan\n",
            "\tEmbeddingSimilarity: -0.1739 @epoch 10\tnll-test: 3.1113 @epoch 6\ttei: 0.9641 @epoch 1\tacc: 0.0 @epoch 1\tppl: 1068.0638 @epoch 1\t\n",
            "\n",
            "Seqgan\n",
            "\tEmbeddingSimilarity: -0.1665 @epoch 6\tnll-test: 3.1192 @epoch 10\ttei: 0.9631 @epoch 1\tacc: 0.0625 @epoch 10\tppl: 770.7761 @epoch 1\t\n",
            "\n",
            "Textgan\n",
            "\tEmbeddingSimilarity: -0.4024 @epoch 1\tnll-test: 32.9496 @epoch 1\ttei: 0.9333 @epoch 1\tacc: 0.7188 @epoch 10\tppl: 903.9903 @epoch 1\t\n",
            "\n"
          ],
          "name": "stdout"
        }
      ]
    },
    {
      "cell_type": "markdown",
      "metadata": {
        "collapsed": false,
        "id": "redoZwxfIlQH"
      },
      "source": [
        "### Visual Representation\n",
        "This sections provides a more visual representation of results and comparative data"
      ]
    },
    {
      "cell_type": "code",
      "metadata": {
        "id": "WesgrwLAJSOJ",
        "colab": {
          "base_uri": "https://localhost:8080/",
          "height": 741
        },
        "outputId": "653f7e42-aefd-43c4-8446-007fedd55881"
      },
      "source": [
        "vis.display_synth_data()"
      ],
      "execution_count": 16,
      "outputs": [
        {
          "output_type": "display_data",
          "data": {
            "text/html": [
              "<style  type=\"text/css\" >\n",
              "</style><table id=\"T_ba5bfcfe_cef5_11eb_93f1_0242ac1c0002\" style='display:inline-block'><thead>    <tr>        <th class=\"blank level0\" ></th>        <th class=\"col_heading level0 col0\" >Cgan Real Synth Data</th>    </tr></thead><tbody>\n",
              "                <tr>\n",
              "                        <th id=\"T_ba5bfcfe_cef5_11eb_93f1_0242ac1c0002level0_row0\" class=\"row_heading level0 row0\" >0</th>\n",
              "                        <td id=\"T_ba5bfcfe_cef5_11eb_93f1_0242ac1c0002row0_col0\" class=\"data row0 col0\" >pallid of and enchanted- can my sign above enchanted- sign floating for of of opened followed followed of gave all faintly laden </td>\n",
              "            </tr>\n",
              "            <tr>\n",
              "                        <th id=\"T_ba5bfcfe_cef5_11eb_93f1_0242ac1c0002level0_row1\" class=\"row_heading level0 row1\" >1</th>\n",
              "                        <td id=\"T_ba5bfcfe_cef5_11eb_93f1_0242ac1c0002row1_col0\" class=\"data row1 col0\" >plainly token followed of mortal others but open tint open velvet thy lost followed followed floating sign and and of laden nodded </td>\n",
              "            </tr>\n",
              "            <tr>\n",
              "                        <th id=\"T_ba5bfcfe_cef5_11eb_93f1_0242ac1c0002level0_row2\" class=\"row_heading level0 row2\" >2</th>\n",
              "                        <td id=\"T_ba5bfcfe_cef5_11eb_93f1_0242ac1c0002row2_col0\" class=\"data row2 col0\" >faintly to of ill above others tint mortal enchanted- mortal grew followed your of cried above nodded ? tint followed of pallid </td>\n",
              "            </tr>\n",
              "            <tr>\n",
              "                        <th id=\"T_ba5bfcfe_cef5_11eb_93f1_0242ac1c0002level0_row3\" class=\"row_heading level0 row3\" >3</th>\n",
              "                        <td id=\"T_ba5bfcfe_cef5_11eb_93f1_0242ac1c0002row3_col0\" class=\"data row3 col0\" >silence dirges sign followed of fluttered- and of perched tint mortal of of good 't fiery followed followed ! startled stern ! </td>\n",
              "            </tr>\n",
              "            <tr>\n",
              "                        <th id=\"T_ba5bfcfe_cef5_11eb_93f1_0242ac1c0002level0_row4\" class=\"row_heading level0 row4\" >4</th>\n",
              "                        <td id=\"T_ba5bfcfe_cef5_11eb_93f1_0242ac1c0002row4_col0\" class=\"data row4 col0\" >only many for flitting and of stern followed above tint tint opened nothing followed followed ! of grim above can tint saintly </td>\n",
              "            </tr>\n",
              "    </tbody></table><hr style=\"width: 400px; margin-left:0;\"><style  type=\"text/css\" >\n",
              "</style><table id=\"T_ba5e653e_cef5_11eb_93f1_0242ac1c0002\" style='display:inline-block'><thead>    <tr>        <th class=\"blank level0\" ></th>        <th class=\"col_heading level0 col0\" >Dcgan Real Synth Data</th>    </tr></thead><tbody>\n",
              "                <tr>\n",
              "                        <th id=\"T_ba5e653e_cef5_11eb_93f1_0242ac1c0002level0_row0\" class=\"row_heading level0 row0\" >0</th>\n",
              "                        <td id=\"T_ba5e653e_cef5_11eb_93f1_0242ac1c0002row0_col0\" class=\"data row0 col0\" >there- fancy little disaster been 't you lore late shall store chamber uncertain '' never window </td>\n",
              "            </tr>\n",
              "            <tr>\n",
              "                        <th id=\"T_ba5e653e_cef5_11eb_93f1_0242ac1c0002level0_row1\" class=\"row_heading level0 row1\" >1</th>\n",
              "                        <td id=\"T_ba5e653e_cef5_11eb_93f1_0242ac1c0002row1_col0\" class=\"data row1 col0\" >' ev'ry december so or bleak get nepenthe my , , get - quoth many lordly bleak fiend </td>\n",
              "            </tr>\n",
              "            <tr>\n",
              "                        <th id=\"T_ba5e653e_cef5_11eb_93f1_0242ac1c0002level0_row2\" class=\"row_heading level0 row2\" >2</th>\n",
              "                        <td id=\"T_ba5e653e_cef5_11eb_93f1_0242ac1c0002row2_col0\" class=\"data row2 col0\" >many undaunted fancy one sainted saw taken lifted- '' obeisance is reclining angels quaff '' lordly lent on </td>\n",
              "            </tr>\n",
              "            <tr>\n",
              "                        <th id=\"T_ba5e653e_cef5_11eb_93f1_0242ac1c0002level0_row3\" class=\"row_heading level0 row3\" >3</th>\n",
              "                        <td id=\"T_ba5e653e_cef5_11eb_93f1_0242ac1c0002row3_col0\" class=\"data row3 col0\" >curious in craven morrow ! me- books plume quaint guessing dirges many of and faintly before- </td>\n",
              "            </tr>\n",
              "            <tr>\n",
              "                        <th id=\"T_ba5e653e_cef5_11eb_93f1_0242ac1c0002level0_row4\" class=\"row_heading level0 row4\" >4</th>\n",
              "                        <td id=\"T_ba5e653e_cef5_11eb_93f1_0242ac1c0002row4_col0\" class=\"data row4 col0\" >stately air much what straight stately dying hopes plume echo visitor let hath will beating i unto undaunted lore thee- </td>\n",
              "            </tr>\n",
              "    </tbody></table><hr style=\"width: 400px; margin-left:0;\"><style  type=\"text/css\" >\n",
              "</style><table id=\"T_ba5fb09c_cef5_11eb_93f1_0242ac1c0002\" style='display:inline-block'><thead>    <tr>        <th class=\"blank level0\" ></th>        <th class=\"col_heading level0 col0\" >Infogan Real Synth Data</th>    </tr></thead><tbody>\n",
              "                <tr>\n",
              "                        <th id=\"T_ba5fb09c_cef5_11eb_93f1_0242ac1c0002level0_row0\" class=\"row_heading level0 row0\" >0</th>\n",
              "                        <td id=\"T_ba5fb09c_cef5_11eb_93f1_0242ac1c0002row0_col0\" class=\"data row0 col0\" >life clasp mortal chamber art flutter on gave </td>\n",
              "            </tr>\n",
              "            <tr>\n",
              "                        <th id=\"T_ba5fb09c_cef5_11eb_93f1_0242ac1c0002level0_row1\" class=\"row_heading level0 row1\" >1</th>\n",
              "                        <td id=\"T_ba5fb09c_cef5_11eb_93f1_0242ac1c0002row1_col0\" class=\"data row1 col0\" >; my peering 's </td>\n",
              "            </tr>\n",
              "            <tr>\n",
              "                        <th id=\"T_ba5fb09c_cef5_11eb_93f1_0242ac1c0002level0_row2\" class=\"row_heading level0 row2\" >2</th>\n",
              "                        <td id=\"T_ba5fb09c_cef5_11eb_93f1_0242ac1c0002row2_col0\" class=\"data row2 col0\" >lore footfalls grew bird master </td>\n",
              "            </tr>\n",
              "            <tr>\n",
              "                        <th id=\"T_ba5fb09c_cef5_11eb_93f1_0242ac1c0002level0_row3\" class=\"row_heading level0 row3\" >3</th>\n",
              "                        <td id=\"T_ba5fb09c_cef5_11eb_93f1_0242ac1c0002row3_col0\" class=\"data row3 col0\" >chamber spring bird </td>\n",
              "            </tr>\n",
              "            <tr>\n",
              "                        <th id=\"T_ba5fb09c_cef5_11eb_93f1_0242ac1c0002level0_row4\" class=\"row_heading level0 row4\" >4</th>\n",
              "                        <td id=\"T_ba5fb09c_cef5_11eb_93f1_0242ac1c0002row4_col0\" class=\"data row4 col0\" >murmured methought gold tinkled window the plume dying </td>\n",
              "            </tr>\n",
              "    </tbody></table><hr style=\"width: 400px; margin-left:0;\"><style  type=\"text/css\" >\n",
              "</style><table id=\"T_ba60e5e8_cef5_11eb_93f1_0242ac1c0002\" style='display:inline-block'><thead>    <tr>        <th class=\"blank level0\" ></th>        <th class=\"col_heading level0 col0\" >Seqgan Real Synth Data</th>    </tr></thead><tbody>\n",
              "                <tr>\n",
              "                        <th id=\"T_ba60e5e8_cef5_11eb_93f1_0242ac1c0002level0_row0\" class=\"row_heading level0 row0\" >0</th>\n",
              "                        <td id=\"T_ba60e5e8_cef5_11eb_93f1_0242ac1c0002row0_col0\" class=\"data row0 col0\" >bust at beast out some drawn . </td>\n",
              "            </tr>\n",
              "            <tr>\n",
              "                        <th id=\"T_ba60e5e8_cef5_11eb_93f1_0242ac1c0002level0_row1\" class=\"row_heading level0 row1\" >1</th>\n",
              "                        <td id=\"T_ba60e5e8_cef5_11eb_93f1_0242ac1c0002row1_col0\" class=\"data row1 col0\" >`` shutter raven , many from gloated </td>\n",
              "            </tr>\n",
              "            <tr>\n",
              "                        <th id=\"T_ba60e5e8_cef5_11eb_93f1_0242ac1c0002level0_row2\" class=\"row_heading level0 row2\" >2</th>\n",
              "                        <td id=\"T_ba60e5e8_cef5_11eb_93f1_0242ac1c0002row2_col0\" class=\"data row2 col0\" >lies - . nothing thee- token </td>\n",
              "            </tr>\n",
              "            <tr>\n",
              "                        <th id=\"T_ba60e5e8_cef5_11eb_93f1_0242ac1c0002level0_row3\" class=\"row_heading level0 row3\" >3</th>\n",
              "                        <td id=\"T_ba60e5e8_cef5_11eb_93f1_0242ac1c0002row3_col0\" class=\"data row3 col0\" >black a taken , marvelled most the marvelled nothing </td>\n",
              "            </tr>\n",
              "            <tr>\n",
              "                        <th id=\"T_ba60e5e8_cef5_11eb_93f1_0242ac1c0002level0_row4\" class=\"row_heading level0 row4\" >4</th>\n",
              "                        <td id=\"T_ba60e5e8_cef5_11eb_93f1_0242ac1c0002row4_col0\" class=\"data row4 col0\" >i was ; </td>\n",
              "            </tr>\n",
              "    </tbody></table><hr style=\"width: 400px; margin-left:0;\"><style  type=\"text/css\" >\n",
              "</style><table id=\"T_ba636836_cef5_11eb_93f1_0242ac1c0002\" style='display:inline-block'><thead>    <tr>        <th class=\"blank level0\" ></th>        <th class=\"col_heading level0 col0\" >Textgan Real Synth Data</th>    </tr></thead><tbody>\n",
              "                <tr>\n",
              "                        <th id=\"T_ba636836_cef5_11eb_93f1_0242ac1c0002level0_row0\" class=\"row_heading level0 row0\" >0</th>\n",
              "                        <td id=\"T_ba636836_cef5_11eb_93f1_0242ac1c0002row0_col0\" class=\"data row0 col0\" >loneliness gold of hath others gold of merely forgiveness fearing seen lenore- kind -- forgiveness of seeming our wondering merely velvet </td>\n",
              "            </tr>\n",
              "            <tr>\n",
              "                        <th id=\"T_ba636836_cef5_11eb_93f1_0242ac1c0002level0_row1\" class=\"row_heading level0 row1\" >1</th>\n",
              "                        <td id=\"T_ba636836_cef5_11eb_93f1_0242ac1c0002row1_col0\" class=\"data row1 col0\" >forget bring before- devil bore bore hath all sainted of grim now silence aidenn bring in presently sent before- terrors kind seeming </td>\n",
              "            </tr>\n",
              "            <tr>\n",
              "                        <th id=\"T_ba636836_cef5_11eb_93f1_0242ac1c0002level0_row2\" class=\"row_heading level0 row2\" >2</th>\n",
              "                        <td id=\"T_ba636836_cef5_11eb_93f1_0242ac1c0002row2_col0\" class=\"data row2 col0\" >all heard seat when both kind velvet this merely nightly presently beguiling all morrow rare devil devil pass morrow merely forgiveness lenore </td>\n",
              "            </tr>\n",
              "            <tr>\n",
              "                        <th id=\"T_ba636836_cef5_11eb_93f1_0242ac1c0002level0_row3\" class=\"row_heading level0 row3\" >3</th>\n",
              "                        <td id=\"T_ba636836_cef5_11eb_93f1_0242ac1c0002row3_col0\" class=\"data row3 col0\" >merely december volume surcease now myself of curious this curious bring this sure bore beguiling merely forgiveness kind hath tempter devil depth </td>\n",
              "            </tr>\n",
              "            <tr>\n",
              "                        <th id=\"T_ba636836_cef5_11eb_93f1_0242ac1c0002level0_row4\" class=\"row_heading level0 row4\" >4</th>\n",
              "                        <td id=\"T_ba636836_cef5_11eb_93f1_0242ac1c0002row4_col0\" class=\"data row4 col0\" >bore nodded flung gold feather seat just lenore- both curious his all spoke before- spoke spoke depth before- spoke december kind depth </td>\n",
              "            </tr>\n",
              "    </tbody></table>"
            ]
          },
          "metadata": {
            "tags": []
          }
        }
      ]
    },
    {
      "cell_type": "code",
      "metadata": {
        "id": "DB0rVh94Skix",
        "colab": {
          "base_uri": "https://localhost:8080/",
          "height": 622
        },
        "outputId": "40d18008-1c0a-4ab2-cc4e-1899af8dd4f3"
      },
      "source": [
        "vis.display_metrics()"
      ],
      "execution_count": 17,
      "outputs": [
        {
          "output_type": "display_data",
          "data": {
            "image/png": "[encoded data removed]",
            "text/plain": [
              "<Figure size 1440x720 with 12 Axes>"
            ]
          },
          "metadata": {
            "tags": [],
            "needs_background": "light"
          }
        }
      ]
    },
    {
      "cell_type": "markdown",
      "metadata": {
        "id": "iLNMnekIRMnb"
      },
      "source": [
        "### Observations\n",
        "In terms of TEI, Cgan performed the best with Real TEI, while Textgan performed the best with Oracle TEI. It seems that Seqgan, Infogan, and Dcgan had similar performances for both Real and Oracle TEI, performing worse than both Cgan and Textgan in both metrics.\n",
        "For accuracy, Textgan performed the best across all epochs for Oracle accuracy, whereas Cgan performed better at lower epochs, but Textgan outperformed it in later epochs. One would assume Textgan would continue to eclipse Cgan for Real accuracy as the number of epochs increases.\n",
        "For perplexity (PPL), Seqgan had the best performance for real PPL, while Infogan had the worst. Meanwhile for ORacle PPL, Cgan had the best performance, while Textgan had the worst performance."
      ]
    },
    {
      "cell_type": "markdown",
      "metadata": {
        "collapsed": false,
        "id": "FZoFeysDQsnw"
      },
      "source": [
        "## Notes\n",
        " This project was a collaborative effort by all team members listed in top of document. Project was developed/run/tested while on video call as a team effort. All parties put forth equal effort in testing, data selection and stripping, as well as understanding content.\n",
        "\n",
        " >**Note:** please refer to Team Project Documentation\\MileStone3\\Stephanie_Jackson_Ravjot_CIS700_M3_Contribution.txt for more contribution details\n",
        "\n",
        "Given the short duration of setup, running, etc there was not sufficient time to truly understand each of the models under the project. Two models from the previous milestone were used as the benchmark for comparison with the three newly incorporated models added with this milestone. However more time would be require for all encompassing tasking to really dive in and understand these models, and to run over longer epochs to see more concrete data results and comparisons. Additionally it should be noted the amount of time it takes to run these models with higher epoch values. Running the full models over and over can help training, however can take hours to complete. Furthermore, the .csv files were not populating. Given more time dedicate to this project, issues may have been able to be resolved"
      ]
    },
    {
      "cell_type": "markdown",
      "metadata": {
        "collapsed": false,
        "id": "zGfiU7ujQsnw"
      },
      "source": [
        "##Reference\n",
        "[1] Geek-Ai. “Texygen by Geek.AI.” GitHub, 2017, github.com/geek-ai/Texygen.\n",
        "\n",
        "[2] Yu, Lantao, et al. “SeqGAN: Sequence Generative Adversarial Nets with Policy Gradient.” ArXiv.org, 25 Aug. 2017, arxiv.org/abs/1609.05473.\n",
        "\n",
        "[3] Zhang, Yizhe, et al. “Adversarial Feature Matching for Text Generation.” ArXiv.org, 18 Nov. 2017, arxiv.org/abs/1706.03850.\n",
        "\n",
        "[4] Chen, Xi, Duan, Yan, Houthooft, Rein, Schulman, John,\n",
        "Sutskever, Ilya, and Abbeel, Pieter. Infogan: Interpretable representation learning by information maximizing generative adversarial nets. arXiv preprint\n",
        "arXiv:1606.03657, 2016a.\n",
        "\n",
        "[5] EA Poem Source.  https://poestories.com/read/valentine\n",
        "\n",
        "[6] Unsupervised Representation Learning with Deep Convolutional Generative Adversarial Networks\n",
        "https://arxiv.org/abs/1511.06434"
      ]
    },
    {
      "cell_type": "code",
      "metadata": {
        "id": "9irmoejZQsnw",
        "colab": {
          "base_uri": "https://localhost:8080/"
        },
        "outputId": "604884b5-d8a2-4a3f-cf16-03f81bc27428"
      },
      "source": [
        "#PDF/HTML conversion of notebook\n",
        "!apt-get install texlive texlive-xetex texlive-latex-extra pandoc\n",
        "!pip install pypandoc"
      ],
      "execution_count": 21,
      "outputs": [
        {
          "output_type": "stream",
          "text": [
            "Reading package lists... Done\n",
            "Building dependency tree       \n",
            "Reading state information... Done\n",
            "pandoc is already the newest version (1.19.2.4~dfsg-1build4).\n",
            "texlive is already the newest version (2017.20180305-1).\n",
            "texlive-latex-extra is already the newest version (2017.20180305-2).\n",
            "texlive-xetex is already the newest version (2017.20180305-1).\n",
            "0 upgraded, 0 newly installed, 0 to remove and 39 not upgraded.\n",
            "Requirement already satisfied: pypandoc in /usr/local/lib/python3.7/dist-packages (1.5)\n",
            "Requirement already satisfied: pip>=8.1.0 in /usr/local/lib/python3.7/dist-packages (from pypandoc) (19.3.1)\n",
            "Requirement already satisfied: wheel>=0.25.0 in /usr/local/lib/python3.7/dist-packages (from pypandoc) (0.36.2)\n",
            "Requirement already satisfied: setuptools in /usr/local/lib/python3.7/dist-packages (from pypandoc) (57.0.0)\n"
          ],
          "name": "stdout"
        }
      ]
    },
    {
      "cell_type": "code",
      "metadata": {
        "id": "9AAQvH7d35Rp",
        "colab": {
          "base_uri": "https://localhost:8080/"
        },
        "outputId": "912b3dba-34e7-413e-ef6c-e637e832ee36"
      },
      "source": [
        "!jupyter nbconvert --output-dir='results/' --to PDF \"milestone3.ipynb\"\n",
        "!jupyter nbconvert --output-dir='results/' --to HTML \"milestone3.ipynb\""
      ],
      "execution_count": 22,
      "outputs": [
        {
          "output_type": "stream",
          "text": [
            "[NbConvertApp] Converting notebook milestone3.ipynb to PDF\n",
            "/usr/local/lib/python2.7/dist-packages/nbconvert/filters/datatypefilter.py:41: UserWarning: Your element with mimetype(s) [u'text/html'] is not able to be represented.\n",
            "  mimetypes=output.keys())\n",
            "[NbConvertApp] Support files will be in milestone3_files/\n",
            "[NbConvertApp] Making directory ./milestone3_files\n",
            "[NbConvertApp] Writing 66437 bytes to ./notebook.tex\n",
            "[NbConvertApp] Building PDF\n",
            "[NbConvertApp] Running xelatex 3 times: [u'xelatex', u'./notebook.tex', '-quiet']\n",
            "[NbConvertApp] CRITICAL | xelatex failed: [u'xelatex', u'./notebook.tex', '-quiet']\n",
            "This is XeTeX, Version 3.14159265-2.6-0.99998 (TeX Live 2017/Debian) (preloaded format=xelatex)\n",
            " restricted \\write18 enabled.\n",
            "entering extended mode\n",
            "(./notebook.tex\n",
            "LaTeX2e <2017-04-15>\n",
            "Babel <3.18> and hyphenation patterns for 3 language(s) loaded.\n",
            "(/usr/share/texlive/texmf-dist/tex/latex/base/article.cls\n",
            "Document Class: article 2014/09/29 v1.4h Standard LaTeX document class\n",
            "(/usr/share/texlive/texmf-dist/tex/latex/base/size11.clo))\n",
            "(/usr/share/texlive/texmf-dist/tex/latex/tcolorbox/tcolorbox.sty\n",
            "(/usr/share/texlive/texmf-dist/tex/latex/pgf/basiclayer/pgf.sty\n",
            "(/usr/share/texlive/texmf-dist/tex/latex/pgf/utilities/pgfrcs.sty\n",
            "(/usr/share/texlive/texmf-dist/tex/generic/pgf/utilities/pgfutil-common.tex\n",
            "(/usr/share/texlive/texmf-dist/tex/generic/pgf/utilities/pgfutil-common-lists.t\n",
            "ex)) (/usr/share/texlive/texmf-dist/tex/generic/pgf/utilities/pgfutil-latex.def\n",
            "(/usr/share/texlive/texmf-dist/tex/latex/ms/everyshi.sty))\n",
            "(/usr/share/texlive/texmf-dist/tex/generic/pgf/utilities/pgfrcs.code.tex))\n",
            "(/usr/share/texlive/texmf-dist/tex/latex/pgf/basiclayer/pgfcore.sty\n",
            "(/usr/share/texlive/texmf-dist/tex/latex/graphics/graphicx.sty\n",
            "(/usr/share/texlive/texmf-dist/tex/latex/graphics/keyval.sty)\n",
            "(/usr/share/texlive/texmf-dist/tex/latex/graphics/graphics.sty\n",
            "(/usr/share/texlive/texmf-dist/tex/latex/graphics/trig.sty)\n",
            "(/usr/share/texlive/texmf-dist/tex/latex/graphics-cfg/graphics.cfg)\n",
            "(/usr/share/texlive/texmf-dist/tex/latex/graphics-def/xetex.def)))\n",
            "(/usr/share/texlive/texmf-dist/tex/latex/pgf/systemlayer/pgfsys.sty\n",
            "(/usr/share/texlive/texmf-dist/tex/generic/pgf/systemlayer/pgfsys.code.tex\n",
            "(/usr/share/texlive/texmf-dist/tex/generic/pgf/utilities/pgfkeys.code.tex\n",
            "(/usr/share/texlive/texmf-dist/tex/generic/pgf/utilities/pgfkeysfiltered.code.t\n",
            "ex)) (/usr/share/texlive/texmf-dist/tex/generic/pgf/systemlayer/pgf.cfg)\n",
            "(/usr/share/texlive/texmf-dist/tex/generic/pgf/systemlayer/pgfsys-xetex.def\n",
            "(/usr/share/texlive/texmf-dist/tex/generic/pgf/systemlayer/pgfsys-dvipdfmx.def\n",
            "(/usr/share/texlive/texmf-dist/tex/generic/pgf/systemlayer/pgfsys-common-pdf.de\n",
            "f))))\n",
            "(/usr/share/texlive/texmf-dist/tex/generic/pgf/systemlayer/pgfsyssoftpath.code.\n",
            "tex)\n",
            "(/usr/share/texlive/texmf-dist/tex/generic/pgf/systemlayer/pgfsysprotocol.code.\n",
            "tex)) (/usr/share/texlive/texmf-dist/tex/latex/xcolor/xcolor.sty\n",
            "(/usr/share/texlive/texmf-dist/tex/latex/graphics-cfg/color.cfg))\n",
            "(/usr/share/texlive/texmf-dist/tex/generic/pgf/basiclayer/pgfcore.code.tex\n",
            "(/usr/share/texlive/texmf-dist/tex/generic/pgf/math/pgfmath.code.tex\n",
            "(/usr/share/texlive/texmf-dist/tex/generic/pgf/math/pgfmathcalc.code.tex\n",
            "(/usr/share/texlive/texmf-dist/tex/generic/pgf/math/pgfmathutil.code.tex)\n",
            "(/usr/share/texlive/texmf-dist/tex/generic/pgf/math/pgfmathparser.code.tex)\n",
            "(/usr/share/texlive/texmf-dist/tex/generic/pgf/math/pgfmathfunctions.code.tex\n",
            "(/usr/share/texlive/texmf-dist/tex/generic/pgf/math/pgfmathfunctions.basic.code\n",
            ".tex)\n",
            "(/usr/share/texlive/texmf-dist/tex/generic/pgf/math/pgfmathfunctions.trigonomet\n",
            "ric.code.tex)\n",
            "(/usr/share/texlive/texmf-dist/tex/generic/pgf/math/pgfmathfunctions.random.cod\n",
            "e.tex)\n",
            "(/usr/share/texlive/texmf-dist/tex/generic/pgf/math/pgfmathfunctions.comparison\n",
            ".code.tex)\n",
            "(/usr/share/texlive/texmf-dist/tex/generic/pgf/math/pgfmathfunctions.base.code.\n",
            "tex)\n",
            "(/usr/share/texlive/texmf-dist/tex/generic/pgf/math/pgfmathfunctions.round.code\n",
            ".tex)\n",
            "(/usr/share/texlive/texmf-dist/tex/generic/pgf/math/pgfmathfunctions.misc.code.\n",
            "tex)\n",
            "(/usr/share/texlive/texmf-dist/tex/generic/pgf/math/pgfmathfunctions.integerari\n",
            "thmetics.code.tex)))\n",
            "(/usr/share/texlive/texmf-dist/tex/generic/pgf/math/pgfmathfloat.code.tex))\n",
            "(/usr/share/texlive/texmf-dist/tex/generic/pgf/basiclayer/pgfcorepoints.code.te\n",
            "x)\n",
            "(/usr/share/texlive/texmf-dist/tex/generic/pgf/basiclayer/pgfcorepathconstruct.\n",
            "code.tex)\n",
            "(/usr/share/texlive/texmf-dist/tex/generic/pgf/basiclayer/pgfcorepathusage.code\n",
            ".tex)\n",
            "(/usr/share/texlive/texmf-dist/tex/generic/pgf/basiclayer/pgfcorescopes.code.te\n",
            "x)\n",
            "(/usr/share/texlive/texmf-dist/tex/generic/pgf/basiclayer/pgfcoregraphicstate.c\n",
            "ode.tex)\n",
            "(/usr/share/texlive/texmf-dist/tex/generic/pgf/basiclayer/pgfcoretransformation\n",
            "s.code.tex)\n",
            "(/usr/share/texlive/texmf-dist/tex/generic/pgf/basiclayer/pgfcorequick.code.tex\n",
            ")\n",
            "(/usr/share/texlive/texmf-dist/tex/generic/pgf/basiclayer/pgfcoreobjects.code.t\n",
            "ex)\n",
            "(/usr/share/texlive/texmf-dist/tex/generic/pgf/basiclayer/pgfcorepathprocessing\n",
            ".code.tex)\n",
            "(/usr/share/texlive/texmf-dist/tex/generic/pgf/basiclayer/pgfcorearrows.code.te\n",
            "x)\n",
            "(/usr/share/texlive/texmf-dist/tex/generic/pgf/basiclayer/pgfcoreshade.code.tex\n",
            ")\n",
            "(/usr/share/texlive/texmf-dist/tex/generic/pgf/basiclayer/pgfcoreimage.code.tex\n",
            "\n",
            "(/usr/share/texlive/texmf-dist/tex/generic/pgf/basiclayer/pgfcoreexternal.code.\n",
            "tex))\n",
            "(/usr/share/texlive/texmf-dist/tex/generic/pgf/basiclayer/pgfcorelayers.code.te\n",
            "x)\n",
            "(/usr/share/texlive/texmf-dist/tex/generic/pgf/basiclayer/pgfcoretransparency.c\n",
            "ode.tex)\n",
            "(/usr/share/texlive/texmf-dist/tex/generic/pgf/basiclayer/pgfcorepatterns.code.\n",
            "tex)))\n",
            "(/usr/share/texlive/texmf-dist/tex/generic/pgf/modules/pgfmoduleshapes.code.tex\n",
            ") (/usr/share/texlive/texmf-dist/tex/generic/pgf/modules/pgfmoduleplot.code.tex\n",
            ")\n",
            "(/usr/share/texlive/texmf-dist/tex/latex/pgf/compatibility/pgfcomp-version-0-65\n",
            ".sty)\n",
            "(/usr/share/texlive/texmf-dist/tex/latex/pgf/compatibility/pgfcomp-version-1-18\n",
            ".sty)) (/usr/share/texlive/texmf-dist/tex/latex/tools/verbatim.sty)\n",
            "(/usr/share/texlive/texmf-dist/tex/latex/environ/environ.sty\n",
            "(/usr/share/texlive/texmf-dist/tex/latex/trimspaces/trimspaces.sty))\n",
            "(/usr/share/texlive/texmf-dist/tex/latex/etoolbox/etoolbox.sty)\n",
            "(/usr/share/texlive/texmf-dist/tex/latex/tcolorbox/tcbbreakable.code.tex\n",
            "Library (tcolorbox): 'tcbbreakable.code.tex' version '4.12'\n",
            ")) (/usr/share/texlive/texmf-dist/tex/latex/float/float.sty)\n",
            "(/usr/share/texlive/texmf-dist/tex/latex/base/fontenc.sty\n",
            "(/usr/share/texlive/texmf-dist/tex/latex/base/t1enc.def)\n",
            "(/usr/share/texmf/tex/latex/lm/t1lmr.fd))\n",
            "(/usr/share/texlive/texmf-dist/tex/latex/psnfss/mathpazo.sty)\n",
            "(/usr/share/texlive/texmf-dist/tex/latex/caption/caption.sty\n",
            "(/usr/share/texlive/texmf-dist/tex/latex/caption/caption3.sty))\n",
            "(/usr/share/texlive/texmf-dist/tex/latex/adjustbox/adjustbox.sty\n",
            "(/usr/share/texlive/texmf-dist/tex/latex/xkeyval/xkeyval.sty\n",
            "(/usr/share/texlive/texmf-dist/tex/generic/xkeyval/xkeyval.tex\n",
            "(/usr/share/texlive/texmf-dist/tex/generic/xkeyval/xkvutils.tex)))\n",
            "(/usr/share/texlive/texmf-dist/tex/latex/adjustbox/adjcalc.sty)\n",
            "(/usr/share/texlive/texmf-dist/tex/latex/adjustbox/trimclip.sty\n",
            "(/usr/share/texlive/texmf-dist/tex/latex/collectbox/collectbox.sty)\n",
            "(/usr/share/texlive/texmf-dist/tex/latex/adjustbox/tc-xetex.def))\n",
            "(/usr/share/texlive/texmf-dist/tex/latex/ifoddpage/ifoddpage.sty)\n",
            "(/usr/share/texlive/texmf-dist/tex/latex/varwidth/varwidth.sty))\n",
            "(/usr/share/texlive/texmf-dist/tex/latex/tools/enumerate.sty)\n",
            "(/usr/share/texlive/texmf-dist/tex/latex/geometry/geometry.sty\n",
            "(/usr/share/texlive/texmf-dist/tex/generic/oberdiek/ifpdf.sty)\n",
            "(/usr/share/texlive/texmf-dist/tex/generic/oberdiek/ifvtex.sty)\n",
            "(/usr/share/texlive/texmf-dist/tex/generic/ifxetex/ifxetex.sty))\n",
            "(/usr/share/texlive/texmf-dist/tex/latex/amsmath/amsmath.sty\n",
            "For additional information on amsmath, use the `?' option.\n",
            "(/usr/share/texlive/texmf-dist/tex/latex/amsmath/amstext.sty\n",
            "(/usr/share/texlive/texmf-dist/tex/latex/amsmath/amsgen.sty))\n",
            "(/usr/share/texlive/texmf-dist/tex/latex/amsmath/amsbsy.sty)\n",
            "(/usr/share/texlive/texmf-dist/tex/latex/amsmath/amsopn.sty))\n",
            "(/usr/share/texlive/texmf-dist/tex/latex/amsfonts/amssymb.sty\n",
            "(/usr/share/texlive/texmf-dist/tex/latex/amsfonts/amsfonts.sty))\n",
            "(/usr/share/texlive/texmf-dist/tex/latex/base/textcomp.sty\n",
            "(/usr/share/texlive/texmf-dist/tex/latex/base/ts1enc.def))\n",
            "(/usr/share/texlive/texmf-dist/tex/latex/upquote/upquote.sty)\n",
            "(/usr/share/texlive/texmf-dist/tex/latex/eurosym/eurosym.sty)\n",
            "(/usr/share/texlive/texmf-dist/tex/latex/ucs/ucs.sty\n",
            "(/usr/share/texlive/texmf-dist/tex/latex/ucs/data/uni-global.def))\n",
            "(/usr/share/texlive/texmf-dist/tex/latex/base/inputenc.sty\n",
            "\n",
            "Package inputenc Warning: inputenc package ignored with utf8 based engines.\n",
            "\n",
            ") (/usr/share/texlive/texmf-dist/tex/latex/fancyvrb/fancyvrb.sty\n",
            "Style option: `fancyvrb' v2.7a, with DG/SPQR fixes, and firstline=lastline fix \n",
            "<2008/02/07> (tvz))\n",
            "(/usr/share/texlive/texmf-dist/tex/latex/oberdiek/grffile.sty\n",
            "(/usr/share/texlive/texmf-dist/tex/latex/oberdiek/kvoptions.sty\n",
            "(/usr/share/texlive/texmf-dist/tex/generic/oberdiek/ltxcmds.sty)\n",
            "(/usr/share/texlive/texmf-dist/tex/generic/oberdiek/kvsetkeys.sty\n",
            "(/usr/share/texlive/texmf-dist/tex/generic/oberdiek/infwarerr.sty)\n",
            "(/usr/share/texlive/texmf-dist/tex/generic/oberdiek/etexcmds.sty\n",
            "(/usr/share/texlive/texmf-dist/tex/generic/oberdiek/ifluatex.sty))))\n",
            "(/usr/share/texlive/texmf-dist/tex/generic/oberdiek/pdftexcmds.sty))\n",
            "(/usr/share/texlive/texmf-dist/tex/latex/hyperref/hyperref.sty\n",
            "(/usr/share/texlive/texmf-dist/tex/generic/oberdiek/hobsub-hyperref.sty\n",
            "(/usr/share/texlive/texmf-dist/tex/generic/oberdiek/hobsub-generic.sty))\n",
            "(/usr/share/texlive/texmf-dist/tex/latex/oberdiek/auxhook.sty)\n",
            "(/usr/share/texlive/texmf-dist/tex/latex/hyperref/pd1enc.def)\n",
            "(/usr/share/texlive/texmf-dist/tex/latex/latexconfig/hyperref.cfg)\n",
            "(/usr/share/texlive/texmf-dist/tex/latex/url/url.sty))\n",
            "(/usr/share/texlive/texmf-dist/tex/latex/hyperref/hxetex.def\n",
            "(/usr/share/texlive/texmf-dist/tex/latex/hyperref/puenc.def)\n",
            "(/usr/share/texlive/texmf-dist/tex/generic/oberdiek/stringenc.sty)\n",
            "(/usr/share/texlive/texmf-dist/tex/latex/oberdiek/rerunfilecheck.sty))\n",
            "(/usr/share/texlive/texmf-dist/tex/latex/tools/longtable.sty)\n",
            "(/usr/share/texlive/texmf-dist/tex/latex/booktabs/booktabs.sty)\n",
            "(/usr/share/texlive/texmf-dist/tex/latex/enumitem/enumitem.sty)\n",
            "(/usr/share/texlive/texmf-dist/tex/generic/ulem/ulem.sty)\n",
            "(/usr/share/texlive/texmf-dist/tex/latex/jknapltx/mathrsfs.sty)\n",
            "No file notebook.aux.\n",
            "(/usr/share/texlive/texmf-dist/tex/latex/base/ts1cmr.fd)\n",
            "(/usr/share/texlive/texmf-dist/tex/latex/psnfss/t1ppl.fd)\n",
            "ABD: EveryShipout initializing macros\n",
            "(/usr/share/texlive/texmf-dist/tex/latex/caption/ltcaption.sty)\n",
            "*geometry* driver: auto-detecting\n",
            "*geometry* detected driver: xetex\n",
            "*geometry* verbose mode - [ preamble ] result:\n",
            "* driver: xetex\n",
            "* paper: <default>\n",
            "* layout: <same size as paper>\n",
            "* layoutoffset:(h,v)=(0.0pt,0.0pt)\n",
            "* modes: \n",
            "* h-part:(L,W,R)=(72.26999pt, 469.75502pt, 72.26999pt)\n",
            "* v-part:(T,H,B)=(72.26999pt, 650.43001pt, 72.26999pt)\n",
            "* \\paperwidth=614.295pt\n",
            "* \\paperheight=794.96999pt\n",
            "* \\textwidth=469.75502pt\n",
            "* \\textheight=650.43001pt\n",
            "* \\oddsidemargin=0.0pt\n",
            "* \\evensidemargin=0.0pt\n",
            "* \\topmargin=-37.0pt\n",
            "* \\headheight=12.0pt\n",
            "* \\headsep=25.0pt\n",
            "* \\topskip=11.0pt\n",
            "* \\footskip=30.0pt\n",
            "* \\marginparwidth=59.0pt\n",
            "* \\marginparsep=10.0pt\n",
            "* \\columnsep=10.0pt\n",
            "* \\skip\\footins=10.0pt plus 4.0pt minus 2.0pt\n",
            "* \\hoffset=0.0pt\n",
            "* \\voffset=0.0pt\n",
            "* \\mag=1000\n",
            "* \\@twocolumnfalse\n",
            "* \\@twosidefalse\n",
            "* \\@mparswitchfalse\n",
            "* \\@reversemarginfalse\n",
            "* (1in=72.27pt=25.4mm, 1cm=28.453pt)\n",
            "\n",
            "(/usr/share/texlive/texmf-dist/tex/latex/ucs/ucsencs.def)\n",
            "(/usr/share/texlive/texmf-dist/tex/latex/hyperref/nameref.sty\n",
            "(/usr/share/texlive/texmf-dist/tex/generic/oberdiek/gettitlestring.sty))\n",
            "\n",
            "Package hyperref Warning: Rerun to get /PageLabels entry.\n",
            "\n",
            "(/usr/share/texlive/texmf-dist/tex/latex/psnfss/ot1ppl.fd)\n",
            "(/usr/share/texlive/texmf-dist/tex/latex/psnfss/omlzplm.fd)\n",
            "(/usr/share/texlive/texmf-dist/tex/latex/psnfss/omszplm.fd)\n",
            "(/usr/share/texlive/texmf-dist/tex/latex/psnfss/omxzplm.fd)\n",
            "(/usr/share/texlive/texmf-dist/tex/latex/psnfss/ot1zplm.fd)\n",
            "(/usr/share/texlive/texmf-dist/tex/latex/jknapltx/ursfs.fd)\n",
            "\n",
            "LaTeX Warning: No \\author given.\n",
            "\n",
            "(/usr/share/texlive/texmf-dist/tex/generic/oberdiek/se-ascii-print.def)\n",
            "[1] (/usr/share/texlive/texmf-dist/tex/latex/psnfss/ts1ppl.fd) [2]\n",
            "Underfull \\hbox (badness 1968) in paragraph at lines 503--506\n",
            "[]\\T1/ppl/m/n/10.95 Allow vi-sual.py to take di-rec-tory param. if none ex-ist,\n",
            " de-fault to /content/CIS-\n",
            "(/usr/share/texmf/tex/latex/lm/t1lmtt.fd)\n",
            "(/usr/share/texmf/tex/latex/lm/ts1lmtt.fd)\n",
            "Overfull \\hbox (59.12846pt too wide) in paragraph at lines 551--551\n",
            "[]\\T1/lmtt/m/n/10.95 document.querySelector(\\TS1/lmtt/m/n/10.95 '\\T1/lmtt/m/n/1\n",
            "0.95 colab-connect-button\\TS1/lmtt/m/n/10.95 '\\T1/lmtt/m/n/10.95 ).shadowRoot.g\n",
            "etElementById(\\TS1/lmtt/m/n/10.95 '\\T1/lmtt/m/n/10.95 connect\\TS1/lmtt/m/n/10.9\n",
            "5 '\\T1/lmtt/m/n/10.95 ).click();[] \n",
            "[3] [4] [5] [6]\n",
            "Underfull \\hbox (badness 7256) in paragraph at lines 779--781\n",
            "[]\\T1/ppl/m/n/10.95 These mea-sure-ment stan-dards and more are dis-cussed in t\n",
            "he project di-rec-tory's\n",
            "[7]\n",
            "\n",
            "LaTeX Warning: Reference `results_comparision' on page 8 undefined on input lin\n",
            "e 892.\n",
            "\n",
            "[8]\n",
            "\n",
            "LaTeX Warning: Reference `results_comparision' on page 9 undefined on input lin\n",
            "e 941.\n",
            "\n",
            "[9]\n",
            "\n",
            "LaTeX Warning: Reference `results_comparision' on page 10 undefined on input li\n",
            "ne 1005.\n",
            "\n",
            "[10]\n",
            "\n",
            "LaTeX Warning: Reference `results_comparision' on page 11 undefined on input li\n",
            "ne 1054.\n",
            "\n",
            "[11]\n",
            "\n",
            "LaTeX Warning: Reference `results_comparision' on page 12 undefined on input li\n",
            "ne 1118.\n",
            "\n",
            "[12]\n",
            "\n",
            "LaTeX Warning: Reference `results_comparision' on page 13 undefined on input li\n",
            "ne 1167.\n",
            "\n",
            "[13]\n",
            "\n",
            "LaTeX Warning: Reference `results_comparision' on page 14 undefined on input li\n",
            "ne 1229.\n",
            "\n",
            "[14]\n",
            "\n",
            "LaTeX Warning: Reference `results_comparision' on page 15 undefined on input li\n",
            "ne 1278.\n",
            "\n",
            "[15]\n",
            "\n",
            "LaTeX Warning: Reference `results_comparision' on page 16 undefined on input li\n",
            "ne 1340.\n",
            "\n",
            "[16]\n",
            "\n",
            "LaTeX Warning: Reference `results_comparision' on page 17 undefined on input li\n",
            "ne 1389.\n",
            "\n",
            "[17]\n",
            "Underfull \\hbox (badness 10000) in paragraph at lines 1482--1483\n",
            "\n",
            "[18]\n",
            "! Undefined control sequence.\n",
            "l.1509 Documentation\\MileStone\n",
            "                              3\\Stephanie\\_Jackson\\_Ravjot\\_CIS700\\_M3\\_Cont...\n",
            "\n",
            "? \n",
            "! Emergency stop.\n",
            "l.1509 Documentation\\MileStone\n",
            "                              3\\Stephanie\\_Jackson\\_Ravjot\\_CIS700\\_M3\\_Cont...\n",
            "\n",
            "Output written on notebook.pdf (18 pages).\n",
            "Transcript written on notebook.log.\n",
            "\n",
            "[NbConvertApp] PDF successfully created\n",
            "[NbConvertApp] Writing 135295 bytes to results/milestone3.pdf\n",
            "[NbConvertApp] Converting notebook milestone3.ipynb to HTML\n",
            "[NbConvertApp] Writing 450096 bytes to results/milestone3.html\n"
          ],
          "name": "stdout"
        }
      ]
    },
    {
      "cell_type": "code",
      "metadata": {
        "id": "T6ZFU-LX7JSs"
      },
      "source": [
        "#Download results/midterm dir\n",
        "!zip -r results.zip results/\n",
        "from google.colab import files\n",
        "files.download(\"results.zip\")"
      ],
      "execution_count": null,
      "outputs": []
    }
  ]
}